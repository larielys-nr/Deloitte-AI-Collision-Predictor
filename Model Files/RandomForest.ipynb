{
 "cells": [
  {
   "cell_type": "code",
   "execution_count": 2,
   "id": "0093874f-fc0a-43e8-b4c7-5868b33b961f",
   "metadata": {},
   "outputs": [],
   "source": [
    "import numpy as np\n",
    "import pandas as pd\n",
    "import os"
   ]
  },
  {
   "cell_type": "code",
   "execution_count": 4,
   "id": "14c84201-f84f-4162-acc3-d1fe8f8b6425",
   "metadata": {},
   "outputs": [],
   "source": [
    "from sklearn.tree import DecisionTreeClassifier\n",
    "import matplotlib.pyplot as plt\n",
    "from sklearn.tree import plot_tree\n",
    "from sklearn.model_selection import KFold"
   ]
  },
  {
   "cell_type": "code",
   "execution_count": 5,
   "id": "03185574-66d1-4232-a8db-dede5ec212f3",
   "metadata": {},
   "outputs": [],
   "source": [
    "from sklearn.metrics import confusion_matrix\n",
    "from sklearn.metrics import precision_score\n",
    "from sklearn.metrics import recall_score "
   ]
  },
  {
   "cell_type": "code",
   "execution_count": 7,
   "id": "76c3c6e6-6eaf-499d-8b6c-d246f83fcf7f",
   "metadata": {},
   "outputs": [
    {
     "name": "stdout",
     "output_type": "stream",
     "text": [
      "<class 'pandas.core.frame.DataFrame'>\n",
      "RangeIndex: 162634 entries, 0 to 162633\n",
      "Columns: 103 entries, event_id to AP\n",
      "dtypes: float64(98), int64(4), object(1)\n",
      "memory usage: 127.8+ MB\n"
     ]
    },
    {
     "data": {
      "text/html": [
       "<div>\n",
       "<style scoped>\n",
       "    .dataframe tbody tr th:only-of-type {\n",
       "        vertical-align: middle;\n",
       "    }\n",
       "\n",
       "    .dataframe tbody tr th {\n",
       "        vertical-align: top;\n",
       "    }\n",
       "\n",
       "    .dataframe thead th {\n",
       "        text-align: right;\n",
       "    }\n",
       "</style>\n",
       "<table border=\"1\" class=\"dataframe\">\n",
       "  <thead>\n",
       "    <tr style=\"text-align: right;\">\n",
       "      <th></th>\n",
       "      <th>event_id</th>\n",
       "      <th>time_to_tca</th>\n",
       "      <th>mission_id</th>\n",
       "      <th>risk</th>\n",
       "      <th>max_risk_estimate</th>\n",
       "      <th>max_risk_scaling</th>\n",
       "      <th>miss_distance</th>\n",
       "      <th>relative_speed</th>\n",
       "      <th>relative_position_r</th>\n",
       "      <th>relative_position_t</th>\n",
       "      <th>...</th>\n",
       "      <th>t_sigma_rdot</th>\n",
       "      <th>c_sigma_rdot</th>\n",
       "      <th>t_sigma_tdot</th>\n",
       "      <th>c_sigma_tdot</th>\n",
       "      <th>t_sigma_ndot</th>\n",
       "      <th>c_sigma_ndot</th>\n",
       "      <th>F10</th>\n",
       "      <th>F3M</th>\n",
       "      <th>SSN</th>\n",
       "      <th>AP</th>\n",
       "    </tr>\n",
       "  </thead>\n",
       "  <tbody>\n",
       "    <tr>\n",
       "      <th>0</th>\n",
       "      <td>0</td>\n",
       "      <td>1.566798</td>\n",
       "      <td>5</td>\n",
       "      <td>-10.204955</td>\n",
       "      <td>-7.834756</td>\n",
       "      <td>8.602101</td>\n",
       "      <td>14923.0</td>\n",
       "      <td>13792.0</td>\n",
       "      <td>453.8</td>\n",
       "      <td>5976.6</td>\n",
       "      <td>...</td>\n",
       "      <td>0.147350</td>\n",
       "      <td>58.272095</td>\n",
       "      <td>0.004092</td>\n",
       "      <td>0.165044</td>\n",
       "      <td>0.002987</td>\n",
       "      <td>0.386462</td>\n",
       "      <td>89.0</td>\n",
       "      <td>83.0</td>\n",
       "      <td>42.0</td>\n",
       "      <td>11.0</td>\n",
       "    </tr>\n",
       "    <tr>\n",
       "      <th>1</th>\n",
       "      <td>0</td>\n",
       "      <td>1.207494</td>\n",
       "      <td>5</td>\n",
       "      <td>-10.355758</td>\n",
       "      <td>-7.848937</td>\n",
       "      <td>8.956374</td>\n",
       "      <td>14544.0</td>\n",
       "      <td>13792.0</td>\n",
       "      <td>474.3</td>\n",
       "      <td>5821.2</td>\n",
       "      <td>...</td>\n",
       "      <td>0.059672</td>\n",
       "      <td>57.966413</td>\n",
       "      <td>0.003753</td>\n",
       "      <td>0.164383</td>\n",
       "      <td>0.002933</td>\n",
       "      <td>0.386393</td>\n",
       "      <td>89.0</td>\n",
       "      <td>83.0</td>\n",
       "      <td>42.0</td>\n",
       "      <td>11.0</td>\n",
       "    </tr>\n",
       "    <tr>\n",
       "      <th>2</th>\n",
       "      <td>0</td>\n",
       "      <td>0.952193</td>\n",
       "      <td>5</td>\n",
       "      <td>-10.345631</td>\n",
       "      <td>-7.847406</td>\n",
       "      <td>8.932195</td>\n",
       "      <td>14475.0</td>\n",
       "      <td>13792.0</td>\n",
       "      <td>474.6</td>\n",
       "      <td>5796.2</td>\n",
       "      <td>...</td>\n",
       "      <td>0.039258</td>\n",
       "      <td>57.907599</td>\n",
       "      <td>0.003576</td>\n",
       "      <td>0.164352</td>\n",
       "      <td>0.002967</td>\n",
       "      <td>0.386381</td>\n",
       "      <td>89.0</td>\n",
       "      <td>83.0</td>\n",
       "      <td>42.0</td>\n",
       "      <td>11.0</td>\n",
       "    </tr>\n",
       "    <tr>\n",
       "      <th>3</th>\n",
       "      <td>0</td>\n",
       "      <td>0.579669</td>\n",
       "      <td>5</td>\n",
       "      <td>-10.337809</td>\n",
       "      <td>-7.845880</td>\n",
       "      <td>8.913444</td>\n",
       "      <td>14579.0</td>\n",
       "      <td>13792.0</td>\n",
       "      <td>472.7</td>\n",
       "      <td>5838.9</td>\n",
       "      <td>...</td>\n",
       "      <td>0.022066</td>\n",
       "      <td>57.993905</td>\n",
       "      <td>0.003298</td>\n",
       "      <td>0.164309</td>\n",
       "      <td>0.002918</td>\n",
       "      <td>0.386400</td>\n",
       "      <td>89.0</td>\n",
       "      <td>83.0</td>\n",
       "      <td>40.0</td>\n",
       "      <td>14.0</td>\n",
       "    </tr>\n",
       "    <tr>\n",
       "      <th>4</th>\n",
       "      <td>0</td>\n",
       "      <td>0.257806</td>\n",
       "      <td>5</td>\n",
       "      <td>-10.391260</td>\n",
       "      <td>-7.852942</td>\n",
       "      <td>9.036838</td>\n",
       "      <td>14510.0</td>\n",
       "      <td>13792.0</td>\n",
       "      <td>478.7</td>\n",
       "      <td>5811.1</td>\n",
       "      <td>...</td>\n",
       "      <td>0.015075</td>\n",
       "      <td>57.946717</td>\n",
       "      <td>0.003670</td>\n",
       "      <td>0.164172</td>\n",
       "      <td>0.003220</td>\n",
       "      <td>0.386388</td>\n",
       "      <td>89.0</td>\n",
       "      <td>83.0</td>\n",
       "      <td>40.0</td>\n",
       "      <td>14.0</td>\n",
       "    </tr>\n",
       "  </tbody>\n",
       "</table>\n",
       "<p>5 rows × 103 columns</p>\n",
       "</div>"
      ],
      "text/plain": [
       "   event_id  time_to_tca  mission_id       risk  max_risk_estimate  \\\n",
       "0         0     1.566798           5 -10.204955          -7.834756   \n",
       "1         0     1.207494           5 -10.355758          -7.848937   \n",
       "2         0     0.952193           5 -10.345631          -7.847406   \n",
       "3         0     0.579669           5 -10.337809          -7.845880   \n",
       "4         0     0.257806           5 -10.391260          -7.852942   \n",
       "\n",
       "   max_risk_scaling  miss_distance  relative_speed  relative_position_r  \\\n",
       "0          8.602101        14923.0         13792.0                453.8   \n",
       "1          8.956374        14544.0         13792.0                474.3   \n",
       "2          8.932195        14475.0         13792.0                474.6   \n",
       "3          8.913444        14579.0         13792.0                472.7   \n",
       "4          9.036838        14510.0         13792.0                478.7   \n",
       "\n",
       "   relative_position_t  ...  t_sigma_rdot  c_sigma_rdot  t_sigma_tdot  \\\n",
       "0               5976.6  ...      0.147350     58.272095      0.004092   \n",
       "1               5821.2  ...      0.059672     57.966413      0.003753   \n",
       "2               5796.2  ...      0.039258     57.907599      0.003576   \n",
       "3               5838.9  ...      0.022066     57.993905      0.003298   \n",
       "4               5811.1  ...      0.015075     57.946717      0.003670   \n",
       "\n",
       "   c_sigma_tdot  t_sigma_ndot  c_sigma_ndot   F10   F3M   SSN    AP  \n",
       "0      0.165044      0.002987      0.386462  89.0  83.0  42.0  11.0  \n",
       "1      0.164383      0.002933      0.386393  89.0  83.0  42.0  11.0  \n",
       "2      0.164352      0.002967      0.386381  89.0  83.0  42.0  11.0  \n",
       "3      0.164309      0.002918      0.386400  89.0  83.0  40.0  14.0  \n",
       "4      0.164172      0.003220      0.386388  89.0  83.0  40.0  14.0  \n",
       "\n",
       "[5 rows x 103 columns]"
      ]
     },
     "execution_count": 7,
     "metadata": {},
     "output_type": "execute_result"
    }
   ],
   "source": [
    "collision_train = pd.read_csv('/Users/rakeshmehta/Desktop/AI-Collision-Algo/Data/train_data.csv')\n",
    "collision_train.info()\n",
    "collision_train.head()"
   ]
  },
  {
   "cell_type": "code",
   "execution_count": 9,
   "id": "a7266f48-db51-4663-bcda-bf10a4570799",
   "metadata": {},
   "outputs": [
    {
     "name": "stdout",
     "output_type": "stream",
     "text": [
      "<class 'pandas.core.frame.DataFrame'>\n",
      "RangeIndex: 500 entries, 0 to 499\n",
      "Columns: 103 entries, event_id to AP\n",
      "dtypes: float64(98), int64(4), object(1)\n",
      "memory usage: 402.5+ KB\n"
     ]
    },
    {
     "data": {
      "text/html": [
       "<div>\n",
       "<style scoped>\n",
       "    .dataframe tbody tr th:only-of-type {\n",
       "        vertical-align: middle;\n",
       "    }\n",
       "\n",
       "    .dataframe tbody tr th {\n",
       "        vertical-align: top;\n",
       "    }\n",
       "\n",
       "    .dataframe thead th {\n",
       "        text-align: right;\n",
       "    }\n",
       "</style>\n",
       "<table border=\"1\" class=\"dataframe\">\n",
       "  <thead>\n",
       "    <tr style=\"text-align: right;\">\n",
       "      <th></th>\n",
       "      <th>event_id</th>\n",
       "      <th>time_to_tca</th>\n",
       "      <th>mission_id</th>\n",
       "      <th>risk</th>\n",
       "      <th>max_risk_estimate</th>\n",
       "      <th>max_risk_scaling</th>\n",
       "      <th>miss_distance</th>\n",
       "      <th>relative_speed</th>\n",
       "      <th>relative_position_r</th>\n",
       "      <th>relative_position_t</th>\n",
       "      <th>...</th>\n",
       "      <th>t_sigma_rdot</th>\n",
       "      <th>c_sigma_rdot</th>\n",
       "      <th>t_sigma_tdot</th>\n",
       "      <th>c_sigma_tdot</th>\n",
       "      <th>t_sigma_ndot</th>\n",
       "      <th>c_sigma_ndot</th>\n",
       "      <th>F10</th>\n",
       "      <th>F3M</th>\n",
       "      <th>SSN</th>\n",
       "      <th>AP</th>\n",
       "    </tr>\n",
       "  </thead>\n",
       "  <tbody>\n",
       "    <tr>\n",
       "      <th>0</th>\n",
       "      <td>0</td>\n",
       "      <td>1.566798</td>\n",
       "      <td>5</td>\n",
       "      <td>-10.204955</td>\n",
       "      <td>-7.834756</td>\n",
       "      <td>8.602101</td>\n",
       "      <td>14923.0</td>\n",
       "      <td>13792.0</td>\n",
       "      <td>453.8</td>\n",
       "      <td>5976.6</td>\n",
       "      <td>...</td>\n",
       "      <td>0.147350</td>\n",
       "      <td>58.272095</td>\n",
       "      <td>0.004092</td>\n",
       "      <td>0.165044</td>\n",
       "      <td>0.002987</td>\n",
       "      <td>0.386462</td>\n",
       "      <td>89.0</td>\n",
       "      <td>83.0</td>\n",
       "      <td>42.0</td>\n",
       "      <td>11.0</td>\n",
       "    </tr>\n",
       "    <tr>\n",
       "      <th>1</th>\n",
       "      <td>0</td>\n",
       "      <td>1.207494</td>\n",
       "      <td>5</td>\n",
       "      <td>-10.355758</td>\n",
       "      <td>-7.848937</td>\n",
       "      <td>8.956374</td>\n",
       "      <td>14544.0</td>\n",
       "      <td>13792.0</td>\n",
       "      <td>474.3</td>\n",
       "      <td>5821.2</td>\n",
       "      <td>...</td>\n",
       "      <td>0.059672</td>\n",
       "      <td>57.966413</td>\n",
       "      <td>0.003753</td>\n",
       "      <td>0.164383</td>\n",
       "      <td>0.002933</td>\n",
       "      <td>0.386393</td>\n",
       "      <td>89.0</td>\n",
       "      <td>83.0</td>\n",
       "      <td>42.0</td>\n",
       "      <td>11.0</td>\n",
       "    </tr>\n",
       "    <tr>\n",
       "      <th>2</th>\n",
       "      <td>0</td>\n",
       "      <td>0.952193</td>\n",
       "      <td>5</td>\n",
       "      <td>-10.345631</td>\n",
       "      <td>-7.847406</td>\n",
       "      <td>8.932195</td>\n",
       "      <td>14475.0</td>\n",
       "      <td>13792.0</td>\n",
       "      <td>474.6</td>\n",
       "      <td>5796.2</td>\n",
       "      <td>...</td>\n",
       "      <td>0.039258</td>\n",
       "      <td>57.907599</td>\n",
       "      <td>0.003576</td>\n",
       "      <td>0.164352</td>\n",
       "      <td>0.002967</td>\n",
       "      <td>0.386381</td>\n",
       "      <td>89.0</td>\n",
       "      <td>83.0</td>\n",
       "      <td>42.0</td>\n",
       "      <td>11.0</td>\n",
       "    </tr>\n",
       "    <tr>\n",
       "      <th>3</th>\n",
       "      <td>0</td>\n",
       "      <td>0.579669</td>\n",
       "      <td>5</td>\n",
       "      <td>-10.337809</td>\n",
       "      <td>-7.845880</td>\n",
       "      <td>8.913444</td>\n",
       "      <td>14579.0</td>\n",
       "      <td>13792.0</td>\n",
       "      <td>472.7</td>\n",
       "      <td>5838.9</td>\n",
       "      <td>...</td>\n",
       "      <td>0.022066</td>\n",
       "      <td>57.993905</td>\n",
       "      <td>0.003298</td>\n",
       "      <td>0.164309</td>\n",
       "      <td>0.002918</td>\n",
       "      <td>0.386400</td>\n",
       "      <td>89.0</td>\n",
       "      <td>83.0</td>\n",
       "      <td>40.0</td>\n",
       "      <td>14.0</td>\n",
       "    </tr>\n",
       "    <tr>\n",
       "      <th>4</th>\n",
       "      <td>0</td>\n",
       "      <td>0.257806</td>\n",
       "      <td>5</td>\n",
       "      <td>-10.391260</td>\n",
       "      <td>-7.852942</td>\n",
       "      <td>9.036838</td>\n",
       "      <td>14510.0</td>\n",
       "      <td>13792.0</td>\n",
       "      <td>478.7</td>\n",
       "      <td>5811.1</td>\n",
       "      <td>...</td>\n",
       "      <td>0.015075</td>\n",
       "      <td>57.946717</td>\n",
       "      <td>0.003670</td>\n",
       "      <td>0.164172</td>\n",
       "      <td>0.003220</td>\n",
       "      <td>0.386388</td>\n",
       "      <td>89.0</td>\n",
       "      <td>83.0</td>\n",
       "      <td>40.0</td>\n",
       "      <td>14.0</td>\n",
       "    </tr>\n",
       "  </tbody>\n",
       "</table>\n",
       "<p>5 rows × 103 columns</p>\n",
       "</div>"
      ],
      "text/plain": [
       "   event_id  time_to_tca  mission_id       risk  max_risk_estimate  \\\n",
       "0         0     1.566798           5 -10.204955          -7.834756   \n",
       "1         0     1.207494           5 -10.355758          -7.848937   \n",
       "2         0     0.952193           5 -10.345631          -7.847406   \n",
       "3         0     0.579669           5 -10.337809          -7.845880   \n",
       "4         0     0.257806           5 -10.391260          -7.852942   \n",
       "\n",
       "   max_risk_scaling  miss_distance  relative_speed  relative_position_r  \\\n",
       "0          8.602101        14923.0         13792.0                453.8   \n",
       "1          8.956374        14544.0         13792.0                474.3   \n",
       "2          8.932195        14475.0         13792.0                474.6   \n",
       "3          8.913444        14579.0         13792.0                472.7   \n",
       "4          9.036838        14510.0         13792.0                478.7   \n",
       "\n",
       "   relative_position_t  ...  t_sigma_rdot  c_sigma_rdot  t_sigma_tdot  \\\n",
       "0               5976.6  ...      0.147350     58.272095      0.004092   \n",
       "1               5821.2  ...      0.059672     57.966413      0.003753   \n",
       "2               5796.2  ...      0.039258     57.907599      0.003576   \n",
       "3               5838.9  ...      0.022066     57.993905      0.003298   \n",
       "4               5811.1  ...      0.015075     57.946717      0.003670   \n",
       "\n",
       "   c_sigma_tdot  t_sigma_ndot  c_sigma_ndot   F10   F3M   SSN    AP  \n",
       "0      0.165044      0.002987      0.386462  89.0  83.0  42.0  11.0  \n",
       "1      0.164383      0.002933      0.386393  89.0  83.0  42.0  11.0  \n",
       "2      0.164352      0.002967      0.386381  89.0  83.0  42.0  11.0  \n",
       "3      0.164309      0.002918      0.386400  89.0  83.0  40.0  14.0  \n",
       "4      0.164172      0.003220      0.386388  89.0  83.0  40.0  14.0  \n",
       "\n",
       "[5 rows x 103 columns]"
      ]
     },
     "execution_count": 9,
     "metadata": {},
     "output_type": "execute_result"
    }
   ],
   "source": [
    "collision_train = pd.read_csv('/Users/rakeshmehta/Desktop/AI-Collision-Algo/Data/train_data.csv')\n",
    "\n",
    "# Extract the first 500 rows\n",
    "collision_train = collision_train.head(500)\n",
    "\n",
    "# Display information about the subset DataFrame\n",
    "collision_train.info()\n",
    "\n",
    "# Display the first few rows of the subset DataFrame\n",
    "collision_train.head()"
   ]
  },
  {
   "cell_type": "markdown",
   "id": "8861fcc8-73f0-43ed-bcaa-81cff07f3aa5",
   "metadata": {},
   "source": [
    "Dummy encoding converts a variable that has n possible distinct values, into n-1 binary variables. \n",
    "\n",
    "For regression-type problems Dummy Encoding is preferable as we wish to avoid perfect collinearity between the binary variables that are being generated by the encoding. In the classification problem however, we are not concerned about inflating factors and hence can choose either of the two schemes. They will produce equivalent encodings.\n",
    "\n",
    "By default pd.get_dummies() does one-hot enocoding. To do dummy encoding, you need to pass the parameter drop_first=True."
   ]
  },
  {
   "cell_type": "code",
   "execution_count": 10,
   "id": "44a3270d-b441-424f-8207-8cc653ffeaa5",
   "metadata": {},
   "outputs": [
    {
     "name": "stdout",
     "output_type": "stream",
     "text": [
      "Categorical columns:\n",
      "Index(['c_object_type'], dtype='object')\n"
     ]
    }
   ],
   "source": [
    "\n",
    "categorical_columns = collision_train.select_dtypes(include=['object']).columns\n",
    "\n",
    "print(\"Categorical columns:\")\n",
    "print(categorical_columns)\n"
   ]
  },
  {
   "cell_type": "markdown",
   "id": "7c9f7c43-9b7d-4cbc-8aff-481fa1bbd26e",
   "metadata": {},
   "source": [
    "import pandas as pd\n",
    "#FIRST MAYBE OPTION\n",
    "\n",
    "collision_train_copy = collision_train.copy()\n",
    "\n",
    "#Replace missing values in 'c_object_type' column with the mode of non-NaN values\n",
    "mode_c_object_type = collision_train_copy['c_object_type'].mode()[0]  # Get the mode value\n",
    "collision_train_copy['c_object_type'].fillna(mode_c_object_type, inplace=True)\n",
    "\n",
    "#Creating dummy variables\n",
    "dummy_columns = pd.get_dummies(collision_train_copy['c_object_type'], prefix='c_object_type')\n",
    "\n",
    "#Concatenating the original DataFrame with the dummy variables\n",
    "new_collision_train = pd.concat([collision_train_copy, dummy_columns], axis=1)\n",
    "\n",
    "#Dropping the original 'c_object_type' column\n",
    "new_collision_train.drop('c_object_type', axis=1, inplace=True)\n",
    "\n",
    "#Displaying the new DataFrame\n",
    "print(new_collision_train)\n"
   ]
  },
  {
   "cell_type": "code",
   "execution_count": 11,
   "id": "eaf938a7-9c0e-4802-bb84-945329a08bf7",
   "metadata": {},
   "outputs": [
    {
     "name": "stdout",
     "output_type": "stream",
     "text": [
      "     event_id  time_to_tca  mission_id       risk  max_risk_estimate  \\\n",
      "5           1     6.530455           5  -7.561299          -7.254301   \n",
      "6           1     5.561646           5  -9.315693          -7.468904   \n",
      "7           1     5.226504           5  -7.422508          -7.051001   \n",
      "8           1     3.570013           5  -9.248105          -7.327533   \n",
      "29          3     6.950088          19  -9.568315          -7.057793   \n",
      "..        ...          ...         ...        ...                ...   \n",
      "489        34     1.481907           7 -11.735418          -5.502103   \n",
      "490        34     1.165959           7 -11.844968          -5.481881   \n",
      "491        34     0.811306           7 -11.801068          -5.486782   \n",
      "492        34     0.506734           7 -11.855737          -5.480697   \n",
      "493        34     0.085299           7 -11.818728          -5.478208   \n",
      "\n",
      "     max_risk_scaling  miss_distance  relative_speed  relative_position_r  \\\n",
      "5            2.746782         2392.0          3434.0                 74.3   \n",
      "6            7.223137         3587.0          3434.0                 99.0   \n",
      "7            2.956639         7882.0          3434.0                -50.0   \n",
      "8            7.425994        26899.0          3434.0                -82.0   \n",
      "29           8.965371        29654.0         13574.0                 19.2   \n",
      "..                ...            ...             ...                  ...   \n",
      "489         18.256447        18418.0         12298.0                -33.6   \n",
      "490         18.572966        17418.0         12298.0                -29.6   \n",
      "491         18.453909        17711.0         12298.0                -34.6   \n",
      "492         18.601964        17347.0         12298.0                -27.9   \n",
      "493         18.517261        17299.0         12298.0                -28.3   \n",
      "\n",
      "     relative_position_t  ...  t_sigma_tdot  c_sigma_tdot  t_sigma_ndot  \\\n",
      "5                 2317.1  ...      0.006980      0.320622      0.004199   \n",
      "6                 3475.4  ...      0.006402      0.264636      0.003725   \n",
      "7                -7638.3  ...      0.005906      0.259109      0.003588   \n",
      "8               -26067.0  ...      0.005883      0.174956      0.003408   \n",
      "29               12494.9  ...      0.006014      0.083363      0.010349   \n",
      "..                   ...  ...           ...           ...           ...   \n",
      "489              10845.3  ...      0.001956      0.036502      0.003349   \n",
      "490              10257.1  ...      0.001872      0.036478      0.003263   \n",
      "491              10426.0  ...      0.001827      0.036518      0.003244   \n",
      "492              10210.6  ...      0.001784      0.036478      0.003238   \n",
      "493              10182.9  ...      0.001627      0.036473      0.003226   \n",
      "\n",
      "     c_sigma_ndot   F10   F3M   SSN    AP  c_object_type_DEBRIS  \\\n",
      "5        0.047385  71.0  88.0   0.0   2.0                  True   \n",
      "6        0.040020  70.0  87.0  13.0  14.0                  True   \n",
      "7        0.083247  70.0  87.0  13.0  14.0                  True   \n",
      "8        0.058311  71.0  87.0  21.0   5.0                  True   \n",
      "29       0.367497  68.0  70.0   0.0  18.0                  True   \n",
      "..            ...   ...   ...   ...   ...                   ...   \n",
      "489      0.122840  71.0  74.0  13.0   7.0                  True   \n",
      "490      0.122835  71.0  74.0  13.0   7.0                  True   \n",
      "491      0.122837  71.0  73.0   0.0   4.0                  True   \n",
      "492      0.122834  71.0  73.0   0.0   4.0                  True   \n",
      "493      0.122834  71.0  73.0   0.0   4.0                  True   \n",
      "\n",
      "     c_object_type_PAYLOAD  \n",
      "5                    False  \n",
      "6                    False  \n",
      "7                    False  \n",
      "8                    False  \n",
      "29                   False  \n",
      "..                     ...  \n",
      "489                  False  \n",
      "490                  False  \n",
      "491                  False  \n",
      "492                  False  \n",
      "493                  False  \n",
      "\n",
      "[250 rows x 104 columns]\n"
     ]
    }
   ],
   "source": [
    "\n",
    "\n",
    "# Assuming collision_train is your original DataFrame\n",
    "# Copy the DataFrame to avoid chained assignment issues\n",
    "collision_train_copy = collision_train.copy()\n",
    "\n",
    "# Drop rows with any NaN values\n",
    "collision_train_copy.dropna(inplace=True)\n",
    "\n",
    "# Replace missing values in 'c_object_type' column with the mode of non-NaN values\n",
    "mode_c_object_type = collision_train_copy['c_object_type'].mode()[0]  # Get the mode value\n",
    "collision_train_copy['c_object_type'].fillna(mode_c_object_type, inplace=True)\n",
    "\n",
    "# Creating dummy variables\n",
    "dummy_columns = pd.get_dummies(collision_train_copy['c_object_type'], prefix='c_object_type')\n",
    "\n",
    "# Concatenating the original DataFrame with the dummy variables\n",
    "new_collision_train = pd.concat([collision_train_copy, dummy_columns], axis=1)\n",
    "\n",
    "# Dropping the original 'c_object_type' column\n",
    "new_collision_train.drop('c_object_type', axis=1, inplace=True)\n",
    "\n",
    "# Displaying the new DataFrame\n",
    "print(new_collision_train)\n"
   ]
  },
  {
   "cell_type": "code",
   "execution_count": 12,
   "id": "6c9f2634-e1ed-468d-9e31-d6bb3ebc67af",
   "metadata": {},
   "outputs": [
    {
     "name": "stdout",
     "output_type": "stream",
     "text": [
      "All NaN values have been replaced.\n"
     ]
    }
   ],
   "source": [
    "# Check if there are any NaN values in the DataFrame\n",
    "nan_values_exist = new_collision_train.isna().any().any()\n",
    "\n",
    "if not nan_values_exist:\n",
    "    print(\"All NaN values have been replaced.\")\n",
    "else:\n",
    "    print(\"There are still NaN values in the DataFrame.\")\n"
   ]
  },
  {
   "cell_type": "code",
   "execution_count": 13,
   "id": "afe737ba-1f98-46a7-94eb-e13c4f1cb45b",
   "metadata": {},
   "outputs": [
    {
     "name": "stdout",
     "output_type": "stream",
     "text": [
      "<class 'pandas.core.frame.DataFrame'>\n",
      "Index: 250 entries, 5 to 493\n",
      "Columns: 104 entries, event_id to c_object_type_PAYLOAD\n",
      "dtypes: bool(2), float64(98), int64(4)\n",
      "memory usage: 201.7 KB\n"
     ]
    }
   ],
   "source": [
    "#turn into int\n",
    "new_collision_train.info()"
   ]
  },
  {
   "cell_type": "code",
   "execution_count": 14,
   "id": "e191c6a8-ea25-4c5e-bf84-c2a54b5da16a",
   "metadata": {},
   "outputs": [
    {
     "name": "stdout",
     "output_type": "stream",
     "text": [
      "No missing values found.\n"
     ]
    }
   ],
   "source": [
    "# Check for missing values in the DataFrame new_collision_train\n",
    "missing_values = new_collision_train.isnull().any()\n",
    "\n",
    "# Print columns with missing values, if any\n",
    "if missing_values.any():\n",
    "    print(\"Columns with missing values:\")\n",
    "    print(missing_values[missing_values].index.tolist())\n",
    "else:\n",
    "    print(\"No missing values found.\")\n",
    "\n"
   ]
  },
  {
   "cell_type": "code",
   "execution_count": 15,
   "id": "12c1f912-435b-4b7b-8977-355d4976a09c",
   "metadata": {},
   "outputs": [
    {
     "name": "stdout",
     "output_type": "stream",
     "text": [
      "No infinite values found.\n"
     ]
    }
   ],
   "source": [
    "# Check for infinite values in the DataFrame new_collision_train\n",
    "infinite_values = np.isinf(new_collision_train).any()\n",
    "\n",
    "# Print columns with infinite values, if any\n",
    "if infinite_values.any():\n",
    "    print(\"Columns with infinite values:\")\n",
    "    print(infinite_values[infinite_values].index.tolist())\n",
    "else:\n",
    "    print(\"No infinite values found.\")"
   ]
  },
  {
   "cell_type": "code",
   "execution_count": 16,
   "id": "84196056-1ec2-4c56-9029-ccc6bdc1cfbe",
   "metadata": {},
   "outputs": [
    {
     "name": "stdout",
     "output_type": "stream",
     "text": [
      "Range of each numerical feature:\n",
      "event_id                33.000000\n",
      "time_to_tca              6.944281\n",
      "mission_id              18.000000\n",
      "risk                    25.950121\n",
      "max_risk_estimate        4.794287\n",
      "                         ...     \n",
      "c_sigma_ndot         79053.657825\n",
      "F10                     23.000000\n",
      "F3M                     23.000000\n",
      "SSN                     75.000000\n",
      "AP                      46.000000\n",
      "Length: 102, dtype: float64\n",
      "\n",
      "Standard deviation of each numerical feature:\n",
      "event_id               10.735673\n",
      "time_to_tca             1.993550\n",
      "mission_id              6.861289\n",
      "risk                   10.087540\n",
      "max_risk_estimate       1.035093\n",
      "                        ...     \n",
      "c_sigma_ndot         7056.553696\n",
      "F10                     5.288206\n",
      "F3M                     5.682848\n",
      "SSN                    16.765668\n",
      "AP                      6.237578\n",
      "Length: 102, dtype: float64\n"
     ]
    }
   ],
   "source": [
    "# Compute the range of each numerical feature\n",
    "feature_ranges = new_collision_train.select_dtypes(include=np.number).apply(lambda x: x.max() - x.min())\n",
    "\n",
    "# Compute the standard deviation of each numerical feature\n",
    "feature_std = new_collision_train.select_dtypes(include=np.number).apply(lambda x: x.std())\n",
    "\n",
    "# Print the range and standard deviation of each numerical feature\n",
    "print(\"Range of each numerical feature:\")\n",
    "print(feature_ranges)\n",
    "print(\"\\nStandard deviation of each numerical feature:\")\n",
    "print(feature_std)\n"
   ]
  },
  {
   "cell_type": "code",
   "execution_count": 17,
   "id": "8dd729d6-34b8-4174-91cf-f3d7c9afe43e",
   "metadata": {},
   "outputs": [],
   "source": [
    "from sklearn.preprocessing import MinMaxScaler\n",
    "\n",
    "# Initialize MinMaxScaler\n",
    "scaler = MinMaxScaler()\n",
    "\n",
    "# Fit and transform the data\n",
    "new_collision_train_scaled = scaler.fit_transform(new_collision_train)\n",
    "\n",
    "# Convert the scaled data back to a DataFrame\n",
    "new_collision_train_scaled = pd.DataFrame(new_collision_train_scaled, columns=new_collision_train.columns)\n"
   ]
  },
  {
   "cell_type": "code",
   "execution_count": 18,
   "id": "8455d036-1804-45e5-96e3-7f4524419c39",
   "metadata": {},
   "outputs": [],
   "source": [
    "X_train = new_collision_train_scaled.drop(columns=['time_to_tca']).values\n",
    "y_train = new_collision_train_scaled['time_to_tca'].values"
   ]
  },
  {
   "cell_type": "code",
   "execution_count": 19,
   "id": "28f58882-e3b2-4a70-9a2d-0ce56f51c559",
   "metadata": {},
   "outputs": [
    {
     "name": "stdout",
     "output_type": "stream",
     "text": [
      "Requirement already satisfied: tqdm in /Users/rakeshmehta/anaconda3/lib/python3.11/site-packages (4.65.0)\n",
      "Note: you may need to restart the kernel to use updated packages.\n"
     ]
    }
   ],
   "source": [
    "pip install tqdm\n"
   ]
  },
  {
   "cell_type": "code",
   "execution_count": 20,
   "id": "fd27c8da-d0ef-4f7a-9ca3-9b52eab660cb",
   "metadata": {},
   "outputs": [
    {
     "name": "stderr",
     "output_type": "stream",
     "text": [
      "Processing chunks: 100%|███████████████████████| 42/42 [00:00<00:00, 298.44it/s]\n",
      "Processing chunks: 100%|███████████████████████| 42/42 [00:00<00:00, 926.17it/s]\n",
      "Processing chunks: 100%|███████████████████████| 42/42 [00:00<00:00, 941.47it/s]\n",
      "Processing chunks: 100%|███████████████████████| 42/42 [00:00<00:00, 974.84it/s]\n",
      "Processing chunks: 100%|███████████████████████| 42/42 [00:00<00:00, 937.27it/s]\n",
      "Processing chunks: 100%|███████████████████████| 42/42 [00:00<00:00, 922.20it/s]\n",
      "Processing chunks: 100%|███████████████████████| 42/42 [00:00<00:00, 894.78it/s]\n",
      "Processing chunks: 100%|███████████████████████| 42/42 [00:00<00:00, 904.45it/s]\n",
      "Processing chunks: 100%|███████████████████████| 42/42 [00:00<00:00, 517.35it/s]\n",
      "Processing chunks: 100%|███████████████████████| 42/42 [00:00<00:00, 922.44it/s]\n"
     ]
    },
    {
     "data": {
      "text/html": [
       "<style>#sk-container-id-1 {color: black;}#sk-container-id-1 pre{padding: 0;}#sk-container-id-1 div.sk-toggleable {background-color: white;}#sk-container-id-1 label.sk-toggleable__label {cursor: pointer;display: block;width: 100%;margin-bottom: 0;padding: 0.3em;box-sizing: border-box;text-align: center;}#sk-container-id-1 label.sk-toggleable__label-arrow:before {content: \"▸\";float: left;margin-right: 0.25em;color: #696969;}#sk-container-id-1 label.sk-toggleable__label-arrow:hover:before {color: black;}#sk-container-id-1 div.sk-estimator:hover label.sk-toggleable__label-arrow:before {color: black;}#sk-container-id-1 div.sk-toggleable__content {max-height: 0;max-width: 0;overflow: hidden;text-align: left;background-color: #f0f8ff;}#sk-container-id-1 div.sk-toggleable__content pre {margin: 0.2em;color: black;border-radius: 0.25em;background-color: #f0f8ff;}#sk-container-id-1 input.sk-toggleable__control:checked~div.sk-toggleable__content {max-height: 200px;max-width: 100%;overflow: auto;}#sk-container-id-1 input.sk-toggleable__control:checked~label.sk-toggleable__label-arrow:before {content: \"▾\";}#sk-container-id-1 div.sk-estimator input.sk-toggleable__control:checked~label.sk-toggleable__label {background-color: #d4ebff;}#sk-container-id-1 div.sk-label input.sk-toggleable__control:checked~label.sk-toggleable__label {background-color: #d4ebff;}#sk-container-id-1 input.sk-hidden--visually {border: 0;clip: rect(1px 1px 1px 1px);clip: rect(1px, 1px, 1px, 1px);height: 1px;margin: -1px;overflow: hidden;padding: 0;position: absolute;width: 1px;}#sk-container-id-1 div.sk-estimator {font-family: monospace;background-color: #f0f8ff;border: 1px dotted black;border-radius: 0.25em;box-sizing: border-box;margin-bottom: 0.5em;}#sk-container-id-1 div.sk-estimator:hover {background-color: #d4ebff;}#sk-container-id-1 div.sk-parallel-item::after {content: \"\";width: 100%;border-bottom: 1px solid gray;flex-grow: 1;}#sk-container-id-1 div.sk-label:hover label.sk-toggleable__label {background-color: #d4ebff;}#sk-container-id-1 div.sk-serial::before {content: \"\";position: absolute;border-left: 1px solid gray;box-sizing: border-box;top: 0;bottom: 0;left: 50%;z-index: 0;}#sk-container-id-1 div.sk-serial {display: flex;flex-direction: column;align-items: center;background-color: white;padding-right: 0.2em;padding-left: 0.2em;position: relative;}#sk-container-id-1 div.sk-item {position: relative;z-index: 1;}#sk-container-id-1 div.sk-parallel {display: flex;align-items: stretch;justify-content: center;background-color: white;position: relative;}#sk-container-id-1 div.sk-item::before, #sk-container-id-1 div.sk-parallel-item::before {content: \"\";position: absolute;border-left: 1px solid gray;box-sizing: border-box;top: 0;bottom: 0;left: 50%;z-index: -1;}#sk-container-id-1 div.sk-parallel-item {display: flex;flex-direction: column;z-index: 1;position: relative;background-color: white;}#sk-container-id-1 div.sk-parallel-item:first-child::after {align-self: flex-end;width: 50%;}#sk-container-id-1 div.sk-parallel-item:last-child::after {align-self: flex-start;width: 50%;}#sk-container-id-1 div.sk-parallel-item:only-child::after {width: 0;}#sk-container-id-1 div.sk-dashed-wrapped {border: 1px dashed gray;margin: 0 0.4em 0.5em 0.4em;box-sizing: border-box;padding-bottom: 0.4em;background-color: white;}#sk-container-id-1 div.sk-label label {font-family: monospace;font-weight: bold;display: inline-block;line-height: 1.2em;}#sk-container-id-1 div.sk-label-container {text-align: center;}#sk-container-id-1 div.sk-container {/* jupyter's `normalize.less` sets `[hidden] { display: none; }` but bootstrap.min.css set `[hidden] { display: none !important; }` so we also need the `!important` here to be able to override the default hidden behavior on the sphinx rendered scikit-learn.org. See: https://github.com/scikit-learn/scikit-learn/issues/21755 */display: inline-block !important;position: relative;}#sk-container-id-1 div.sk-text-repr-fallback {display: none;}</style><div id=\"sk-container-id-1\" class=\"sk-top-container\"><div class=\"sk-text-repr-fallback\"><pre>RandomForestRegressor(max_depth=5, n_estimators=520, warm_start=True)</pre><b>In a Jupyter environment, please rerun this cell to show the HTML representation or trust the notebook. <br />On GitHub, the HTML representation is unable to render, please try loading this page with nbviewer.org.</b></div><div class=\"sk-container\" hidden><div class=\"sk-item\"><div class=\"sk-estimator sk-toggleable\"><input class=\"sk-toggleable__control sk-hidden--visually\" id=\"sk-estimator-id-1\" type=\"checkbox\" checked><label for=\"sk-estimator-id-1\" class=\"sk-toggleable__label sk-toggleable__label-arrow\">RandomForestRegressor</label><div class=\"sk-toggleable__content\"><pre>RandomForestRegressor(max_depth=5, n_estimators=520, warm_start=True)</pre></div></div></div></div></div>"
      ],
      "text/plain": [
       "RandomForestRegressor(max_depth=5, n_estimators=520, warm_start=True)"
      ]
     },
     "execution_count": 20,
     "metadata": {},
     "output_type": "execute_result"
    }
   ],
   "source": [
    "from tqdm import tqdm\n",
    "from sklearn.ensemble import RandomForestRegressor\n",
    "\n",
    "# Define the chunk size\n",
    "chunk_size = 6  # Adjust this value according to your memory constraints\n",
    "\n",
    "# Determine the number of chunks needed\n",
    "num_chunks = (len(X_train) + chunk_size - 1) // chunk_size  # Ensure the last chunk is not empty\n",
    "\n",
    "# Split the data into chunks\n",
    "data_splits = []\n",
    "for i in range(num_chunks):\n",
    "    start_idx = i * chunk_size\n",
    "    end_idx = min((i + 1) * chunk_size, X_train.shape[0])\n",
    "    if start_idx < end_idx:  # Check if the chunk is not empty\n",
    "        X_chunk = X_train[start_idx:end_idx]\n",
    "        y_chunk = y_train[start_idx:end_idx]\n",
    "        data_splits.append((X_chunk, y_chunk))\n",
    "\n",
    "# Initialize the Random Forest regressor\n",
    "regressor = RandomForestRegressor(warm_start=True, n_estimators=100, max_depth=5)\n",
    "\n",
    "# Training loop\n",
    "for _ in range(10):  # 10 passes through the data\n",
    "    for X, y in tqdm(data_splits, desc=\"Processing chunks\"):  # Add tqdm here\n",
    "        regressor.fit(X, y)  # Fit the model\n",
    "        regressor.n_estimators += 1  # Increase the number of estimators\n",
    "\n",
    "# Train the final model with the entire dataset\n",
    "regressor.fit(X_train, y_train)\n"
   ]
  },
  {
   "cell_type": "markdown",
   "id": "25001e1f-f12c-46e6-9220-6d05c8ed2869",
   "metadata": {},
   "source": [
    "from sklearn.ensemble import RandomForestRegressor\n",
    "# NORMAL ORIGINAL\n",
    "# Define the chunk size\n",
    "chunk_size = 10  # Adjust this value according to your memory constraints\n",
    "\n",
    "# Determine the number of chunks needed\n",
    "# Determine the number of chunks needed\n",
    "num_chunks = (len(X_train) + chunk_size - 1) // chunk_size  # Ensure the last chunk is not empty\n",
    "\n",
    "# Split the data into chunks\n",
    "data_splits = []\n",
    "for i in range(num_chunks):\n",
    "    start_idx = i * chunk_size\n",
    "    end_idx = min((i + 1) * chunk_size, X_train.shape[0])\n",
    "    if start_idx < end_idx:  # Check if the chunk is not empty\n",
    "        X_chunk = X_train[start_idx:end_idx]\n",
    "        y_chunk = y_train[start_idx:end_idx]\n",
    "        data_splits.append((X_chunk, y_chunk))\n",
    "\n",
    "\n",
    "# Now data_splits is an iterable of (X_chunk, y_chunk) pairs\n",
    "\n",
    "# Initialize the classifier\n",
    "regressor = RandomForestRegressor(warm_start=True, n_estimators=1)\n",
    "\n",
    "# Training loop\n",
    "for _ in range(10):  # 10 passes through the data\n",
    "    for X, y in data_splits:\n",
    "        regressor.fit(X, y)\n",
    "        regressor.n_estimators += 1\n",
    "\n",
    "\n"
   ]
  },
  {
   "cell_type": "code",
   "execution_count": 21,
   "id": "982ae906-72f9-4a88-a97f-d46ccbb8208e",
   "metadata": {},
   "outputs": [
    {
     "name": "stdout",
     "output_type": "stream",
     "text": [
      "0.5165698587281027\n"
     ]
    }
   ],
   "source": [
    "from sklearn.model_selection import cross_val_score\n",
    "\n",
    "# 10-Fold Cross validation\n",
    "print(np.mean(cross_val_score(regressor, X_train, y_train, cv=10)))\n"
   ]
  },
  {
   "cell_type": "code",
   "execution_count": 22,
   "id": "31bb8013-d3ad-417a-83e4-6867a39c6c9c",
   "metadata": {},
   "outputs": [
    {
     "data": {
      "text/html": [
       "<style>#sk-container-id-2 {color: black;}#sk-container-id-2 pre{padding: 0;}#sk-container-id-2 div.sk-toggleable {background-color: white;}#sk-container-id-2 label.sk-toggleable__label {cursor: pointer;display: block;width: 100%;margin-bottom: 0;padding: 0.3em;box-sizing: border-box;text-align: center;}#sk-container-id-2 label.sk-toggleable__label-arrow:before {content: \"▸\";float: left;margin-right: 0.25em;color: #696969;}#sk-container-id-2 label.sk-toggleable__label-arrow:hover:before {color: black;}#sk-container-id-2 div.sk-estimator:hover label.sk-toggleable__label-arrow:before {color: black;}#sk-container-id-2 div.sk-toggleable__content {max-height: 0;max-width: 0;overflow: hidden;text-align: left;background-color: #f0f8ff;}#sk-container-id-2 div.sk-toggleable__content pre {margin: 0.2em;color: black;border-radius: 0.25em;background-color: #f0f8ff;}#sk-container-id-2 input.sk-toggleable__control:checked~div.sk-toggleable__content {max-height: 200px;max-width: 100%;overflow: auto;}#sk-container-id-2 input.sk-toggleable__control:checked~label.sk-toggleable__label-arrow:before {content: \"▾\";}#sk-container-id-2 div.sk-estimator input.sk-toggleable__control:checked~label.sk-toggleable__label {background-color: #d4ebff;}#sk-container-id-2 div.sk-label input.sk-toggleable__control:checked~label.sk-toggleable__label {background-color: #d4ebff;}#sk-container-id-2 input.sk-hidden--visually {border: 0;clip: rect(1px 1px 1px 1px);clip: rect(1px, 1px, 1px, 1px);height: 1px;margin: -1px;overflow: hidden;padding: 0;position: absolute;width: 1px;}#sk-container-id-2 div.sk-estimator {font-family: monospace;background-color: #f0f8ff;border: 1px dotted black;border-radius: 0.25em;box-sizing: border-box;margin-bottom: 0.5em;}#sk-container-id-2 div.sk-estimator:hover {background-color: #d4ebff;}#sk-container-id-2 div.sk-parallel-item::after {content: \"\";width: 100%;border-bottom: 1px solid gray;flex-grow: 1;}#sk-container-id-2 div.sk-label:hover label.sk-toggleable__label {background-color: #d4ebff;}#sk-container-id-2 div.sk-serial::before {content: \"\";position: absolute;border-left: 1px solid gray;box-sizing: border-box;top: 0;bottom: 0;left: 50%;z-index: 0;}#sk-container-id-2 div.sk-serial {display: flex;flex-direction: column;align-items: center;background-color: white;padding-right: 0.2em;padding-left: 0.2em;position: relative;}#sk-container-id-2 div.sk-item {position: relative;z-index: 1;}#sk-container-id-2 div.sk-parallel {display: flex;align-items: stretch;justify-content: center;background-color: white;position: relative;}#sk-container-id-2 div.sk-item::before, #sk-container-id-2 div.sk-parallel-item::before {content: \"\";position: absolute;border-left: 1px solid gray;box-sizing: border-box;top: 0;bottom: 0;left: 50%;z-index: -1;}#sk-container-id-2 div.sk-parallel-item {display: flex;flex-direction: column;z-index: 1;position: relative;background-color: white;}#sk-container-id-2 div.sk-parallel-item:first-child::after {align-self: flex-end;width: 50%;}#sk-container-id-2 div.sk-parallel-item:last-child::after {align-self: flex-start;width: 50%;}#sk-container-id-2 div.sk-parallel-item:only-child::after {width: 0;}#sk-container-id-2 div.sk-dashed-wrapped {border: 1px dashed gray;margin: 0 0.4em 0.5em 0.4em;box-sizing: border-box;padding-bottom: 0.4em;background-color: white;}#sk-container-id-2 div.sk-label label {font-family: monospace;font-weight: bold;display: inline-block;line-height: 1.2em;}#sk-container-id-2 div.sk-label-container {text-align: center;}#sk-container-id-2 div.sk-container {/* jupyter's `normalize.less` sets `[hidden] { display: none; }` but bootstrap.min.css set `[hidden] { display: none !important; }` so we also need the `!important` here to be able to override the default hidden behavior on the sphinx rendered scikit-learn.org. See: https://github.com/scikit-learn/scikit-learn/issues/21755 */display: inline-block !important;position: relative;}#sk-container-id-2 div.sk-text-repr-fallback {display: none;}</style><div id=\"sk-container-id-2\" class=\"sk-top-container\"><div class=\"sk-text-repr-fallback\"><pre>RandomForestRegressor()</pre><b>In a Jupyter environment, please rerun this cell to show the HTML representation or trust the notebook. <br />On GitHub, the HTML representation is unable to render, please try loading this page with nbviewer.org.</b></div><div class=\"sk-container\" hidden><div class=\"sk-item\"><div class=\"sk-estimator sk-toggleable\"><input class=\"sk-toggleable__control sk-hidden--visually\" id=\"sk-estimator-id-2\" type=\"checkbox\" checked><label for=\"sk-estimator-id-2\" class=\"sk-toggleable__label sk-toggleable__label-arrow\">RandomForestRegressor</label><div class=\"sk-toggleable__content\"><pre>RandomForestRegressor()</pre></div></div></div></div></div>"
      ],
      "text/plain": [
       "RandomForestRegressor()"
      ]
     },
     "execution_count": 22,
     "metadata": {},
     "output_type": "execute_result"
    }
   ],
   "source": [
    "from sklearn.ensemble import RandomForestRegressor\n",
    "\n",
    "# Initialize RandomForestRegressor\n",
    "regressor = RandomForestRegressor()\n",
    "\n",
    "# Fit the model using the training data\n",
    "regressor.fit(X_train, y_train)\n"
   ]
  },
  {
   "cell_type": "code",
   "execution_count": 23,
   "id": "91e0cf14-35de-43c6-8203-b6b4faed91a9",
   "metadata": {},
   "outputs": [
    {
     "name": "stdout",
     "output_type": "stream",
     "text": [
      "The training r_sq is: 0.99\n"
     ]
    }
   ],
   "source": [
    "print('The training r_sq is: %.2f'% regressor.score(X_train, y_train))"
   ]
  },
  {
   "cell_type": "code",
   "execution_count": 24,
   "id": "a6f34ff4-1ca1-4dd5-9506-b1caf977f67d",
   "metadata": {},
   "outputs": [],
   "source": [
    "from sklearn.metrics import mean_absolute_error, mean_squared_error, explained_variance_score\n",
    "\n",
    "# Prediction on the training dataset\n",
    "ytrain_pred = regressor.predict(X_train)"
   ]
  },
  {
   "cell_type": "code",
   "execution_count": 26,
   "id": "57ad6fc0-25ea-4a35-b7ef-5bafcb0da53f",
   "metadata": {},
   "outputs": [
    {
     "ename": "NameError",
     "evalue": "name 'X_test' is not defined",
     "output_type": "error",
     "traceback": [
      "\u001b[0;31m---------------------------------------------------------------------------\u001b[0m",
      "\u001b[0;31mNameError\u001b[0m                                 Traceback (most recent call last)",
      "Cell \u001b[0;32mIn[26], line 4\u001b[0m\n\u001b[1;32m      1\u001b[0m \u001b[38;5;28;01mfrom\u001b[39;00m \u001b[38;5;21;01msklearn\u001b[39;00m\u001b[38;5;21;01m.\u001b[39;00m\u001b[38;5;21;01mmetrics\u001b[39;00m \u001b[38;5;28;01mimport\u001b[39;00m precision_score, accuracy_score\n\u001b[1;32m      3\u001b[0m \u001b[38;5;66;03m# Assuming you have already trained your model and obtained predictions\u001b[39;00m\n\u001b[0;32m----> 4\u001b[0m predictions \u001b[38;5;241m=\u001b[39m regressor\u001b[38;5;241m.\u001b[39mpredict(X_test)\n\u001b[1;32m      6\u001b[0m \u001b[38;5;66;03m# Compute accuracy\u001b[39;00m\n\u001b[1;32m      7\u001b[0m accuracy \u001b[38;5;241m=\u001b[39m accuracy_score(y_test, predictions)\n",
      "\u001b[0;31mNameError\u001b[0m: name 'X_test' is not defined"
     ]
    }
   ],
   "source": [
    "from sklearn.metrics import precision_score, accuracy_score\n",
    "\n",
    "# Assuming you have already trained your model and obtained predictions\n",
    "predictions = regressor.predict(X_test)\n",
    "\n",
    "# Compute accuracy\n",
    "accuracy = accuracy_score(y_test, predictions)\n",
    "print(\"Accuracy:\", accuracy)\n",
    "\n",
    "# Compute precision\n",
    "precision = precision_score(y_test, predictions)\n",
    "print(\"Precision:\", precision)\n"
   ]
  },
  {
   "cell_type": "markdown",
   "id": "ca6268f2-efef-48be-a29f-9cd00452221d",
   "metadata": {},
   "source": [
    "High R² values on the training set don't necessarily mean that the model will generalize well to unseen data. Overfitting is a concern when R² is very high on the training set but significantly lower on the test set. Therefore, while R² on the training set provides insight into the model's performance on the training data, it's essential to evaluate the model's performance on a separate test set to assess its ability to generalize to new, unseen data."
   ]
  },
  {
   "cell_type": "code",
   "execution_count": 56,
   "id": "b4e2bcba-c6c2-4ca1-95fc-ac293a5ed4e7",
   "metadata": {},
   "outputs": [
    {
     "name": "stdout",
     "output_type": "stream",
     "text": [
      "The MAE is: 0.02\n"
     ]
    }
   ],
   "source": [
    "# The MAE\n",
    "print( 'The MAE is: %.2f'% mean_absolute_error(y_train, ytrain_pred))\n"
   ]
  },
  {
   "cell_type": "markdown",
   "id": "0f386ff7-e506-437a-920d-9e4ef9df0e6f",
   "metadata": {},
   "source": [
    "MAE of 0.02 suggests that your model has good predictive performance on the training set, as the average error is very small. However, it's important to note that evaluating the model's performance solely on the training set may not provide a complete picture of its effectiveness. It's essential to assess the model's performance on a separate test set to ensure that it generalizes well to unseen data.\n",
    "\n",
    "If the MAE is also low on the test set, it indicates that the model is likely to perform well in real-world scenarios. However, if there's a significant difference in performance between the training and test sets, it may indicate issues such as overfitting or underfitting, which need to be addressed."
   ]
  },
  {
   "cell_type": "code",
   "execution_count": 57,
   "id": "7572289a-e94b-4f43-a215-8ec9eb43f0bd",
   "metadata": {},
   "outputs": [
    {
     "name": "stdout",
     "output_type": "stream",
     "text": [
      "The MSE is: 0.00\n",
      "The RMSE is: 0.03\n"
     ]
    }
   ],
   "source": [
    "# The MSE\n",
    "\n",
    "mse = mean_squared_error(y_train, ytrain_pred)\n",
    "rmse = np.sqrt(mse)\n",
    "\n",
    "# Print the root mean squared error\n",
    "print('The MSE is: %.2f' % mse)\n",
    "\n",
    "print('The RMSE is: %.2f' % rmse)"
   ]
  },
  {
   "cell_type": "markdown",
   "id": "0550e300-355a-4f2f-9738-b3f6d399d46a",
   "metadata": {},
   "source": [
    "The RMSE (Root Mean Squared Error) of 0.03 represents the square root of the MSE, providing an interpretation of the error in the same units as the target variable. A RMSE of 0.03 suggests that, on average, the model's predictions are off by approximately 0.03 units from the actual values in the training data.\n",
    "\n",
    "Overall, while a perfect MSE and a low RMSE indicate good performance on the training set, it's crucial to evaluate the model's performance on a separate testing set to ensure it generalizes well to unseen data and to detect any potential issues such as overfitting."
   ]
  },
  {
   "cell_type": "code",
   "execution_count": 58,
   "id": "5c84a17a-38cf-4d66-91e2-1ad2f29d6a95",
   "metadata": {},
   "outputs": [
    {
     "name": "stdout",
     "output_type": "stream",
     "text": [
      "The EVS is: 0.99\n"
     ]
    }
   ],
   "source": [
    "# The EVS\n",
    "print('The EVS is: %.2f'% explained_variance_score(y_train, ytrain_pred))"
   ]
  },
  {
   "cell_type": "markdown",
   "id": "fbb33ef1-fb62-40d5-a35f-0214675572b5",
   "metadata": {},
   "source": [
    "An Explained Variance Score (EVS) \n",
    "In this case, an EVS of 0.99 suggests that the model's predictions are highly accurate and explain almost all of the variance in the target variable."
   ]
  },
  {
   "cell_type": "code",
   "execution_count": 59,
   "id": "c8e7c852-0f45-4ec8-94c9-f3ccac9fbc28",
   "metadata": {},
   "outputs": [
    {
     "data": {
      "image/png": "[encoded data removed]",
      "text/plain": [
       "<Figure size 1000x600 with 1 Axes>"
      ]
     },
     "metadata": {},
     "output_type": "display_data"
    }
   ],
   "source": [
    "import matplotlib.pyplot as plt\n",
    "\n",
    "# Initialize the classifier\n",
    "regressor = RandomForestRegressor(warm_start=True, n_estimators=1)\n",
    "\n",
    "# Training loop\n",
    "for _ in range(10):  # 10 passes through the data\n",
    "    for X, y in data_splits:\n",
    "        regressor.fit(X, y)\n",
    "        regressor.n_estimators += 1\n",
    "\n",
    "# Get feature importances from the trained Random Forest model\n",
    "feature_importances = regressor.feature_importances_\n",
    "\n",
    "# Get feature names\n",
    "feature_names = new_collision_train_scaled.drop(columns=['time_to_tca']).columns\n",
    "\n",
    "# Plotting feature importances with feature names\n",
    "plt.figure(figsize=(10, 6))\n",
    "plt.bar(range(len(feature_importances)), feature_importances, align='center')\n",
    "plt.xticks(range(len(feature_importances)), feature_names, rotation=90)  # Set x-axis labels to feature names\n",
    "plt.xlabel('Features')\n",
    "plt.ylabel('Importance')\n",
    "plt.title('Random Forest Feature Importances')\n",
    "plt.tight_layout()\n",
    "plt.show()\n"
   ]
  },
  {
   "cell_type": "markdown",
   "id": "1607d972-b210-4fb4-90e3-74cf4d4fb6ad",
   "metadata": {},
   "source": [
    "import matplotlib.pyplot as plt\n",
    "\n",
    "# Initialize the classifier\n",
    "regressor = RandomForestRegressor(warm_start=True, n_estimators=1)\n",
    "\n",
    "# Training loop\n",
    "for _ in range(10):  # 10 passes through the data\n",
    "    for X, y in data_splits:\n",
    "        regressor.fit(X, y)\n",
    "        regressor.n_estimators += 1\n",
    "\n",
    "# Get feature importances from the trained Random Forest model\n",
    "feature_importances = regressor.feature_importances_\n",
    "\n",
    "# Plotting feature importances\n",
    "plt.figure(figsize=(10, 6))\n",
    "plt.bar(range(len(feature_importances)), feature_importances, align='center')\n",
    "plt.xlabel('Features')\n",
    "plt.ylabel('Importance')\n",
    "plt.title('Random Forest Feature Importances')\n",
    "plt.tight_layout()\n",
    "plt.show()\n"
   ]
  },
  {
   "cell_type": "code",
   "execution_count": null,
   "id": "bcf24ba6-53a9-411a-be3d-c2722e31f947",
   "metadata": {},
   "outputs": [],
   "source": [
    "#df = pd.DataFrame({ 'event_id': np.random.randint(1,4,100) })\n",
    "\n",
    "#df = pd.DataFrame({ 'event_id': np.random.randint(1,4,100) })\n",
    "\n",
    "#pd.concat([df, pd.get_dummies(df['itemID'],prefix = 'itemID_')], axis=1).info()\n"
   ]
  }
 ],
 "metadata": {
  "kernelspec": {
   "display_name": "Python 3 (ipykernel)",
   "language": "python",
   "name": "python3"
  },
  "language_info": {
   "codemirror_mode": {
    "name": "ipython",
    "version": 3
   },
   "file_extension": ".py",
   "mimetype": "text/x-python",
   "name": "python",
   "nbconvert_exporter": "python",
   "pygments_lexer": "ipython3",
   "version": "3.11.5"
  }
 },
 "nbformat": 4,
 "nbformat_minor": 5
}
