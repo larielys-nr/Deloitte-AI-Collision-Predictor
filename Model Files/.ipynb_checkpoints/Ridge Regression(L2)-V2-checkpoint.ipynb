{
 "cells": [
  {
   "cell_type": "code",
   "execution_count": 1,
   "id": "ba86c6cc-472b-4478-80d5-e5927bb55781",
   "metadata": {},
   "outputs": [],
   "source": [
    "import pandas as pd\n",
    "from sklearn.linear_model import Ridge\n",
    "from sklearn.metrics import mean_squared_error, r2_score\n",
    "from sklearn.impute import SimpleImputer\n",
    "from sklearn.preprocessing import MinMaxScaler"
   ]
  },
  {
   "cell_type": "code",
   "execution_count": 2,
   "id": "156cb0ee-1bcf-4b0c-b6c7-5af6b49de17b",
   "metadata": {},
   "outputs": [],
   "source": [
    "import pandas as pd\n",
    "\n",
    "# Load the CSV file into a DataFrame\n",
    "df = pd.read_csv('train_data-Dell.csv')\n",
    "df_test = pd.read_csv('test_data-Dell.csv')\n",
    "\n",
    "\n",
    "labels = df['time_to_tca']\n",
    "labels_test = df_test['time_to_tca']\n",
    "\n",
    "# the labels as a numpy array: convinience for following comands\n",
    "labels_array = labels.values\n",
    "labels_test_array = labels_test.values\n",
    "\n",
    "\n",
    "df = df.drop(columns=['c_object_type'])  # Drop 'c_object_type' column from df\n",
    "df_test = df_test.drop(columns=['c_object_type'])  # Drop 'c_object_type' column from df_test\n",
    "\n"
   ]
  },
  {
   "cell_type": "code",
   "execution_count": 3,
   "id": "43bbe4c6-0ab8-49e9-be9f-4e322ad3da80",
   "metadata": {},
   "outputs": [],
   "source": [
    "from sklearn.preprocessing import MinMaxScaler\n",
    "\n",
    "# Initialize MinMaxScaler\n",
    "scaler = MinMaxScaler()\n",
    "\n",
    "\n",
    "df_features_scaled = scaler.fit_transform(df.drop(columns=['time_to_tca']))\n",
    "df_test_features_scaled = scaler.transform(df_test.drop(columns=['time_to_tca']))\n",
    "\n",
    "# contain both the scaled features and the original target variable\n",
    "df_scaled = pd.concat([pd.DataFrame(df_features_scaled, columns=df.columns[:-1]), df[['time_to_tca']]], axis=1)\n",
    "df_test_scaled = pd.concat([pd.DataFrame(df_test_features_scaled, columns=df_test.columns[:-1]), df_test[['time_to_tca']]], axis=1)\n"
   ]
  },
  {
   "cell_type": "code",
   "execution_count": 4,
   "id": "e0051eae-cc4d-4348-af32-128b937df8fe",
   "metadata": {},
   "outputs": [
    {
     "name": "stdout",
     "output_type": "stream",
     "text": [
      "Mean Squared Error: 9.037780696944162e-13\n",
      "r^2 Score: 0.9999999999995572\n"
     ]
    }
   ],
   "source": [
    "# Create an imputer object with a strategy (e.g., mean, median, mode) to handle missing values\n",
    "imputer = SimpleImputer(strategy='mean')\n",
    "\n",
    "# Apply imputation to the DataFrames\n",
    "train_data_imputed = imputer.fit_transform(df_scaled)\n",
    "test_data_imputed = imputer.transform(df_test_scaled)\n",
    "\n",
    "# Create and train the Ridge regression model\n",
    "ridge_model = Ridge(alpha=0.1)  \n",
    "ridge_model.fit(train_data_imputed, labels_array)  #Training on the entire training set\n",
    "\n",
    "# Predict labels on the test set\n",
    "predictions = ridge_model.predict(test_data_imputed)\n",
    "\n",
    "# Evaluate the model performance\n",
    "mse = mean_squared_error(labels_test_array, predictions)\n",
    "r2 = r2_score(labels_test_array, predictions)\n",
    "\n",
    "print(\"Mean Squared Error:\", mse)\n",
    "print(\"r^2 Score:\", r2)\n"
   ]
  },
  {
   "cell_type": "code",
   "execution_count": 5,
   "id": "cbc1159b-6b1b-4c71-bff9-38a12e9a736b",
   "metadata": {},
   "outputs": [],
   "source": [
    "# Extract features and labels for the training set\n",
    "X_train = train_data_imputed[:, train_data_imputed.shape[1] != 1]  # Excludes the second column\n",
    "y_train = train_data_imputed[:, 1]  # Labels for training data (second column)\n",
    "\n",
    "X_test = test_data_imputed[:, test_data_imputed.shape[1] != 1]  # Excludes the second column\n",
    "y_test = test_data_imputed[:, 1]  # Labels for testing data (second column)\n"
   ]
  },
  {
   "cell_type": "code",
   "execution_count": 6,
   "id": "ef946550-d030-457b-882d-a559edf6a50e",
   "metadata": {},
   "outputs": [],
   "source": [
    "# Reshape X_train and X_test if necessary\n",
    "X_train = X_train.squeeze(axis=1)  # Remove the extra dimension if present\n",
    "X_test = X_test.squeeze(axis=1)  "
   ]
  },
  {
   "cell_type": "code",
   "execution_count": 7,
   "id": "11031919-d29c-47df-9904-ec26d009b605",
   "metadata": {},
   "outputs": [
    {
     "name": "stdout",
     "output_type": "stream",
     "text": [
      "X_train shape: (70108, 102)\n",
      "y_train shape: (70108,)\n"
     ]
    }
   ],
   "source": [
    "# Check the shape of X_train and y_train\n",
    "print(\"X_train shape:\", X_train.shape)\n",
    "print(\"y_train shape:\", y_train.shape)\n"
   ]
  },
  {
   "cell_type": "code",
   "execution_count": 8,
   "id": "29896863-c5bb-468b-bbde-a58a02749f32",
   "metadata": {},
   "outputs": [
    {
     "name": "stdout",
     "output_type": "stream",
     "text": [
      "Mean Squared Error: 1.0284506462447139e-10\n",
      "r^2 Score: 0.9999999984334017\n"
     ]
    }
   ],
   "source": [
    "# Create an imputer object with a strategy (e.g., mean, median, mode) to handle missing values\n",
    "imputer = SimpleImputer(strategy='mean')\n",
    "\n",
    "# Apply imputation to the DataFrames\n",
    "train_data_imputed = imputer.fit_transform(df_scaled)\n",
    "test_data_imputed = imputer.transform(df_test_scaled)\n",
    "\n",
    "# Create and train the Ridge regression model\n",
    "ridge_model = Ridge(alpha=0.1)  # You can adjust the regularization parameter 'alpha' as needed\n",
    "ridge_model.fit(X_train, y_train)\n",
    "\n",
    "# Predict labels on the test set\n",
    "predictions = ridge_model.predict(X_test)\n",
    "\n",
    "# Evaluate the model performance\n",
    "mse = mean_squared_error(y_test, predictions)\n",
    "r2 = r2_score(y_test, predictions)\n",
    "\n",
    "print(\"Mean Squared Error:\", mse)\n",
    "print(\"r^2 Score:\", r2)"
   ]
  },
  {
   "cell_type": "code",
   "execution_count": 9,
   "id": "8beec07e-23ff-46f8-a44b-92bd9824192d",
   "metadata": {},
   "outputs": [
    {
     "data": {
      "text/plain": [
       "0.9999999984784927"
      ]
     },
     "execution_count": 9,
     "metadata": {},
     "output_type": "execute_result"
    }
   ],
   "source": [
    "ridge_model.score(X_train, y_train)"
   ]
  },
  {
   "cell_type": "code",
   "execution_count": 10,
   "id": "a849ef2e-2c19-4b16-bf65-77cd1c4ac614",
   "metadata": {},
   "outputs": [],
   "source": [
    "from sklearn.model_selection import cross_val_score\n",
    "import numpy as np\n"
   ]
  },
  {
   "cell_type": "code",
   "execution_count": 11,
   "id": "2d27eaff-1f8e-44fc-9147-7bf918b6e8f7",
   "metadata": {},
   "outputs": [
    {
     "name": "stdout",
     "output_type": "stream",
     "text": [
      "Cross-Validation Mean Squared Error: 1.5451087040992855e-12\n",
      "Cross-Validation MSE Standard Deviation: 3.4603210334699674e-14\n",
      "Alpha: 0.001, Mean Squared Error: 1.5527770572522024e-16, Std Dev: 3.567487884774278e-18\n",
      "Alpha: 0.01, Mean Squared Error: 1.5495500422021503e-14, Std Dev: 3.48591438308595e-16\n",
      "Alpha: 0.09999999999999999, Mean Squared Error: 1.5451087040992855e-12, Std Dev: 3.4603210334699674e-14\n",
      "Alpha: 1.0, Mean Squared Error: 1.513773086244638e-10, Std Dev: 3.518247612462456e-12\n",
      "Alpha: 10.0, Mean Squared Error: 1.3819757108355028e-08, Std Dev: 3.1620644794457213e-10\n",
      "Alpha: 100.0, Mean Squared Error: 1.2133943313429706e-06, Std Dev: 2.614908472210432e-08\n",
      "Alpha: 1000.0, Mean Squared Error: 0.00010184569616806375, Std Dev: 1.970721678551218e-06\n"
     ]
    }
   ],
   "source": [
    "# Perform cross-validation\n",
    "cv_scores = cross_val_score(ridge_model, train_data_imputed, labels_array, cv=5, scoring='neg_mean_squared_error')\n",
    "\n",
    "# Convert scores to positive values and calculate mean and standard deviation\n",
    "mse_scores = -cv_scores\n",
    "mean_mse = mse_scores.mean()\n",
    "std_mse = mse_scores.std()\n",
    "\n",
    "print(\"Cross-Validation Mean Squared Error:\", mean_mse)\n",
    "print(\"Cross-Validation MSE Standard Deviation:\", std_mse)\n",
    "\n",
    "alphas = np.logspace(-3, 3, 7)  #alphas from 10^-3 to 10^3\n",
    "\n",
    "# Iterate over different alpha values and perform cross-validation\n",
    "for alpha in alphas:\n",
    "    ridge_model = Ridge(alpha=alpha)\n",
    "    cv_scores = cross_val_score(ridge_model, train_data_imputed, labels_array, cv=5, scoring='neg_mean_squared_error')\n",
    "    mse_scores = -cv_scores\n",
    "    mean_mse = mse_scores.mean()\n",
    "    std_mse = mse_scores.std()\n",
    "    print(f\"Alpha: {alpha}, Mean Squared Error: {mean_mse}, Std Dev: {std_mse}\")\n"
   ]
  },
  {
   "cell_type": "markdown",
   "id": "2c5888a5-eca2-488f-9a76-83a50d19f3bc",
   "metadata": {},
   "source": [
    "numbers indicate that the Ridge regression model performs exceptionally well, with very low mean squared errors and minimal variability in performance across different test sets or regularization strengths."
   ]
  }
 ],
 "metadata": {
  "kernelspec": {
   "display_name": "Python 3 (ipykernel)",
   "language": "python",
   "name": "python3"
  },
  "language_info": {
   "codemirror_mode": {
    "name": "ipython",
    "version": 3
   },
   "file_extension": ".py",
   "mimetype": "text/x-python",
   "name": "python",
   "nbconvert_exporter": "python",
   "pygments_lexer": "ipython3",
   "version": "3.11.5"
  }
 },
 "nbformat": 4,
 "nbformat_minor": 5
}
