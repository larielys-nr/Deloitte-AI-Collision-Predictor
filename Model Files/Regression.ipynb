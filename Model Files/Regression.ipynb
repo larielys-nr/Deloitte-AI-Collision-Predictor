{
 "cells": [
  {
   "cell_type": "code",
   "execution_count": 2,
   "id": "7029d039",
   "metadata": {},
   "outputs": [
    {
     "data": {
      "text/plain": [
       "'\\n***********************\\n-----------------------\\n         SETUP\\n-----------------------\\n***********************\\n'"
      ]
     },
     "execution_count": 2,
     "metadata": {},
     "output_type": "execute_result"
    }
   ],
   "source": [
    "\"\"\"\n",
    "***********************\n",
    "-----------------------\n",
    "         SETUP\n",
    "-----------------------\n",
    "***********************\n",
    "\"\"\""
   ]
  },
  {
   "cell_type": "code",
   "execution_count": 1,
   "id": "7408d2b9",
   "metadata": {},
   "outputs": [],
   "source": [
    "# imports\n",
    "import pandas as pd\n",
    "import numpy as np\n",
    "import matplotlib.pyplot as plt\n",
    "import csv\n",
    "import pathlib\n",
    "import os\n",
    "from pathlib import Path\n",
    "from sklearn import linear_model\n",
    "from sklearn.impute import SimpleImputer\n",
    "from sklearn import metrics\n",
    "from sklearn.linear_model import Lasso\n",
    "from sklearn.metrics import mean_squared_error"
   ]
  },
  {
   "cell_type": "code",
   "execution_count": 3,
   "id": "1f53a14c",
   "metadata": {
    "scrolled": false
   },
   "outputs": [
    {
     "name": "stdout",
     "output_type": "stream",
     "text": [
      "/Users/rakeshmehta/Desktop/AI-Collision-Algo/Data/train_data.csv\n",
      "/Users/rakeshmehta/Desktop/AI-Collision-Algo/Data/test_data.csv\n",
      "   event_id  time_to_tca  mission_id       risk  max_risk_estimate  \\\n",
      "0         0     1.566798           5 -10.204955          -7.834756   \n",
      "1         0     1.207494           5 -10.355758          -7.848937   \n",
      "2         0     0.952193           5 -10.345631          -7.847406   \n",
      "3         0     0.579669           5 -10.337809          -7.845880   \n",
      "4         0     0.257806           5 -10.391260          -7.852942   \n",
      "5         1     6.530455           5  -7.561299          -7.254301   \n",
      "6         1     5.561646           5  -9.315693          -7.468904   \n",
      "7         1     5.226504           5  -7.422508          -7.051001   \n",
      "8         1     3.570013           5  -9.248105          -7.327533   \n",
      "9         2     6.983474           2 -10.816161          -6.601713   \n",
      "\n",
      "   max_risk_scaling  miss_distance  relative_speed  relative_position_r  \\\n",
      "0          8.602101        14923.0         13792.0                453.8   \n",
      "1          8.956374        14544.0         13792.0                474.3   \n",
      "2          8.932195        14475.0         13792.0                474.6   \n",
      "3          8.913444        14579.0         13792.0                472.7   \n",
      "4          9.036838        14510.0         13792.0                478.7   \n",
      "5          2.746782         2392.0          3434.0                 74.3   \n",
      "6          7.223137         3587.0          3434.0                 99.0   \n",
      "7          2.956639         7882.0          3434.0                -50.0   \n",
      "8          7.425994        26899.0          3434.0                -82.0   \n",
      "9         13.293159        22902.0         14348.0              -1157.6   \n",
      "\n",
      "   relative_position_t  ...  t_sigma_rdot  c_sigma_rdot  t_sigma_tdot  \\\n",
      "0               5976.6  ...      0.147350     58.272095      0.004092   \n",
      "1               5821.2  ...      0.059672     57.966413      0.003753   \n",
      "2               5796.2  ...      0.039258     57.907599      0.003576   \n",
      "3               5838.9  ...      0.022066     57.993905      0.003298   \n",
      "4               5811.1  ...      0.015075     57.946717      0.003670   \n",
      "5               2317.1  ...      0.278354     84.677411      0.006980   \n",
      "6               3475.4  ...      0.240907     63.860857      0.006402   \n",
      "7              -7638.3  ...      0.240198     56.764910      0.005906   \n",
      "8             -26067.0  ...      0.124802     30.242768      0.005883   \n",
      "9              -6306.2  ...      0.153332     39.695541      0.009370   \n",
      "\n",
      "   c_sigma_tdot  t_sigma_ndot  c_sigma_ndot   F10   F3M   SSN    AP  \n",
      "0      0.165044      0.002987      0.386462  89.0  83.0  42.0  11.0  \n",
      "1      0.164383      0.002933      0.386393  89.0  83.0  42.0  11.0  \n",
      "2      0.164352      0.002967      0.386381  89.0  83.0  42.0  11.0  \n",
      "3      0.164309      0.002918      0.386400  89.0  83.0  40.0  14.0  \n",
      "4      0.164172      0.003220      0.386388  89.0  83.0  40.0  14.0  \n",
      "5      0.320622      0.004199      0.047385  71.0  88.0   0.0   2.0  \n",
      "6      0.264636      0.003725      0.040020  70.0  87.0  13.0  14.0  \n",
      "7      0.259109      0.003588      0.083247  70.0  87.0  13.0  14.0  \n",
      "8      0.174956      0.003408      0.058311  71.0  87.0  21.0   5.0  \n",
      "9      0.269965      0.003886      0.339406  73.0  77.0  27.0   4.0  \n",
      "\n",
      "[10 rows x 102 columns]\n",
      "   event_id  time_to_tca  mission_id      risk  max_risk_estimate  \\\n",
      "0         0     6.842095          19 -7.296967          -7.208941   \n",
      "1         0     6.571818          19 -7.282496          -7.199833   \n",
      "2         0     6.112986          19 -7.316053          -7.217886   \n",
      "3         0     5.921955          19 -7.334138          -7.228707   \n",
      "4         0     2.228761          19 -7.332267          -7.227312   \n",
      "5         1     2.578485           3 -7.855737          -5.514563   \n",
      "6         1     2.129518           3 -7.933674          -5.528562   \n",
      "7         2     6.852257           1 -4.643210          -4.498804   \n",
      "8         2     6.589004           1 -4.775467          -4.729088   \n",
      "9         2     6.275290           1 -4.777804          -4.733768   \n",
      "\n",
      "   max_risk_scaling  miss_distance  relative_speed  relative_position_r  \\\n",
      "0          1.787894        31816.0          7929.0               -365.5   \n",
      "1          1.759386        31095.0          7929.0               -361.8   \n",
      "2          1.824263        32202.0          7929.0               -370.7   \n",
      "3          1.865396        32878.0          7929.0               -376.3   \n",
      "4          1.863127        32792.0          7929.0               -375.6   \n",
      "5          8.537122          953.0            63.0                485.7   \n",
      "6          8.701856          935.0            63.0                478.6   \n",
      "7          0.386347        21175.0          9279.0                 14.7   \n",
      "8          0.606271        19999.0          9279.0                -21.1   \n",
      "9          0.616672        19885.0          9279.0                -24.5   \n",
      "\n",
      "   relative_position_t  ...  t_sigma_rdot  c_sigma_rdot  t_sigma_tdot  \\\n",
      "0              26967.0  ...      0.371943     29.669476      0.007763   \n",
      "1              26356.6  ...      0.364986     29.460828      0.007762   \n",
      "2              27294.4  ...      0.303518     29.747208      0.008190   \n",
      "3              27867.5  ...      0.295359     29.926660      0.007698   \n",
      "4              27793.8  ...      0.056579     29.845809      0.006125   \n",
      "5               -798.5  ...      0.047740      0.835797      0.008167   \n",
      "6               -779.0  ...      0.043798      0.847026      0.007969   \n",
      "7             -16644.3  ...      0.255074     32.995947      0.002470   \n",
      "8             -15719.4  ...      0.253191     25.340767      0.002425   \n",
      "9             -15630.1  ...      0.233699     25.179140      0.004225   \n",
      "\n",
      "   c_sigma_tdot  t_sigma_ndot  c_sigma_ndot   F10   F3M   SSN    AP  \n",
      "0      0.223996      0.011833      1.375099  76.0  74.0  29.0  11.0  \n",
      "1      0.223983      0.011833      1.375117  75.0  74.0  24.0   9.0  \n",
      "2      0.223999      0.010530      1.375092  75.0  74.0  24.0   9.0  \n",
      "3      0.224004      0.010449      1.375077  75.0  74.0  24.0   9.0  \n",
      "4      0.224004      0.007821      1.375085  71.0  73.0   0.0   4.0  \n",
      "5      0.098724      0.008423      0.152931  71.0  71.0  17.0   6.0  \n",
      "6      0.098734      0.008487      0.152913  71.0  71.0  17.0   6.0  \n",
      "7      0.090588      0.004895      0.057611  66.0  71.0   0.0   3.0  \n",
      "8      0.123994      0.004657      0.064739  66.0  71.0   0.0   3.0  \n",
      "9      0.124019      0.008794      0.064715  66.0  71.0   0.0   3.0  \n",
      "\n",
      "[10 rows x 102 columns]\n"
     ]
    }
   ],
   "source": [
    "# get the path of data\n",
    "train_data_path = '/Users/rakeshmehta/Desktop/AI-Collision-Algo/Data/train_data.csv'\n",
    "test_data_path = '/Users/rakeshmehta/Desktop/AI-Collision-Algo/Data/test_data.csv'\n",
    "print(train_data_path)\n",
    "print(test_data_path)\n",
    "\n",
    "# put the training and testing data into a DataFrame\n",
    "train_data = pd.read_csv(train_data_path)\n",
    "test_data = pd.read_csv(test_data_path)\n",
    "\n",
    "# clean up data by removing column of UNKNOWN from the training and testing DataFrames\n",
    "train_data = train_data.drop(columns = ['c_object_type'])\n",
    "test_data = test_data.drop(columns = ['c_object_type'])\n",
    "\n",
    "print(train_data.head(10))\n",
    "print(test_data.head(10))"
   ]
  },
  {
   "cell_type": "code",
   "execution_count": 31,
   "id": "471a1dae",
   "metadata": {
    "scrolled": false
   },
   "outputs": [
    {
     "name": "stdout",
     "output_type": "stream",
     "text": [
      "--------------------------------------------\n",
      "                 Features\n",
      "--------------------------------------------\n",
      "Training Features Shape:  (162634, 100)\n",
      "Testing Features Shape:  (24484, 100)\n",
      "--------------------------------------------\n",
      "                  Labels\n",
      "--------------------------------------------\n",
      "Training Labels Shape:  (162634,)\n",
      "Testing Labels Shape:  (24484,)\n"
     ]
    }
   ],
   "source": [
    "# set up the Features and Lables\n",
    "# training\n",
    "X_train = train_data.drop(columns=['max_risk_estimate', 'risk'])\n",
    "y_train = train_data['max_risk_scaling'].values\n",
    "# testing\n",
    "X_test = test_data.drop(columns=['max_risk_estimate', 'risk'])\n",
    "y_test = test_data['max_risk_scaling'].values\n",
    "\n",
    "# verify the shape of the matrices of data\n",
    "print(\"--------------------------------------------\")\n",
    "print(\"                 Features\")\n",
    "print(\"--------------------------------------------\")\n",
    "print(\"Training Features Shape: \", X_train.shape)\n",
    "print(\"Testing Features Shape: \", X_test.shape)\n",
    "print(\"--------------------------------------------\")\n",
    "print(\"                  Labels\")\n",
    "print(\"--------------------------------------------\")\n",
    "print(\"Training Labels Shape: \", y_train.shape)\n",
    "print(\"Testing Labels Shape: \", y_test.shape)"
   ]
  },
  {
   "cell_type": "code",
   "execution_count": 32,
   "id": "9538059b",
   "metadata": {},
   "outputs": [
    {
     "name": "stdout",
     "output_type": "stream",
     "text": [
      "(162634, 100)\n",
      "(162634,)\n",
      "(24484, 100)\n",
      "(24484,)\n"
     ]
    }
   ],
   "source": [
    "# create an imputer object with strategy (e.g. mean, median, mode) to get rid of NaN values\n",
    "imputer = SimpleImputer(strategy='mean')\n",
    "\n",
    "# Apply imputation to the Data\n",
    "X_train = imputer.fit_transform(X_train)\n",
    "X_test = imputer.fit_transform(X_test)\n",
    "\n",
    "# Print out shape again to verify X and y are same size\n",
    "print(np.shape(X_train))\n",
    "print(np.shape(y_train))\n",
    "print(np.shape(X_test))\n",
    "print(np.shape(y_test))"
   ]
  },
  {
   "cell_type": "code",
   "execution_count": 33,
   "id": "12494531",
   "metadata": {
    "scrolled": false
   },
   "outputs": [
    {
     "data": {
      "text/plain": [
       "'\\n***********************\\n-----------------------\\n      REGRESSIONS\\n-----------------------\\n***********************\\n'"
      ]
     },
     "execution_count": 33,
     "metadata": {},
     "output_type": "execute_result"
    }
   ],
   "source": [
    "\"\"\"\n",
    "***********************\n",
    "-----------------------\n",
    "      REGRESSIONS\n",
    "-----------------------\n",
    "***********************\n",
    "\"\"\""
   ]
  },
  {
   "cell_type": "code",
   "execution_count": 46,
   "id": "03c41479",
   "metadata": {
    "scrolled": false
   },
   "outputs": [
    {
     "data": {
      "text/html": [
       "<style>#sk-container-id-9 {color: black;}#sk-container-id-9 pre{padding: 0;}#sk-container-id-9 div.sk-toggleable {background-color: white;}#sk-container-id-9 label.sk-toggleable__label {cursor: pointer;display: block;width: 100%;margin-bottom: 0;padding: 0.3em;box-sizing: border-box;text-align: center;}#sk-container-id-9 label.sk-toggleable__label-arrow:before {content: \"▸\";float: left;margin-right: 0.25em;color: #696969;}#sk-container-id-9 label.sk-toggleable__label-arrow:hover:before {color: black;}#sk-container-id-9 div.sk-estimator:hover label.sk-toggleable__label-arrow:before {color: black;}#sk-container-id-9 div.sk-toggleable__content {max-height: 0;max-width: 0;overflow: hidden;text-align: left;background-color: #f0f8ff;}#sk-container-id-9 div.sk-toggleable__content pre {margin: 0.2em;color: black;border-radius: 0.25em;background-color: #f0f8ff;}#sk-container-id-9 input.sk-toggleable__control:checked~div.sk-toggleable__content {max-height: 200px;max-width: 100%;overflow: auto;}#sk-container-id-9 input.sk-toggleable__control:checked~label.sk-toggleable__label-arrow:before {content: \"▾\";}#sk-container-id-9 div.sk-estimator input.sk-toggleable__control:checked~label.sk-toggleable__label {background-color: #d4ebff;}#sk-container-id-9 div.sk-label input.sk-toggleable__control:checked~label.sk-toggleable__label {background-color: #d4ebff;}#sk-container-id-9 input.sk-hidden--visually {border: 0;clip: rect(1px 1px 1px 1px);clip: rect(1px, 1px, 1px, 1px);height: 1px;margin: -1px;overflow: hidden;padding: 0;position: absolute;width: 1px;}#sk-container-id-9 div.sk-estimator {font-family: monospace;background-color: #f0f8ff;border: 1px dotted black;border-radius: 0.25em;box-sizing: border-box;margin-bottom: 0.5em;}#sk-container-id-9 div.sk-estimator:hover {background-color: #d4ebff;}#sk-container-id-9 div.sk-parallel-item::after {content: \"\";width: 100%;border-bottom: 1px solid gray;flex-grow: 1;}#sk-container-id-9 div.sk-label:hover label.sk-toggleable__label {background-color: #d4ebff;}#sk-container-id-9 div.sk-serial::before {content: \"\";position: absolute;border-left: 1px solid gray;box-sizing: border-box;top: 0;bottom: 0;left: 50%;z-index: 0;}#sk-container-id-9 div.sk-serial {display: flex;flex-direction: column;align-items: center;background-color: white;padding-right: 0.2em;padding-left: 0.2em;position: relative;}#sk-container-id-9 div.sk-item {position: relative;z-index: 1;}#sk-container-id-9 div.sk-parallel {display: flex;align-items: stretch;justify-content: center;background-color: white;position: relative;}#sk-container-id-9 div.sk-item::before, #sk-container-id-9 div.sk-parallel-item::before {content: \"\";position: absolute;border-left: 1px solid gray;box-sizing: border-box;top: 0;bottom: 0;left: 50%;z-index: -1;}#sk-container-id-9 div.sk-parallel-item {display: flex;flex-direction: column;z-index: 1;position: relative;background-color: white;}#sk-container-id-9 div.sk-parallel-item:first-child::after {align-self: flex-end;width: 50%;}#sk-container-id-9 div.sk-parallel-item:last-child::after {align-self: flex-start;width: 50%;}#sk-container-id-9 div.sk-parallel-item:only-child::after {width: 0;}#sk-container-id-9 div.sk-dashed-wrapped {border: 1px dashed gray;margin: 0 0.4em 0.5em 0.4em;box-sizing: border-box;padding-bottom: 0.4em;background-color: white;}#sk-container-id-9 div.sk-label label {font-family: monospace;font-weight: bold;display: inline-block;line-height: 1.2em;}#sk-container-id-9 div.sk-label-container {text-align: center;}#sk-container-id-9 div.sk-container {/* jupyter's `normalize.less` sets `[hidden] { display: none; }` but bootstrap.min.css set `[hidden] { display: none !important; }` so we also need the `!important` here to be able to override the default hidden behavior on the sphinx rendered scikit-learn.org. See: https://github.com/scikit-learn/scikit-learn/issues/21755 */display: inline-block !important;position: relative;}#sk-container-id-9 div.sk-text-repr-fallback {display: none;}</style><div id=\"sk-container-id-9\" class=\"sk-top-container\"><div class=\"sk-text-repr-fallback\"><pre>LinearRegression()</pre><b>In a Jupyter environment, please rerun this cell to show the HTML representation or trust the notebook. <br />On GitHub, the HTML representation is unable to render, please try loading this page with nbviewer.org.</b></div><div class=\"sk-container\" hidden><div class=\"sk-item\"><div class=\"sk-estimator sk-toggleable\"><input class=\"sk-toggleable__control sk-hidden--visually\" id=\"sk-estimator-id-9\" type=\"checkbox\" checked><label for=\"sk-estimator-id-9\" class=\"sk-toggleable__label sk-toggleable__label-arrow\">LinearRegression</label><div class=\"sk-toggleable__content\"><pre>LinearRegression()</pre></div></div></div></div></div>"
      ],
      "text/plain": [
       "LinearRegression()"
      ]
     },
     "execution_count": 46,
     "metadata": {},
     "output_type": "execute_result"
    }
   ],
   "source": [
    "# creating and training the linear regression model\n",
    "l_reg = linear_model.LinearRegression()\n",
    "l_reg.fit(X_train, y_train)"
   ]
  },
  {
   "cell_type": "code",
   "execution_count": 47,
   "id": "69228c3f",
   "metadata": {},
   "outputs": [
    {
     "data": {
      "text/html": [
       "<style>#sk-container-id-10 {color: black;}#sk-container-id-10 pre{padding: 0;}#sk-container-id-10 div.sk-toggleable {background-color: white;}#sk-container-id-10 label.sk-toggleable__label {cursor: pointer;display: block;width: 100%;margin-bottom: 0;padding: 0.3em;box-sizing: border-box;text-align: center;}#sk-container-id-10 label.sk-toggleable__label-arrow:before {content: \"▸\";float: left;margin-right: 0.25em;color: #696969;}#sk-container-id-10 label.sk-toggleable__label-arrow:hover:before {color: black;}#sk-container-id-10 div.sk-estimator:hover label.sk-toggleable__label-arrow:before {color: black;}#sk-container-id-10 div.sk-toggleable__content {max-height: 0;max-width: 0;overflow: hidden;text-align: left;background-color: #f0f8ff;}#sk-container-id-10 div.sk-toggleable__content pre {margin: 0.2em;color: black;border-radius: 0.25em;background-color: #f0f8ff;}#sk-container-id-10 input.sk-toggleable__control:checked~div.sk-toggleable__content {max-height: 200px;max-width: 100%;overflow: auto;}#sk-container-id-10 input.sk-toggleable__control:checked~label.sk-toggleable__label-arrow:before {content: \"▾\";}#sk-container-id-10 div.sk-estimator input.sk-toggleable__control:checked~label.sk-toggleable__label {background-color: #d4ebff;}#sk-container-id-10 div.sk-label input.sk-toggleable__control:checked~label.sk-toggleable__label {background-color: #d4ebff;}#sk-container-id-10 input.sk-hidden--visually {border: 0;clip: rect(1px 1px 1px 1px);clip: rect(1px, 1px, 1px, 1px);height: 1px;margin: -1px;overflow: hidden;padding: 0;position: absolute;width: 1px;}#sk-container-id-10 div.sk-estimator {font-family: monospace;background-color: #f0f8ff;border: 1px dotted black;border-radius: 0.25em;box-sizing: border-box;margin-bottom: 0.5em;}#sk-container-id-10 div.sk-estimator:hover {background-color: #d4ebff;}#sk-container-id-10 div.sk-parallel-item::after {content: \"\";width: 100%;border-bottom: 1px solid gray;flex-grow: 1;}#sk-container-id-10 div.sk-label:hover label.sk-toggleable__label {background-color: #d4ebff;}#sk-container-id-10 div.sk-serial::before {content: \"\";position: absolute;border-left: 1px solid gray;box-sizing: border-box;top: 0;bottom: 0;left: 50%;z-index: 0;}#sk-container-id-10 div.sk-serial {display: flex;flex-direction: column;align-items: center;background-color: white;padding-right: 0.2em;padding-left: 0.2em;position: relative;}#sk-container-id-10 div.sk-item {position: relative;z-index: 1;}#sk-container-id-10 div.sk-parallel {display: flex;align-items: stretch;justify-content: center;background-color: white;position: relative;}#sk-container-id-10 div.sk-item::before, #sk-container-id-10 div.sk-parallel-item::before {content: \"\";position: absolute;border-left: 1px solid gray;box-sizing: border-box;top: 0;bottom: 0;left: 50%;z-index: -1;}#sk-container-id-10 div.sk-parallel-item {display: flex;flex-direction: column;z-index: 1;position: relative;background-color: white;}#sk-container-id-10 div.sk-parallel-item:first-child::after {align-self: flex-end;width: 50%;}#sk-container-id-10 div.sk-parallel-item:last-child::after {align-self: flex-start;width: 50%;}#sk-container-id-10 div.sk-parallel-item:only-child::after {width: 0;}#sk-container-id-10 div.sk-dashed-wrapped {border: 1px dashed gray;margin: 0 0.4em 0.5em 0.4em;box-sizing: border-box;padding-bottom: 0.4em;background-color: white;}#sk-container-id-10 div.sk-label label {font-family: monospace;font-weight: bold;display: inline-block;line-height: 1.2em;}#sk-container-id-10 div.sk-label-container {text-align: center;}#sk-container-id-10 div.sk-container {/* jupyter's `normalize.less` sets `[hidden] { display: none; }` but bootstrap.min.css set `[hidden] { display: none !important; }` so we also need the `!important` here to be able to override the default hidden behavior on the sphinx rendered scikit-learn.org. See: https://github.com/scikit-learn/scikit-learn/issues/21755 */display: inline-block !important;position: relative;}#sk-container-id-10 div.sk-text-repr-fallback {display: none;}</style><div id=\"sk-container-id-10\" class=\"sk-top-container\"><div class=\"sk-text-repr-fallback\"><pre>BayesianRidge()</pre><b>In a Jupyter environment, please rerun this cell to show the HTML representation or trust the notebook. <br />On GitHub, the HTML representation is unable to render, please try loading this page with nbviewer.org.</b></div><div class=\"sk-container\" hidden><div class=\"sk-item\"><div class=\"sk-estimator sk-toggleable\"><input class=\"sk-toggleable__control sk-hidden--visually\" id=\"sk-estimator-id-10\" type=\"checkbox\" checked><label for=\"sk-estimator-id-10\" class=\"sk-toggleable__label sk-toggleable__label-arrow\">BayesianRidge</label><div class=\"sk-toggleable__content\"><pre>BayesianRidge()</pre></div></div></div></div></div>"
      ],
      "text/plain": [
       "BayesianRidge()"
      ]
     },
     "execution_count": 47,
     "metadata": {},
     "output_type": "execute_result"
    }
   ],
   "source": [
    "# creating and training the bayesian ridge regression model\n",
    "b_ridge = linear_model.BayesianRidge()\n",
    "b_ridge.fit(X_train, y_train)"
   ]
  },
  {
   "cell_type": "code",
   "execution_count": 45,
   "id": "02e50bae",
   "metadata": {},
   "outputs": [
    {
     "name": "stdout",
     "output_type": "stream",
     "text": [
      "--------------------------------------------\n",
      "             LINEAR REGRESSION\n",
      "--------------------------------------------\n",
      "Mean Squared Error: 11835327741.542776\n",
      "r^2:  -0.2474548337668918\n",
      "[ 1.78789354  1.75938621  1.82426279 ... 48.73193566 48.9873245\n",
      " 48.05674977]\n",
      "[55487.10545406 55487.10545406 55487.10545406 ... 55487.10545406\n",
      " 55487.10545406 55487.10545406]\n",
      "--------------------------------------------\n",
      "               BAYESIAN RIDGE\n",
      "--------------------------------------------\n",
      "Mean Squared Error: 67954420003.84059\n",
      "r^2:  -6.1624606906379125\n",
      "[ 1.78789354  1.75938621  1.82426279 ... 48.73193566 48.9873245\n",
      " 48.05674977]\n",
      "[99838.15504961 99838.15504961 99838.15504961 ... 99838.15504961\n",
      " 99838.15504961 99838.15504961]\n",
      "--------------------------------------------\n",
      "                   LASSO\n",
      "--------------------------------------------\n",
      "Mean Squared Error: 0.00233993185037422\n",
      "r^2:  0.9999999999997534\n",
      "[ 1.78789354  1.75938621  1.82426279 ... 48.73193566 48.9873245\n",
      " 48.05674977]\n",
      "[ 1.8605275   1.8315883   1.8966687  ... 48.79088505 49.04610283\n",
      " 48.11618591]\n"
     ]
    }
   ],
   "source": [
    "print(\"--------------------------------------------\")\n",
    "print(\"             LINEAR REGRESSION\")\n",
    "print(\"--------------------------------------------\")\n",
    "\n",
    "# Predict probabilities on the test set\n",
    "l_reg_predictions = l_reg.predict(X_test)\n",
    "\n",
    "# Evaluate the model using mean squared error (MSE)\n",
    "l_reg_mse = mean_squared_error(y_test, l_reg_predictions)\n",
    "print(\"Mean Squared Error:\", l_reg_mse)\n",
    "\n",
    "# Evaluate the model using r^2 value\n",
    "print(\"r^2: \", l_reg.score(X_test, y_test))\n",
    "\n",
    "# print out predictions and actual values to compare visually\n",
    "print(y_test)\n",
    "print(l_reg_predictions)\n",
    "\n",
    "print(\"--------------------------------------------\")\n",
    "print(\"               BAYESIAN RIDGE\")\n",
    "print(\"--------------------------------------------\")\n",
    "\n",
    "# Predict probabilities on the test set\n",
    "b_ridge_predictions = b_ridge.predict(X_test)\n",
    "\n",
    "# Evaluate the model using mean squared error (MSE)\n",
    "b_ridge_mse = mean_squared_error(y_test, b_ridge_predictions)\n",
    "print(\"Mean Squared Error:\", b_ridge_mse)\n",
    "\n",
    "# Evaluate the model using r^2 value\n",
    "print(\"r^2: \", b_ridge.score(X_test, y_test))\n",
    "\n",
    "# print out predictions and actual values to compare visually\n",
    "print(y_test)\n",
    "print(b_ridge_predictions)"
   ]
  },
  {
   "cell_type": "code",
   "execution_count": null,
   "id": "2bfd29fd",
   "metadata": {},
   "outputs": [],
   "source": []
  }
 ],
 "metadata": {
  "kernelspec": {
   "display_name": "Python 3 (ipykernel)",
   "language": "python",
   "name": "python3"
  },
  "language_info": {
   "codemirror_mode": {
    "name": "ipython",
    "version": 3
   },
   "file_extension": ".py",
   "mimetype": "text/x-python",
   "name": "python",
   "nbconvert_exporter": "python",
   "pygments_lexer": "ipython3",
   "version": "3.11.5"
  }
 },
 "nbformat": 4,
 "nbformat_minor": 5
}
