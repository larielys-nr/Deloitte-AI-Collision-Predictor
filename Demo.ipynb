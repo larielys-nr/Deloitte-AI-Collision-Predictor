{
 "cells": [
  {
   "cell_type": "code",
   "execution_count": 41,
   "id": "96d7cb15",
   "metadata": {},
   "outputs": [
    {
     "name": "stdout",
     "output_type": "stream",
     "text": [
      "/Users/rakeshmehta/Desktop/AI-Collision-Algo/Data/train_data.csv\n",
      "/Users/rakeshmehta/Desktop/AI-Collision-Algo/Data/test_data.csv\n",
      "       event_id  time_to_tca  mission_id       risk  miss_distance  \\\n",
      "5             1     6.530455           5  -7.561299         2392.0   \n",
      "6             1     5.561646           5  -9.315693         3587.0   \n",
      "7             1     5.226504           5  -7.422508         7882.0   \n",
      "8             1     3.570013           5  -9.248105        26899.0   \n",
      "29            3     6.950088          19  -9.568315        29654.0   \n",
      "...         ...          ...         ...        ...            ...   \n",
      "24464      2165     3.596498           2 -14.871278        14955.0   \n",
      "24465      2165     3.290859           2 -13.675101        13362.0   \n",
      "24466      2165     2.950547           2 -13.856673        13582.0   \n",
      "24467      2165     2.570998           2 -13.486516        13218.0   \n",
      "24468      2165     2.263915           2 -13.484391        13235.0   \n",
      "\n",
      "       relative_speed  relative_position_r  relative_position_t  \\\n",
      "5              3434.0                 74.3               2317.1   \n",
      "6              3434.0                 99.0               3475.4   \n",
      "7              3434.0                -50.0              -7638.3   \n",
      "8              3434.0                -82.0             -26067.0   \n",
      "29            13574.0                 19.2              12494.9   \n",
      "...               ...                  ...                  ...   \n",
      "24464         10774.0               -493.3             -10327.7   \n",
      "24465         10774.0               -499.1              -9227.1   \n",
      "24466         10774.0               -499.6              -9378.0   \n",
      "24467         10774.0               -496.1              -9126.3   \n",
      "24468         10774.0               -495.0              -9141.5   \n",
      "\n",
      "       relative_position_n  relative_velocity_r  ...  t_sigma_rdot  \\\n",
      "5                   -589.4                 25.9  ...      0.278354   \n",
      "6                   -885.1                 24.7  ...      0.240907   \n",
      "7                   1945.7                 36.8  ...      0.240198   \n",
      "8                   6638.2                 56.8  ...      0.124802   \n",
      "29                 26893.3                -42.3  ...      0.481195   \n",
      "...                    ...                  ...  ...           ...   \n",
      "24464              10805.2                 41.3  ...      0.106972   \n",
      "24465               9651.8                 40.1  ...      0.092988   \n",
      "24466               9812.0                 40.3  ...      0.071184   \n",
      "24467               9549.9                 40.0  ...      0.061199   \n",
      "24468               9559.3                 40.0  ...      0.053452   \n",
      "\n",
      "       c_sigma_rdot  t_sigma_tdot  c_sigma_tdot  t_sigma_ndot  c_sigma_ndot  \\\n",
      "5         84.677411      0.006980      0.320622      0.004199      0.047385   \n",
      "6         63.860857      0.006402      0.264636      0.003725      0.040020   \n",
      "7         56.764910      0.005906      0.259109      0.003588      0.083247   \n",
      "8         30.242768      0.005883      0.174956      0.003408      0.058311   \n",
      "29        23.297730      0.006014      0.083363      0.010349      0.367497   \n",
      "...             ...           ...           ...           ...           ...   \n",
      "24464      4.559754      0.006905      0.101158      0.004603      0.068380   \n",
      "24465      4.834497      0.006582      0.101173      0.004266      0.068378   \n",
      "24466      4.796283      0.005557      0.101172      0.004025      0.068378   \n",
      "24467      4.858033      0.005302      0.101164      0.004192      0.068378   \n",
      "24468      4.860131      0.004890      0.101169      0.004277      0.068378   \n",
      "\n",
      "         F10   F3M   SSN    AP  \n",
      "5       71.0  88.0   0.0   2.0  \n",
      "6       70.0  87.0  13.0  14.0  \n",
      "7       70.0  87.0  13.0  14.0  \n",
      "8       71.0  87.0  21.0   5.0  \n",
      "29      68.0  70.0   0.0  18.0  \n",
      "...      ...   ...   ...   ...  \n",
      "24464  108.0  92.0  87.0  13.0  \n",
      "24465  102.0  92.0  55.0  12.0  \n",
      "24466  102.0  92.0  55.0  12.0  \n",
      "24467  103.0  92.0  38.0  12.0  \n",
      "24468  103.0  92.0  38.0  12.0  \n",
      "\n",
      "[112672 rows x 100 columns]\n"
     ]
    }
   ],
   "source": [
    "# Imports\n",
    "import pandas as pd\n",
    "import numpy as np\n",
    "from pathlib import Path\n",
    "import joblib\n",
    "import random\n",
    "\n",
    "# Load the Machine Learning Model\n",
    "reg = joblib.load('ensemble.joblib')\n",
    "train_data_path = '/Users/rakeshmehta/Desktop/AI-Collision-Algo/Data/train_data.csv'\n",
    "test_data_path = '/Users/rakeshmehta/Desktop/AI-Collision-Algo/Data/test_data.csv'\n",
    "print(train_data_path)\n",
    "print(test_data_path)\n",
    "\n",
    "# Put the training and testing data into a DataFrame\n",
    "train_data = pd.read_csv(train_data_path)\n",
    "test_data = pd.read_csv(test_data_path)\n",
    "\n",
    "# clean up data by removing column of UNKNOWN from the training and testing DataFrames\n",
    "train_data = train_data.drop(columns = ['c_object_type', 'max_risk_estimate', 'max_risk_scaling'])\n",
    "test_data = test_data.drop(columns = ['c_object_type', 'max_risk_estimate', 'max_risk_scaling'])\n",
    "train_data = train_data.dropna()\n",
    "test_data = test_data.dropna()\n",
    "\n",
    "\n",
    "full_data = pd.concat([train_data, test_data])\n",
    "\n",
    "print(full_data)"
   ]
  },
  {
   "cell_type": "code",
   "execution_count": 50,
   "id": "6ad20d1e",
   "metadata": {},
   "outputs": [
    {
     "name": "stdout",
     "output_type": "stream",
     "text": [
      "        event_id  time_to_tca  mission_id       risk  miss_distance  \\\n",
      "124027     10020     4.747318          19 -12.152983         5590.0   \n",
      "\n",
      "        relative_speed  relative_position_r  relative_position_t  \\\n",
      "124027         10214.0                262.1              -4089.4   \n",
      "\n",
      "        relative_position_n  relative_velocity_r  ...  t_sigma_rdot  \\\n",
      "124027               3803.0                  3.4  ...        0.1146   \n",
      "\n",
      "        c_sigma_rdot  t_sigma_tdot  c_sigma_tdot  t_sigma_ndot  c_sigma_ndot  \\\n",
      "124027      5.408154      0.003213      0.047283      0.008465      0.021711   \n",
      "\n",
      "         F10   F3M   SSN   AP  \n",
      "124027  72.0  70.0  13.0  5.0  \n",
      "\n",
      "[1 rows x 100 columns]\n"
     ]
    }
   ],
   "source": [
    "# Pick a random row from the dataset\n",
    "randint = random.randint(0,len(full_data)-1)\n",
    "sample = full_data.iloc[randint:randint+1]\n",
    "print(sample)"
   ]
  },
  {
   "cell_type": "code",
   "execution_count": 51,
   "id": "3c6d284d",
   "metadata": {
    "scrolled": false
   },
   "outputs": [
    {
     "name": "stdout",
     "output_type": "stream",
     "text": [
      "-12.152983\n",
      "[-12.6905534]\n"
     ]
    },
    {
     "name": "stderr",
     "output_type": "stream",
     "text": [
      "/Users/rakeshmehta/anaconda3/lib/python3.11/site-packages/sklearn/base.py:457: UserWarning: X has feature names, but Lasso was fitted without feature names\n",
      "  warnings.warn(\n",
      "/Users/rakeshmehta/anaconda3/lib/python3.11/site-packages/sklearn/base.py:457: UserWarning: X has feature names, but ElasticNet was fitted without feature names\n",
      "  warnings.warn(\n"
     ]
    }
   ],
   "source": [
    "# Plug data into the Model and output the prediction\n",
    "prediction = reg.predict(sample)\n",
    "print(sample.risk.to_string(index=False))\n",
    "print(prediction)"
   ]
  },
  {
   "cell_type": "code",
   "execution_count": null,
   "id": "5e2529a9",
   "metadata": {},
   "outputs": [],
   "source": []
  }
 ],
 "metadata": {
  "kernelspec": {
   "display_name": "Python 3 (ipykernel)",
   "language": "python",
   "name": "python3"
  },
  "language_info": {
   "codemirror_mode": {
    "name": "ipython",
    "version": 3
   },
   "file_extension": ".py",
   "mimetype": "text/x-python",
   "name": "python",
   "nbconvert_exporter": "python",
   "pygments_lexer": "ipython3",
   "version": "3.11.5"
  }
 },
 "nbformat": 4,
 "nbformat_minor": 5
}
