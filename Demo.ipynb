{
 "cells": [
  {
   "cell_type": "code",
   "execution_count": 34,
   "id": "96d7cb15",
   "metadata": {},
   "outputs": [
    {
     "name": "stdout",
     "output_type": "stream",
     "text": [
      "/Users/rakeshmehta/Desktop/AI-Collision-Algo/Data/train_data.csv\n",
      "/Users/rakeshmehta/Desktop/AI-Collision-Algo/Data/test_data.csv\n",
      "       event_id  time_to_tca  mission_id       risk  ...   F10   F3M   SSN    AP\n",
      "0             0     1.566798           5 -10.204955  ...  89.0  83.0  42.0  11.0\n",
      "1             0     1.207494           5 -10.355758  ...  89.0  83.0  42.0  11.0\n",
      "2             0     0.952193           5 -10.345631  ...  89.0  83.0  42.0  11.0\n",
      "3             0     0.579669           5 -10.337809  ...  89.0  83.0  40.0  14.0\n",
      "4             0     0.257806           5 -10.391260  ...  89.0  83.0  40.0  14.0\n",
      "...         ...          ...         ...        ...  ...   ...   ...   ...   ...\n",
      "24479      2166     3.341421           7 -24.867740  ...  80.0  85.0  13.0   6.0\n",
      "24480      2166     2.953281           7 -25.012647  ...  80.0  85.0  24.0  14.0\n",
      "24481      2166     2.681377           7 -25.436875  ...  80.0  85.0  24.0  14.0\n",
      "24482      2166     2.267385           7 -25.538052  ...  80.0  85.0  24.0  14.0\n",
      "24483      2166     2.030470           7 -25.127960  ...  78.0  85.0  26.0  11.0\n",
      "\n",
      "[187118 rows x 100 columns]\n"
     ]
    }
   ],
   "source": [
    "# Imports\n",
    "import pandas as pd\n",
    "import numpy as np\n",
    "from pathlib import Path\n",
    "import joblib\n",
    "import random\n",
    "\n",
    "# Load the Machine Learning Model\n",
    "reg = joblib.load('ensemble.joblib')\n",
    "train_data_path = '/Users/rakeshmehta/Desktop/AI-Collision-Algo/Data/train_data.csv'\n",
    "test_data_path = '/Users/rakeshmehta/Desktop/AI-Collision-Algo/Data/test_data.csv'\n",
    "print(train_data_path)\n",
    "print(test_data_path)\n",
    "\n",
    "# Put the training and testing data into a DataFrame\n",
    "train_data = pd.read_csv(train_data_path)\n",
    "test_data = pd.read_csv(test_data_path)\n",
    "\n",
    "# clean up data by removing column of UNKNOWN from the training and testing DataFrames\n",
    "train_data = train_data.drop(columns = ['c_object_type', 'max_risk_estimate', 'max_risk_scaling'])\n",
    "test_data = test_data.drop(columns = ['c_object_type', 'max_risk_estimate', 'max_risk_scaling'])\n",
    "\n",
    "full_data = pd.concat([train_data, test_data])\n",
    "\n",
    "print(full_data)"
   ]
  },
  {
   "cell_type": "code",
   "execution_count": 35,
   "id": "6ad20d1e",
   "metadata": {},
   "outputs": [
    {
     "name": "stdout",
     "output_type": "stream",
     "text": [
      "        event_id  time_to_tca  mission_id  risk  ...   F10   F3M  SSN   AP\n",
      "100404      8084     2.977592          15 -30.0  ...  69.0  71.0  0.0  8.0\n",
      "\n",
      "[1 rows x 100 columns]\n"
     ]
    }
   ],
   "source": [
    "# Pick a random row from the dataset\n",
    "randint = random.randint(0,len(full_data)-1)\n",
    "sample = full_data.iloc[randint:randint+1]\n",
    "print(sample)"
   ]
  },
  {
   "cell_type": "code",
   "execution_count": 43,
   "id": "3c6d284d",
   "metadata": {
    "scrolled": false
   },
   "outputs": [
    {
     "name": "stdout",
     "output_type": "stream",
     "text": [
      "-30.0\n",
      "[-29.23102494]\n"
     ]
    },
    {
     "name": "stderr",
     "output_type": "stream",
     "text": [
      "/Users/rakeshmehta/anaconda3/lib/python3.11/site-packages/sklearn/base.py:457: UserWarning: X has feature names, but Lasso was fitted without feature names\n",
      "  warnings.warn(\n",
      "/Users/rakeshmehta/anaconda3/lib/python3.11/site-packages/sklearn/base.py:457: UserWarning: X has feature names, but ElasticNet was fitted without feature names\n",
      "  warnings.warn(\n"
     ]
    }
   ],
   "source": [
    "# Plug data into the Model and output the prediction\n",
    "prediction = reg.predict(sample)\n",
    "print(sample.risk.to_string(index=False))\n",
    "print(prediction)"
   ]
  },
  {
   "cell_type": "code",
   "execution_count": null,
   "id": "5e2529a9",
   "metadata": {},
   "outputs": [],
   "source": []
  }
 ],
 "metadata": {
  "kernelspec": {
   "display_name": "Python 3 (ipykernel)",
   "language": "python",
   "name": "python3"
  },
  "language_info": {
   "codemirror_mode": {
    "name": "ipython",
    "version": 3
   },
   "file_extension": ".py",
   "mimetype": "text/x-python",
   "name": "python",
   "nbconvert_exporter": "python",
   "pygments_lexer": "ipython3",
   "version": "3.11.5"
  }
 },
 "nbformat": 4,
 "nbformat_minor": 5
}
