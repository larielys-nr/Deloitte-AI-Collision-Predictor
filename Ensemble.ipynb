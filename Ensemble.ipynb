{
 "cells": [
  {
   "cell_type": "code",
   "execution_count": 1,
   "id": "7029d039",
   "metadata": {},
   "outputs": [
    {
     "data": {
      "text/plain": [
       "'\\n***********************\\n-----------------------\\n         SETUP\\n-----------------------\\n***********************\\n'"
      ]
     },
     "execution_count": 1,
     "metadata": {},
     "output_type": "execute_result"
    }
   ],
   "source": [
    "\"\"\"\n",
    "***********************\n",
    "-----------------------\n",
    "         SETUP\n",
    "-----------------------\n",
    "***********************\n",
    "\"\"\""
   ]
  },
  {
   "cell_type": "code",
   "execution_count": 2,
   "id": "7408d2b9",
   "metadata": {},
   "outputs": [],
   "source": [
    "# Imports\n",
    "\n",
    "# Data\n",
    "import pandas as pd\n",
    "import numpy as np\n",
    "import matplotlib.pyplot as plt\n",
    "from pathlib import Path\n",
    "\n",
    "# Models and sklearn\n",
    "import joblib\n",
    "from sklearn import linear_model\n",
    "from sklearn.linear_model import Lasso\n",
    "from sklearn.linear_model import ElasticNet\n",
    "from sklearn.impute import SimpleImputer\n",
    "from sklearn import metrics\n",
    "from sklearn.metrics import mean_squared_error\n",
    "from sklearn.ensemble import RandomForestRegressor\n",
    "from sklearn.ensemble import GradientBoostingRegressor\n",
    "\n",
    "# Feature Importance\n",
    "from sklearn import decomposition\n",
    "from sklearn.ensemble import StackingRegressor\n",
    "\n",
    "#Cross Fold Validation\n",
    "from sklearn.model_selection import cross_val_score\n",
    "\n",
    "#joblib\n",
    "import joblib"
   ]
  },
  {
   "cell_type": "code",
   "execution_count": 3,
   "id": "1f53a14c",
   "metadata": {
    "scrolled": false
   },
   "outputs": [
    {
     "name": "stdout",
     "output_type": "stream",
     "text": [
      "/Users/rakeshmehta/Desktop/AI-Collision-Algo/Data/train_data.csv\n",
      "/Users/rakeshmehta/Desktop/AI-Collision-Algo/Data/test_data.csv\n",
      "   event_id  time_to_tca  mission_id       risk  max_risk_estimate  \\\n",
      "0         0     1.566798           5 -10.204955          -7.834756   \n",
      "1         0     1.207494           5 -10.355758          -7.848937   \n",
      "2         0     0.952193           5 -10.345631          -7.847406   \n",
      "3         0     0.579669           5 -10.337809          -7.845880   \n",
      "4         0     0.257806           5 -10.391260          -7.852942   \n",
      "5         1     6.530455           5  -7.561299          -7.254301   \n",
      "6         1     5.561646           5  -9.315693          -7.468904   \n",
      "7         1     5.226504           5  -7.422508          -7.051001   \n",
      "8         1     3.570013           5  -9.248105          -7.327533   \n",
      "9         2     6.983474           2 -10.816161          -6.601713   \n",
      "\n",
      "   max_risk_scaling  miss_distance  relative_speed  relative_position_r  \\\n",
      "0          8.602101        14923.0         13792.0                453.8   \n",
      "1          8.956374        14544.0         13792.0                474.3   \n",
      "2          8.932195        14475.0         13792.0                474.6   \n",
      "3          8.913444        14579.0         13792.0                472.7   \n",
      "4          9.036838        14510.0         13792.0                478.7   \n",
      "5          2.746782         2392.0          3434.0                 74.3   \n",
      "6          7.223137         3587.0          3434.0                 99.0   \n",
      "7          2.956639         7882.0          3434.0                -50.0   \n",
      "8          7.425994        26899.0          3434.0                -82.0   \n",
      "9         13.293159        22902.0         14348.0              -1157.6   \n",
      "\n",
      "   relative_position_t  ...  t_sigma_rdot  c_sigma_rdot  t_sigma_tdot  \\\n",
      "0               5976.6  ...      0.147350     58.272095      0.004092   \n",
      "1               5821.2  ...      0.059672     57.966413      0.003753   \n",
      "2               5796.2  ...      0.039258     57.907599      0.003576   \n",
      "3               5838.9  ...      0.022066     57.993905      0.003298   \n",
      "4               5811.1  ...      0.015075     57.946717      0.003670   \n",
      "5               2317.1  ...      0.278354     84.677411      0.006980   \n",
      "6               3475.4  ...      0.240907     63.860857      0.006402   \n",
      "7              -7638.3  ...      0.240198     56.764910      0.005906   \n",
      "8             -26067.0  ...      0.124802     30.242768      0.005883   \n",
      "9              -6306.2  ...      0.153332     39.695541      0.009370   \n",
      "\n",
      "   c_sigma_tdot  t_sigma_ndot  c_sigma_ndot   F10   F3M   SSN    AP  \n",
      "0      0.165044      0.002987      0.386462  89.0  83.0  42.0  11.0  \n",
      "1      0.164383      0.002933      0.386393  89.0  83.0  42.0  11.0  \n",
      "2      0.164352      0.002967      0.386381  89.0  83.0  42.0  11.0  \n",
      "3      0.164309      0.002918      0.386400  89.0  83.0  40.0  14.0  \n",
      "4      0.164172      0.003220      0.386388  89.0  83.0  40.0  14.0  \n",
      "5      0.320622      0.004199      0.047385  71.0  88.0   0.0   2.0  \n",
      "6      0.264636      0.003725      0.040020  70.0  87.0  13.0  14.0  \n",
      "7      0.259109      0.003588      0.083247  70.0  87.0  13.0  14.0  \n",
      "8      0.174956      0.003408      0.058311  71.0  87.0  21.0   5.0  \n",
      "9      0.269965      0.003886      0.339406  73.0  77.0  27.0   4.0  \n",
      "\n",
      "[10 rows x 102 columns]\n",
      "   event_id  time_to_tca  mission_id      risk  max_risk_estimate  \\\n",
      "0         0     6.842095          19 -7.296967          -7.208941   \n",
      "1         0     6.571818          19 -7.282496          -7.199833   \n",
      "2         0     6.112986          19 -7.316053          -7.217886   \n",
      "3         0     5.921955          19 -7.334138          -7.228707   \n",
      "4         0     2.228761          19 -7.332267          -7.227312   \n",
      "5         1     2.578485           3 -7.855737          -5.514563   \n",
      "6         1     2.129518           3 -7.933674          -5.528562   \n",
      "7         2     6.852257           1 -4.643210          -4.498804   \n",
      "8         2     6.589004           1 -4.775467          -4.729088   \n",
      "9         2     6.275290           1 -4.777804          -4.733768   \n",
      "\n",
      "   max_risk_scaling  miss_distance  relative_speed  relative_position_r  \\\n",
      "0          1.787894        31816.0          7929.0               -365.5   \n",
      "1          1.759386        31095.0          7929.0               -361.8   \n",
      "2          1.824263        32202.0          7929.0               -370.7   \n",
      "3          1.865396        32878.0          7929.0               -376.3   \n",
      "4          1.863127        32792.0          7929.0               -375.6   \n",
      "5          8.537122          953.0            63.0                485.7   \n",
      "6          8.701856          935.0            63.0                478.6   \n",
      "7          0.386347        21175.0          9279.0                 14.7   \n",
      "8          0.606271        19999.0          9279.0                -21.1   \n",
      "9          0.616672        19885.0          9279.0                -24.5   \n",
      "\n",
      "   relative_position_t  ...  t_sigma_rdot  c_sigma_rdot  t_sigma_tdot  \\\n",
      "0              26967.0  ...      0.371943     29.669476      0.007763   \n",
      "1              26356.6  ...      0.364986     29.460828      0.007762   \n",
      "2              27294.4  ...      0.303518     29.747208      0.008190   \n",
      "3              27867.5  ...      0.295359     29.926660      0.007698   \n",
      "4              27793.8  ...      0.056579     29.845809      0.006125   \n",
      "5               -798.5  ...      0.047740      0.835797      0.008167   \n",
      "6               -779.0  ...      0.043798      0.847026      0.007969   \n",
      "7             -16644.3  ...      0.255074     32.995947      0.002470   \n",
      "8             -15719.4  ...      0.253191     25.340767      0.002425   \n",
      "9             -15630.1  ...      0.233699     25.179140      0.004225   \n",
      "\n",
      "   c_sigma_tdot  t_sigma_ndot  c_sigma_ndot   F10   F3M   SSN    AP  \n",
      "0      0.223996      0.011833      1.375099  76.0  74.0  29.0  11.0  \n",
      "1      0.223983      0.011833      1.375117  75.0  74.0  24.0   9.0  \n",
      "2      0.223999      0.010530      1.375092  75.0  74.0  24.0   9.0  \n",
      "3      0.224004      0.010449      1.375077  75.0  74.0  24.0   9.0  \n",
      "4      0.224004      0.007821      1.375085  71.0  73.0   0.0   4.0  \n",
      "5      0.098724      0.008423      0.152931  71.0  71.0  17.0   6.0  \n",
      "6      0.098734      0.008487      0.152913  71.0  71.0  17.0   6.0  \n",
      "7      0.090588      0.004895      0.057611  66.0  71.0   0.0   3.0  \n",
      "8      0.123994      0.004657      0.064739  66.0  71.0   0.0   3.0  \n",
      "9      0.124019      0.008794      0.064715  66.0  71.0   0.0   3.0  \n",
      "\n",
      "[10 rows x 102 columns]\n"
     ]
    }
   ],
   "source": [
    "# get the path of data\n",
    "# !!!!!!!!!!!!!!!!!!!!!!!!!!!!!!!!!!!!!!\n",
    "# !!!other users, pls input your path!!!\n",
    "# !!!!!!!!!!!!!!!!!!!!!!!!!!!!!!!!!!!!!!\n",
    "train_data_path = '/Users/rakeshmehta/Desktop/AI-Collision-Algo/Data/train_data.csv'\n",
    "test_data_path = '/Users/rakeshmehta/Desktop/AI-Collision-Algo/Data/test_data.csv'\n",
    "print(train_data_path)\n",
    "print(test_data_path)\n",
    "\n",
    "# put the training and testing data into a DataFrame\n",
    "train_data = pd.read_csv(train_data_path)\n",
    "test_data = pd.read_csv(test_data_path)\n",
    "\n",
    "# clean up data by removing column of UNKNOWN from the training and testing DataFrames\n",
    "train_data = train_data.drop(columns = ['c_object_type'])\n",
    "test_data = test_data.drop(columns = ['c_object_type'])\n",
    "\n",
    "print(train_data.head(10))\n",
    "print(test_data.head(10))"
   ]
  },
  {
   "cell_type": "code",
   "execution_count": 4,
   "id": "471a1dae",
   "metadata": {
    "scrolled": false
   },
   "outputs": [
    {
     "name": "stdout",
     "output_type": "stream",
     "text": [
      "--------------------------------------------\n",
      "                 Features\n",
      "--------------------------------------------\n",
      "Training Features Shape:  (162634, 100)\n",
      "Testing Features Shape:  (24484, 100)\n",
      "--------------------------------------------\n",
      "                  Labels\n",
      "--------------------------------------------\n",
      "Training Labels Shape:  (162634,)\n",
      "Testing Labels Shape:  (24484,)\n"
     ]
    }
   ],
   "source": [
    "# set up the Features and Lables\n",
    "# training\n",
    "X_train = train_data.drop(columns=['max_risk_scaling', 'max_risk_estimate'])\n",
    "y_train = train_data['risk'].values\n",
    "# testing\n",
    "X_test = test_data.drop(columns=['max_risk_scaling', 'max_risk_estimate'])\n",
    "y_test = test_data['risk'].values\n",
    "\n",
    "# verify the shape of the matrices of data\n",
    "print(\"--------------------------------------------\")\n",
    "print(\"                 Features\")\n",
    "print(\"--------------------------------------------\")\n",
    "print(\"Training Features Shape: \", X_train.shape)\n",
    "print(\"Testing Features Shape: \", X_test.shape)\n",
    "print(\"--------------------------------------------\")\n",
    "print(\"                  Labels\")\n",
    "print(\"--------------------------------------------\")\n",
    "print(\"Training Labels Shape: \", y_train.shape)\n",
    "print(\"Testing Labels Shape: \", y_test.shape)"
   ]
  },
  {
   "cell_type": "code",
   "execution_count": 5,
   "id": "9538059b",
   "metadata": {},
   "outputs": [
    {
     "name": "stdout",
     "output_type": "stream",
     "text": [
      "(162634, 100)\n",
      "(162634,)\n",
      "(24484, 100)\n",
      "(24484,)\n"
     ]
    }
   ],
   "source": [
    "# create an imputer object with strategy (e.g. mean, median, mode) to get rid of NaN values\n",
    "imputer = SimpleImputer(strategy='mean')\n",
    "\n",
    "# Apply imputation to the Data\n",
    "X_train = imputer.fit_transform(X_train)\n",
    "X_test = imputer.fit_transform(X_test)\n",
    "\n",
    "# Print out shape again to verify X and y are same size\n",
    "print(np.shape(X_train))\n",
    "print(np.shape(y_train))\n",
    "print(np.shape(X_test))\n",
    "print(np.shape(y_test))"
   ]
  },
  {
   "cell_type": "code",
   "execution_count": 6,
   "id": "12494531",
   "metadata": {
    "scrolled": false
   },
   "outputs": [
    {
     "data": {
      "text/plain": [
       "'\\n***********************\\n-----------------------\\n      REGRESSIONS\\n-----------------------\\n***********************\\n'"
      ]
     },
     "execution_count": 6,
     "metadata": {},
     "output_type": "execute_result"
    }
   ],
   "source": [
    "\"\"\"\n",
    "***********************\n",
    "-----------------------\n",
    "      REGRESSIONS\n",
    "-----------------------\n",
    "***********************\n",
    "\"\"\""
   ]
  },
  {
   "cell_type": "code",
   "execution_count": 7,
   "id": "03c41479",
   "metadata": {
    "scrolled": false
   },
   "outputs": [
    {
     "data": {
      "text/html": [
       "<style>#sk-container-id-1 {color: black;}#sk-container-id-1 pre{padding: 0;}#sk-container-id-1 div.sk-toggleable {background-color: white;}#sk-container-id-1 label.sk-toggleable__label {cursor: pointer;display: block;width: 100%;margin-bottom: 0;padding: 0.3em;box-sizing: border-box;text-align: center;}#sk-container-id-1 label.sk-toggleable__label-arrow:before {content: \"▸\";float: left;margin-right: 0.25em;color: #696969;}#sk-container-id-1 label.sk-toggleable__label-arrow:hover:before {color: black;}#sk-container-id-1 div.sk-estimator:hover label.sk-toggleable__label-arrow:before {color: black;}#sk-container-id-1 div.sk-toggleable__content {max-height: 0;max-width: 0;overflow: hidden;text-align: left;background-color: #f0f8ff;}#sk-container-id-1 div.sk-toggleable__content pre {margin: 0.2em;color: black;border-radius: 0.25em;background-color: #f0f8ff;}#sk-container-id-1 input.sk-toggleable__control:checked~div.sk-toggleable__content {max-height: 200px;max-width: 100%;overflow: auto;}#sk-container-id-1 input.sk-toggleable__control:checked~label.sk-toggleable__label-arrow:before {content: \"▾\";}#sk-container-id-1 div.sk-estimator input.sk-toggleable__control:checked~label.sk-toggleable__label {background-color: #d4ebff;}#sk-container-id-1 div.sk-label input.sk-toggleable__control:checked~label.sk-toggleable__label {background-color: #d4ebff;}#sk-container-id-1 input.sk-hidden--visually {border: 0;clip: rect(1px 1px 1px 1px);clip: rect(1px, 1px, 1px, 1px);height: 1px;margin: -1px;overflow: hidden;padding: 0;position: absolute;width: 1px;}#sk-container-id-1 div.sk-estimator {font-family: monospace;background-color: #f0f8ff;border: 1px dotted black;border-radius: 0.25em;box-sizing: border-box;margin-bottom: 0.5em;}#sk-container-id-1 div.sk-estimator:hover {background-color: #d4ebff;}#sk-container-id-1 div.sk-parallel-item::after {content: \"\";width: 100%;border-bottom: 1px solid gray;flex-grow: 1;}#sk-container-id-1 div.sk-label:hover label.sk-toggleable__label {background-color: #d4ebff;}#sk-container-id-1 div.sk-serial::before {content: \"\";position: absolute;border-left: 1px solid gray;box-sizing: border-box;top: 0;bottom: 0;left: 50%;z-index: 0;}#sk-container-id-1 div.sk-serial {display: flex;flex-direction: column;align-items: center;background-color: white;padding-right: 0.2em;padding-left: 0.2em;position: relative;}#sk-container-id-1 div.sk-item {position: relative;z-index: 1;}#sk-container-id-1 div.sk-parallel {display: flex;align-items: stretch;justify-content: center;background-color: white;position: relative;}#sk-container-id-1 div.sk-item::before, #sk-container-id-1 div.sk-parallel-item::before {content: \"\";position: absolute;border-left: 1px solid gray;box-sizing: border-box;top: 0;bottom: 0;left: 50%;z-index: -1;}#sk-container-id-1 div.sk-parallel-item {display: flex;flex-direction: column;z-index: 1;position: relative;background-color: white;}#sk-container-id-1 div.sk-parallel-item:first-child::after {align-self: flex-end;width: 50%;}#sk-container-id-1 div.sk-parallel-item:last-child::after {align-self: flex-start;width: 50%;}#sk-container-id-1 div.sk-parallel-item:only-child::after {width: 0;}#sk-container-id-1 div.sk-dashed-wrapped {border: 1px dashed gray;margin: 0 0.4em 0.5em 0.4em;box-sizing: border-box;padding-bottom: 0.4em;background-color: white;}#sk-container-id-1 div.sk-label label {font-family: monospace;font-weight: bold;display: inline-block;line-height: 1.2em;}#sk-container-id-1 div.sk-label-container {text-align: center;}#sk-container-id-1 div.sk-container {/* jupyter's `normalize.less` sets `[hidden] { display: none; }` but bootstrap.min.css set `[hidden] { display: none !important; }` so we also need the `!important` here to be able to override the default hidden behavior on the sphinx rendered scikit-learn.org. See: https://github.com/scikit-learn/scikit-learn/issues/21755 */display: inline-block !important;position: relative;}#sk-container-id-1 div.sk-text-repr-fallback {display: none;}</style><div id=\"sk-container-id-1\" class=\"sk-top-container\"><div class=\"sk-text-repr-fallback\"><pre>LinearRegression()</pre><b>In a Jupyter environment, please rerun this cell to show the HTML representation or trust the notebook. <br />On GitHub, the HTML representation is unable to render, please try loading this page with nbviewer.org.</b></div><div class=\"sk-container\" hidden><div class=\"sk-item\"><div class=\"sk-estimator sk-toggleable\"><input class=\"sk-toggleable__control sk-hidden--visually\" id=\"sk-estimator-id-1\" type=\"checkbox\" checked><label for=\"sk-estimator-id-1\" class=\"sk-toggleable__label sk-toggleable__label-arrow\">LinearRegression</label><div class=\"sk-toggleable__content\"><pre>LinearRegression()</pre></div></div></div></div></div>"
      ],
      "text/plain": [
       "LinearRegression()"
      ]
     },
     "execution_count": 7,
     "metadata": {},
     "output_type": "execute_result"
    }
   ],
   "source": [
    "# creating and training the linear regression model\n",
    "l_reg = linear_model.LinearRegression()\n",
    "l_reg.fit(X_train, y_train)"
   ]
  },
  {
   "cell_type": "code",
   "execution_count": 8,
   "id": "69228c3f",
   "metadata": {
    "scrolled": false
   },
   "outputs": [
    {
     "data": {
      "text/html": [
       "<style>#sk-container-id-2 {color: black;}#sk-container-id-2 pre{padding: 0;}#sk-container-id-2 div.sk-toggleable {background-color: white;}#sk-container-id-2 label.sk-toggleable__label {cursor: pointer;display: block;width: 100%;margin-bottom: 0;padding: 0.3em;box-sizing: border-box;text-align: center;}#sk-container-id-2 label.sk-toggleable__label-arrow:before {content: \"▸\";float: left;margin-right: 0.25em;color: #696969;}#sk-container-id-2 label.sk-toggleable__label-arrow:hover:before {color: black;}#sk-container-id-2 div.sk-estimator:hover label.sk-toggleable__label-arrow:before {color: black;}#sk-container-id-2 div.sk-toggleable__content {max-height: 0;max-width: 0;overflow: hidden;text-align: left;background-color: #f0f8ff;}#sk-container-id-2 div.sk-toggleable__content pre {margin: 0.2em;color: black;border-radius: 0.25em;background-color: #f0f8ff;}#sk-container-id-2 input.sk-toggleable__control:checked~div.sk-toggleable__content {max-height: 200px;max-width: 100%;overflow: auto;}#sk-container-id-2 input.sk-toggleable__control:checked~label.sk-toggleable__label-arrow:before {content: \"▾\";}#sk-container-id-2 div.sk-estimator input.sk-toggleable__control:checked~label.sk-toggleable__label {background-color: #d4ebff;}#sk-container-id-2 div.sk-label input.sk-toggleable__control:checked~label.sk-toggleable__label {background-color: #d4ebff;}#sk-container-id-2 input.sk-hidden--visually {border: 0;clip: rect(1px 1px 1px 1px);clip: rect(1px, 1px, 1px, 1px);height: 1px;margin: -1px;overflow: hidden;padding: 0;position: absolute;width: 1px;}#sk-container-id-2 div.sk-estimator {font-family: monospace;background-color: #f0f8ff;border: 1px dotted black;border-radius: 0.25em;box-sizing: border-box;margin-bottom: 0.5em;}#sk-container-id-2 div.sk-estimator:hover {background-color: #d4ebff;}#sk-container-id-2 div.sk-parallel-item::after {content: \"\";width: 100%;border-bottom: 1px solid gray;flex-grow: 1;}#sk-container-id-2 div.sk-label:hover label.sk-toggleable__label {background-color: #d4ebff;}#sk-container-id-2 div.sk-serial::before {content: \"\";position: absolute;border-left: 1px solid gray;box-sizing: border-box;top: 0;bottom: 0;left: 50%;z-index: 0;}#sk-container-id-2 div.sk-serial {display: flex;flex-direction: column;align-items: center;background-color: white;padding-right: 0.2em;padding-left: 0.2em;position: relative;}#sk-container-id-2 div.sk-item {position: relative;z-index: 1;}#sk-container-id-2 div.sk-parallel {display: flex;align-items: stretch;justify-content: center;background-color: white;position: relative;}#sk-container-id-2 div.sk-item::before, #sk-container-id-2 div.sk-parallel-item::before {content: \"\";position: absolute;border-left: 1px solid gray;box-sizing: border-box;top: 0;bottom: 0;left: 50%;z-index: -1;}#sk-container-id-2 div.sk-parallel-item {display: flex;flex-direction: column;z-index: 1;position: relative;background-color: white;}#sk-container-id-2 div.sk-parallel-item:first-child::after {align-self: flex-end;width: 50%;}#sk-container-id-2 div.sk-parallel-item:last-child::after {align-self: flex-start;width: 50%;}#sk-container-id-2 div.sk-parallel-item:only-child::after {width: 0;}#sk-container-id-2 div.sk-dashed-wrapped {border: 1px dashed gray;margin: 0 0.4em 0.5em 0.4em;box-sizing: border-box;padding-bottom: 0.4em;background-color: white;}#sk-container-id-2 div.sk-label label {font-family: monospace;font-weight: bold;display: inline-block;line-height: 1.2em;}#sk-container-id-2 div.sk-label-container {text-align: center;}#sk-container-id-2 div.sk-container {/* jupyter's `normalize.less` sets `[hidden] { display: none; }` but bootstrap.min.css set `[hidden] { display: none !important; }` so we also need the `!important` here to be able to override the default hidden behavior on the sphinx rendered scikit-learn.org. See: https://github.com/scikit-learn/scikit-learn/issues/21755 */display: inline-block !important;position: relative;}#sk-container-id-2 div.sk-text-repr-fallback {display: none;}</style><div id=\"sk-container-id-2\" class=\"sk-top-container\"><div class=\"sk-text-repr-fallback\"><pre>BayesianRidge()</pre><b>In a Jupyter environment, please rerun this cell to show the HTML representation or trust the notebook. <br />On GitHub, the HTML representation is unable to render, please try loading this page with nbviewer.org.</b></div><div class=\"sk-container\" hidden><div class=\"sk-item\"><div class=\"sk-estimator sk-toggleable\"><input class=\"sk-toggleable__control sk-hidden--visually\" id=\"sk-estimator-id-2\" type=\"checkbox\" checked><label for=\"sk-estimator-id-2\" class=\"sk-toggleable__label sk-toggleable__label-arrow\">BayesianRidge</label><div class=\"sk-toggleable__content\"><pre>BayesianRidge()</pre></div></div></div></div></div>"
      ],
      "text/plain": [
       "BayesianRidge()"
      ]
     },
     "execution_count": 8,
     "metadata": {},
     "output_type": "execute_result"
    }
   ],
   "source": [
    "# creating and training the bayesian ridge regression model\n",
    "b_ridge = linear_model.BayesianRidge()\n",
    "b_ridge.fit(X_train, y_train)"
   ]
  },
  {
   "cell_type": "code",
   "execution_count": 9,
   "id": "4add524b",
   "metadata": {},
   "outputs": [
    {
     "name": "stderr",
     "output_type": "stream",
     "text": [
      "/Users/rakeshmehta/anaconda3/lib/python3.11/site-packages/sklearn/linear_model/_coordinate_descent.py:628: ConvergenceWarning: Objective did not converge. You might want to increase the number of iterations, check the scale of the features or consider increasing regularisation. Duality gap: 1.625e+04, tolerance: 1.630e+03\n",
      "  model = cd_fast.enet_coordinate_descent(\n"
     ]
    },
    {
     "data": {
      "text/html": [
       "<style>#sk-container-id-3 {color: black;}#sk-container-id-3 pre{padding: 0;}#sk-container-id-3 div.sk-toggleable {background-color: white;}#sk-container-id-3 label.sk-toggleable__label {cursor: pointer;display: block;width: 100%;margin-bottom: 0;padding: 0.3em;box-sizing: border-box;text-align: center;}#sk-container-id-3 label.sk-toggleable__label-arrow:before {content: \"▸\";float: left;margin-right: 0.25em;color: #696969;}#sk-container-id-3 label.sk-toggleable__label-arrow:hover:before {color: black;}#sk-container-id-3 div.sk-estimator:hover label.sk-toggleable__label-arrow:before {color: black;}#sk-container-id-3 div.sk-toggleable__content {max-height: 0;max-width: 0;overflow: hidden;text-align: left;background-color: #f0f8ff;}#sk-container-id-3 div.sk-toggleable__content pre {margin: 0.2em;color: black;border-radius: 0.25em;background-color: #f0f8ff;}#sk-container-id-3 input.sk-toggleable__control:checked~div.sk-toggleable__content {max-height: 200px;max-width: 100%;overflow: auto;}#sk-container-id-3 input.sk-toggleable__control:checked~label.sk-toggleable__label-arrow:before {content: \"▾\";}#sk-container-id-3 div.sk-estimator input.sk-toggleable__control:checked~label.sk-toggleable__label {background-color: #d4ebff;}#sk-container-id-3 div.sk-label input.sk-toggleable__control:checked~label.sk-toggleable__label {background-color: #d4ebff;}#sk-container-id-3 input.sk-hidden--visually {border: 0;clip: rect(1px 1px 1px 1px);clip: rect(1px, 1px, 1px, 1px);height: 1px;margin: -1px;overflow: hidden;padding: 0;position: absolute;width: 1px;}#sk-container-id-3 div.sk-estimator {font-family: monospace;background-color: #f0f8ff;border: 1px dotted black;border-radius: 0.25em;box-sizing: border-box;margin-bottom: 0.5em;}#sk-container-id-3 div.sk-estimator:hover {background-color: #d4ebff;}#sk-container-id-3 div.sk-parallel-item::after {content: \"\";width: 100%;border-bottom: 1px solid gray;flex-grow: 1;}#sk-container-id-3 div.sk-label:hover label.sk-toggleable__label {background-color: #d4ebff;}#sk-container-id-3 div.sk-serial::before {content: \"\";position: absolute;border-left: 1px solid gray;box-sizing: border-box;top: 0;bottom: 0;left: 50%;z-index: 0;}#sk-container-id-3 div.sk-serial {display: flex;flex-direction: column;align-items: center;background-color: white;padding-right: 0.2em;padding-left: 0.2em;position: relative;}#sk-container-id-3 div.sk-item {position: relative;z-index: 1;}#sk-container-id-3 div.sk-parallel {display: flex;align-items: stretch;justify-content: center;background-color: white;position: relative;}#sk-container-id-3 div.sk-item::before, #sk-container-id-3 div.sk-parallel-item::before {content: \"\";position: absolute;border-left: 1px solid gray;box-sizing: border-box;top: 0;bottom: 0;left: 50%;z-index: -1;}#sk-container-id-3 div.sk-parallel-item {display: flex;flex-direction: column;z-index: 1;position: relative;background-color: white;}#sk-container-id-3 div.sk-parallel-item:first-child::after {align-self: flex-end;width: 50%;}#sk-container-id-3 div.sk-parallel-item:last-child::after {align-self: flex-start;width: 50%;}#sk-container-id-3 div.sk-parallel-item:only-child::after {width: 0;}#sk-container-id-3 div.sk-dashed-wrapped {border: 1px dashed gray;margin: 0 0.4em 0.5em 0.4em;box-sizing: border-box;padding-bottom: 0.4em;background-color: white;}#sk-container-id-3 div.sk-label label {font-family: monospace;font-weight: bold;display: inline-block;line-height: 1.2em;}#sk-container-id-3 div.sk-label-container {text-align: center;}#sk-container-id-3 div.sk-container {/* jupyter's `normalize.less` sets `[hidden] { display: none; }` but bootstrap.min.css set `[hidden] { display: none !important; }` so we also need the `!important` here to be able to override the default hidden behavior on the sphinx rendered scikit-learn.org. See: https://github.com/scikit-learn/scikit-learn/issues/21755 */display: inline-block !important;position: relative;}#sk-container-id-3 div.sk-text-repr-fallback {display: none;}</style><div id=\"sk-container-id-3\" class=\"sk-top-container\"><div class=\"sk-text-repr-fallback\"><pre>Lasso(alpha=0.1)</pre><b>In a Jupyter environment, please rerun this cell to show the HTML representation or trust the notebook. <br />On GitHub, the HTML representation is unable to render, please try loading this page with nbviewer.org.</b></div><div class=\"sk-container\" hidden><div class=\"sk-item\"><div class=\"sk-estimator sk-toggleable\"><input class=\"sk-toggleable__control sk-hidden--visually\" id=\"sk-estimator-id-3\" type=\"checkbox\" checked><label for=\"sk-estimator-id-3\" class=\"sk-toggleable__label sk-toggleable__label-arrow\">Lasso</label><div class=\"sk-toggleable__content\"><pre>Lasso(alpha=0.1)</pre></div></div></div></div></div>"
      ],
      "text/plain": [
       "Lasso(alpha=0.1)"
      ]
     },
     "execution_count": 9,
     "metadata": {},
     "output_type": "execute_result"
    }
   ],
   "source": [
    "# creating and training the lasso regression model\n",
    "lasso_model = Lasso(alpha=0.1)  # You can adjust the regularization parameter 'alpha' as needed\n",
    "lasso_model.fit(X_train, y_train)"
   ]
  },
  {
   "cell_type": "code",
   "execution_count": 10,
   "id": "ec910441",
   "metadata": {},
   "outputs": [
    {
     "name": "stderr",
     "output_type": "stream",
     "text": [
      "/Users/rakeshmehta/anaconda3/lib/python3.11/site-packages/sklearn/linear_model/_coordinate_descent.py:628: ConvergenceWarning: Objective did not converge. You might want to increase the number of iterations, check the scale of the features or consider increasing regularisation. Duality gap: 1.210e+05, tolerance: 1.630e+03\n",
      "  model = cd_fast.enet_coordinate_descent(\n"
     ]
    },
    {
     "data": {
      "text/html": [
       "<style>#sk-container-id-4 {color: black;}#sk-container-id-4 pre{padding: 0;}#sk-container-id-4 div.sk-toggleable {background-color: white;}#sk-container-id-4 label.sk-toggleable__label {cursor: pointer;display: block;width: 100%;margin-bottom: 0;padding: 0.3em;box-sizing: border-box;text-align: center;}#sk-container-id-4 label.sk-toggleable__label-arrow:before {content: \"▸\";float: left;margin-right: 0.25em;color: #696969;}#sk-container-id-4 label.sk-toggleable__label-arrow:hover:before {color: black;}#sk-container-id-4 div.sk-estimator:hover label.sk-toggleable__label-arrow:before {color: black;}#sk-container-id-4 div.sk-toggleable__content {max-height: 0;max-width: 0;overflow: hidden;text-align: left;background-color: #f0f8ff;}#sk-container-id-4 div.sk-toggleable__content pre {margin: 0.2em;color: black;border-radius: 0.25em;background-color: #f0f8ff;}#sk-container-id-4 input.sk-toggleable__control:checked~div.sk-toggleable__content {max-height: 200px;max-width: 100%;overflow: auto;}#sk-container-id-4 input.sk-toggleable__control:checked~label.sk-toggleable__label-arrow:before {content: \"▾\";}#sk-container-id-4 div.sk-estimator input.sk-toggleable__control:checked~label.sk-toggleable__label {background-color: #d4ebff;}#sk-container-id-4 div.sk-label input.sk-toggleable__control:checked~label.sk-toggleable__label {background-color: #d4ebff;}#sk-container-id-4 input.sk-hidden--visually {border: 0;clip: rect(1px 1px 1px 1px);clip: rect(1px, 1px, 1px, 1px);height: 1px;margin: -1px;overflow: hidden;padding: 0;position: absolute;width: 1px;}#sk-container-id-4 div.sk-estimator {font-family: monospace;background-color: #f0f8ff;border: 1px dotted black;border-radius: 0.25em;box-sizing: border-box;margin-bottom: 0.5em;}#sk-container-id-4 div.sk-estimator:hover {background-color: #d4ebff;}#sk-container-id-4 div.sk-parallel-item::after {content: \"\";width: 100%;border-bottom: 1px solid gray;flex-grow: 1;}#sk-container-id-4 div.sk-label:hover label.sk-toggleable__label {background-color: #d4ebff;}#sk-container-id-4 div.sk-serial::before {content: \"\";position: absolute;border-left: 1px solid gray;box-sizing: border-box;top: 0;bottom: 0;left: 50%;z-index: 0;}#sk-container-id-4 div.sk-serial {display: flex;flex-direction: column;align-items: center;background-color: white;padding-right: 0.2em;padding-left: 0.2em;position: relative;}#sk-container-id-4 div.sk-item {position: relative;z-index: 1;}#sk-container-id-4 div.sk-parallel {display: flex;align-items: stretch;justify-content: center;background-color: white;position: relative;}#sk-container-id-4 div.sk-item::before, #sk-container-id-4 div.sk-parallel-item::before {content: \"\";position: absolute;border-left: 1px solid gray;box-sizing: border-box;top: 0;bottom: 0;left: 50%;z-index: -1;}#sk-container-id-4 div.sk-parallel-item {display: flex;flex-direction: column;z-index: 1;position: relative;background-color: white;}#sk-container-id-4 div.sk-parallel-item:first-child::after {align-self: flex-end;width: 50%;}#sk-container-id-4 div.sk-parallel-item:last-child::after {align-self: flex-start;width: 50%;}#sk-container-id-4 div.sk-parallel-item:only-child::after {width: 0;}#sk-container-id-4 div.sk-dashed-wrapped {border: 1px dashed gray;margin: 0 0.4em 0.5em 0.4em;box-sizing: border-box;padding-bottom: 0.4em;background-color: white;}#sk-container-id-4 div.sk-label label {font-family: monospace;font-weight: bold;display: inline-block;line-height: 1.2em;}#sk-container-id-4 div.sk-label-container {text-align: center;}#sk-container-id-4 div.sk-container {/* jupyter's `normalize.less` sets `[hidden] { display: none; }` but bootstrap.min.css set `[hidden] { display: none !important; }` so we also need the `!important` here to be able to override the default hidden behavior on the sphinx rendered scikit-learn.org. See: https://github.com/scikit-learn/scikit-learn/issues/21755 */display: inline-block !important;position: relative;}#sk-container-id-4 div.sk-text-repr-fallback {display: none;}</style><div id=\"sk-container-id-4\" class=\"sk-top-container\"><div class=\"sk-text-repr-fallback\"><pre>ElasticNet()</pre><b>In a Jupyter environment, please rerun this cell to show the HTML representation or trust the notebook. <br />On GitHub, the HTML representation is unable to render, please try loading this page with nbviewer.org.</b></div><div class=\"sk-container\" hidden><div class=\"sk-item\"><div class=\"sk-estimator sk-toggleable\"><input class=\"sk-toggleable__control sk-hidden--visually\" id=\"sk-estimator-id-4\" type=\"checkbox\" checked><label for=\"sk-estimator-id-4\" class=\"sk-toggleable__label sk-toggleable__label-arrow\">ElasticNet</label><div class=\"sk-toggleable__content\"><pre>ElasticNet()</pre></div></div></div></div></div>"
      ],
      "text/plain": [
       "ElasticNet()"
      ]
     },
     "execution_count": 10,
     "metadata": {},
     "output_type": "execute_result"
    }
   ],
   "source": [
    "# creating and training the ElasticNet regression model\n",
    "elastic_net = linear_model.ElasticNet()\n",
    "elastic_net.fit(X_train, y_train)"
   ]
  },
  {
   "cell_type": "code",
   "execution_count": 11,
   "id": "02e50bae",
   "metadata": {},
   "outputs": [
    {
     "name": "stdout",
     "output_type": "stream",
     "text": [
      "--------------------------------------------\n",
      "             LINEAR REGRESSION\n",
      "--------------------------------------------\n",
      "Mean Squared Error: 104.98112715210861\n",
      "r^2:  -0.08277063863319833\n",
      "[ -7.2969667   -7.28249593  -7.31605287 ... -25.43687504 -25.5380515\n",
      " -25.12796033]\n",
      "[-19.50425754 -19.50425754 -19.50425754 ... -19.50425754 -19.50425754\n",
      " -19.50425754]\n",
      "--------------------------------------------\n",
      "               BAYESIAN RIDGE\n",
      "--------------------------------------------\n",
      "Mean Squared Error: 1125.2879940203347\n",
      "r^2:  -10.6061699182013\n",
      "[ -7.2969667   -7.28249593  -7.31605287 ... -25.43687504 -25.5380515\n",
      " -25.12796033]\n",
      "[-25.5384235 -25.5384235 -25.5384235 ... -25.5384235 -25.5384235\n",
      " -25.5384235]\n",
      "--------------------------------------------\n",
      "                   LASSO\n",
      "--------------------------------------------\n",
      "Mean Squared Error: 0.0001235159145735766\n",
      "r^2:  0.9999987260623949\n",
      "[ -7.2969667   -7.28249593  -7.31605287 ... -25.43687504 -25.5380515\n",
      " -25.12796033]\n",
      "[ -7.3063194   -7.29179511  -7.32548619 ... -25.42715347 -25.5282446\n",
      " -25.11859821]\n",
      "--------------------------------------------\n",
      "               ELASTIC NET\n",
      "--------------------------------------------\n",
      "Mean Squared Error: 0.012818259081574128\n",
      "r^2:  0.9998677930505374\n",
      "[ -7.2969667   -7.28249593  -7.31605287 ... -25.43687504 -25.5380515\n",
      " -25.12796033]\n",
      "[ -7.37860364  -7.36357138  -7.39851262 ... -25.32534633 -25.42563479\n",
      " -25.02008927]\n"
     ]
    }
   ],
   "source": [
    "print(\"--------------------------------------------\")\n",
    "print(\"             LINEAR REGRESSION\")\n",
    "print(\"--------------------------------------------\")\n",
    "\n",
    "# Predict probabilities on the test set\n",
    "l_reg_predictions = l_reg.predict(X_test)\n",
    "\n",
    "# Evaluate the model using mean squared error (MSE)\n",
    "l_reg_mse = mean_squared_error(y_test, l_reg_predictions)\n",
    "print(\"Mean Squared Error:\", l_reg_mse)\n",
    "\n",
    "# Evaluate the model using r^2 value\n",
    "print(\"r^2: \", l_reg.score(X_test, y_test))\n",
    "\n",
    "# print out predictions and actual values to compare visually\n",
    "print(y_test)\n",
    "print(l_reg_predictions)\n",
    "\n",
    "print(\"--------------------------------------------\")\n",
    "print(\"               BAYESIAN RIDGE\")\n",
    "print(\"--------------------------------------------\")\n",
    "\n",
    "# Predict probabilities on the test set\n",
    "b_ridge_predictions = b_ridge.predict(X_test)\n",
    "\n",
    "# Evaluate the model using mean squared error (MSE)\n",
    "b_ridge_mse = mean_squared_error(y_test, b_ridge_predictions)\n",
    "print(\"Mean Squared Error:\", b_ridge_mse)\n",
    "\n",
    "# Evaluate the model using r^2 value\n",
    "print(\"r^2: \", b_ridge.score(X_test, y_test))\n",
    "\n",
    "# print out predictions and actual values to compare visually\n",
    "print(y_test)\n",
    "print(b_ridge_predictions)\n",
    "\n",
    "print(\"--------------------------------------------\")\n",
    "print(\"                   LASSO\")\n",
    "print(\"--------------------------------------------\")\n",
    "\n",
    "# Predict probabilities on the test set\n",
    "lasso_predictions = lasso_model.predict(X_test)\n",
    "\n",
    "# Evaluate the model using mean squared error (MSE)\n",
    "lasso_mse = mean_squared_error(y_test, lasso_predictions)\n",
    "print(\"Mean Squared Error:\", lasso_mse)\n",
    "\n",
    "# Evaluate the model using r^2 value\n",
    "print(\"r^2: \", lasso_model.score(X_test, y_test))\n",
    "\n",
    "# print out predictions and actual values to compare visually\n",
    "print(y_test)\n",
    "print(lasso_predictions)\n",
    "\n",
    "print(\"--------------------------------------------\")\n",
    "print(\"               ELASTIC NET\")\n",
    "print(\"--------------------------------------------\")\n",
    "\n",
    "# Predict probabilities on the test set\n",
    "elastic_predictions = elastic_net.predict(X_test)\n",
    "\n",
    "# Evaluate the model using mean squared error (MSE)\n",
    "elastic_mse = mean_squared_error(y_test, elastic_predictions)\n",
    "print(\"Mean Squared Error:\", elastic_mse)\n",
    "\n",
    "# Evaluate the model using r^2 value\n",
    "print(\"r^2: \", elastic_net.score(X_test, y_test))\n",
    "\n",
    "# print out predictions and actual values to compare visually\n",
    "print(y_test)\n",
    "print(elastic_predictions)"
   ]
  },
  {
   "cell_type": "code",
   "execution_count": 12,
   "id": "fa83be78",
   "metadata": {},
   "outputs": [
    {
     "data": {
      "text/plain": [
       "['elastic_net.joblib']"
      ]
     },
     "execution_count": 12,
     "metadata": {},
     "output_type": "execute_result"
    }
   ],
   "source": [
    "# save the models in joblib\n",
    "joblib.dump(l_reg, 'linear_regression.joblib')\n",
    "joblib.dump(b_ridge, 'bayesian_ridge.joblib')\n",
    "joblib.dump(lasso_model, 'lasso_model.joblib')\n",
    "joblib.dump(elastic_net, 'elastic_net.joblib')"
   ]
  },
  {
   "cell_type": "code",
   "execution_count": 13,
   "id": "43fc1fde",
   "metadata": {},
   "outputs": [
    {
     "data": {
      "text/plain": [
       "'\\n***********************\\n-----------------------\\n  FEATURE IMPORTANCE\\n-----------------------\\n***********************\\n'"
      ]
     },
     "execution_count": 13,
     "metadata": {},
     "output_type": "execute_result"
    }
   ],
   "source": [
    "\"\"\"\n",
    "***********************\n",
    "-----------------------\n",
    "  FEATURE IMPORTANCE\n",
    "-----------------------\n",
    "***********************\n",
    "\"\"\""
   ]
  },
  {
   "cell_type": "code",
   "execution_count": 14,
   "id": "d523556f",
   "metadata": {
    "scrolled": false
   },
   "outputs": [
    {
     "name": "stdout",
     "output_type": "stream",
     "text": [
      "(162634, 90)\n",
      "             0             1             2             3             4   \\\n",
      "0 -8.873973e+44 -1.215205e+45 -2.856293e+28 -1.142517e+29  1.785183e+28   \n",
      "1 -8.873973e+44 -1.215205e+45 -2.856293e+28 -1.142517e+29  1.785183e+28   \n",
      "2 -8.873973e+44 -1.215205e+45 -2.856293e+28 -1.142517e+29  1.785183e+28   \n",
      "3 -8.873973e+44 -1.215205e+45 -2.856293e+28 -1.142517e+29  1.785183e+28   \n",
      "4 -8.873973e+44 -1.215205e+45 -2.856293e+28 -1.142517e+29  1.785183e+28   \n",
      "\n",
      "             5             6             7             8             9   ...  \\\n",
      "0 -1.218693e+29 -1.271769e+28 -2.001290e+29 -2.160912e+29  1.142632e+29  ...   \n",
      "1 -1.218693e+29 -1.271769e+28 -2.001290e+29 -2.160912e+29  1.142632e+29  ...   \n",
      "2 -1.218693e+29 -1.271769e+28 -2.001290e+29 -2.160912e+29  1.142632e+29  ...   \n",
      "3 -1.218693e+29 -1.271769e+28 -2.001290e+29 -2.160912e+29  1.142632e+29  ...   \n",
      "4 -1.218693e+29 -1.271769e+28 -2.001290e+29 -2.160912e+29  1.142632e+29  ...   \n",
      "\n",
      "             80            81            82            83            84  \\\n",
      "0 -1.907257e+27  1.237421e+28 -2.594619e+28 -1.466672e+28 -3.296772e+28   \n",
      "1 -1.907257e+27  1.237421e+28 -2.594619e+28 -1.466672e+28 -3.296772e+28   \n",
      "2 -1.907257e+27  1.237421e+28 -2.594619e+28 -1.466672e+28 -3.296772e+28   \n",
      "3 -1.907257e+27  1.237421e+28 -2.594619e+28 -1.466672e+28 -3.296772e+28   \n",
      "4 -1.907257e+27  1.237421e+28 -2.594619e+28 -1.466672e+28 -3.296772e+28   \n",
      "\n",
      "          85            86            87            88            89  \n",
      "0  95.946988 -2.285264e+28  3.047019e+28  2.056623e+29 -9.141056e+28  \n",
      "1  95.940943 -2.285264e+28  3.047019e+28  2.056623e+29 -9.141056e+28  \n",
      "2  95.940342 -2.285264e+28  3.047019e+28  2.056623e+29 -9.141056e+28  \n",
      "3  95.942982 -2.285264e+28  3.047019e+28  2.056623e+29 -9.141056e+28  \n",
      "4  95.945150 -2.285264e+28  3.047019e+28  2.056623e+29 -9.141056e+28  \n",
      "\n",
      "[5 rows x 90 columns]\n"
     ]
    }
   ],
   "source": [
    "# implement pca\n",
    "pca = decomposition.PCA(n_components=90) # change the number of components as needed\n",
    "pca.fit(X_train)\n",
    "X_train_pca = pca.transform(X_train)\n",
    "X_test_pca = pca.transform(X_test)\n",
    "\n",
    "# convert back to a dataframe\n",
    "X_train_pca = pd.DataFrame(X_train_pca)\n",
    "\n",
    "print(X_train_pca.shape)\n",
    "print(X_train_pca.head())"
   ]
  },
  {
   "cell_type": "code",
   "execution_count": 15,
   "id": "9991a522",
   "metadata": {},
   "outputs": [],
   "source": [
    "# Retraining all the models after PCA"
   ]
  },
  {
   "cell_type": "code",
   "execution_count": 16,
   "id": "d6221b5c",
   "metadata": {},
   "outputs": [
    {
     "data": {
      "text/html": [
       "<style>#sk-container-id-5 {color: black;}#sk-container-id-5 pre{padding: 0;}#sk-container-id-5 div.sk-toggleable {background-color: white;}#sk-container-id-5 label.sk-toggleable__label {cursor: pointer;display: block;width: 100%;margin-bottom: 0;padding: 0.3em;box-sizing: border-box;text-align: center;}#sk-container-id-5 label.sk-toggleable__label-arrow:before {content: \"▸\";float: left;margin-right: 0.25em;color: #696969;}#sk-container-id-5 label.sk-toggleable__label-arrow:hover:before {color: black;}#sk-container-id-5 div.sk-estimator:hover label.sk-toggleable__label-arrow:before {color: black;}#sk-container-id-5 div.sk-toggleable__content {max-height: 0;max-width: 0;overflow: hidden;text-align: left;background-color: #f0f8ff;}#sk-container-id-5 div.sk-toggleable__content pre {margin: 0.2em;color: black;border-radius: 0.25em;background-color: #f0f8ff;}#sk-container-id-5 input.sk-toggleable__control:checked~div.sk-toggleable__content {max-height: 200px;max-width: 100%;overflow: auto;}#sk-container-id-5 input.sk-toggleable__control:checked~label.sk-toggleable__label-arrow:before {content: \"▾\";}#sk-container-id-5 div.sk-estimator input.sk-toggleable__control:checked~label.sk-toggleable__label {background-color: #d4ebff;}#sk-container-id-5 div.sk-label input.sk-toggleable__control:checked~label.sk-toggleable__label {background-color: #d4ebff;}#sk-container-id-5 input.sk-hidden--visually {border: 0;clip: rect(1px 1px 1px 1px);clip: rect(1px, 1px, 1px, 1px);height: 1px;margin: -1px;overflow: hidden;padding: 0;position: absolute;width: 1px;}#sk-container-id-5 div.sk-estimator {font-family: monospace;background-color: #f0f8ff;border: 1px dotted black;border-radius: 0.25em;box-sizing: border-box;margin-bottom: 0.5em;}#sk-container-id-5 div.sk-estimator:hover {background-color: #d4ebff;}#sk-container-id-5 div.sk-parallel-item::after {content: \"\";width: 100%;border-bottom: 1px solid gray;flex-grow: 1;}#sk-container-id-5 div.sk-label:hover label.sk-toggleable__label {background-color: #d4ebff;}#sk-container-id-5 div.sk-serial::before {content: \"\";position: absolute;border-left: 1px solid gray;box-sizing: border-box;top: 0;bottom: 0;left: 50%;z-index: 0;}#sk-container-id-5 div.sk-serial {display: flex;flex-direction: column;align-items: center;background-color: white;padding-right: 0.2em;padding-left: 0.2em;position: relative;}#sk-container-id-5 div.sk-item {position: relative;z-index: 1;}#sk-container-id-5 div.sk-parallel {display: flex;align-items: stretch;justify-content: center;background-color: white;position: relative;}#sk-container-id-5 div.sk-item::before, #sk-container-id-5 div.sk-parallel-item::before {content: \"\";position: absolute;border-left: 1px solid gray;box-sizing: border-box;top: 0;bottom: 0;left: 50%;z-index: -1;}#sk-container-id-5 div.sk-parallel-item {display: flex;flex-direction: column;z-index: 1;position: relative;background-color: white;}#sk-container-id-5 div.sk-parallel-item:first-child::after {align-self: flex-end;width: 50%;}#sk-container-id-5 div.sk-parallel-item:last-child::after {align-self: flex-start;width: 50%;}#sk-container-id-5 div.sk-parallel-item:only-child::after {width: 0;}#sk-container-id-5 div.sk-dashed-wrapped {border: 1px dashed gray;margin: 0 0.4em 0.5em 0.4em;box-sizing: border-box;padding-bottom: 0.4em;background-color: white;}#sk-container-id-5 div.sk-label label {font-family: monospace;font-weight: bold;display: inline-block;line-height: 1.2em;}#sk-container-id-5 div.sk-label-container {text-align: center;}#sk-container-id-5 div.sk-container {/* jupyter's `normalize.less` sets `[hidden] { display: none; }` but bootstrap.min.css set `[hidden] { display: none !important; }` so we also need the `!important` here to be able to override the default hidden behavior on the sphinx rendered scikit-learn.org. See: https://github.com/scikit-learn/scikit-learn/issues/21755 */display: inline-block !important;position: relative;}#sk-container-id-5 div.sk-text-repr-fallback {display: none;}</style><div id=\"sk-container-id-5\" class=\"sk-top-container\"><div class=\"sk-text-repr-fallback\"><pre>LinearRegression()</pre><b>In a Jupyter environment, please rerun this cell to show the HTML representation or trust the notebook. <br />On GitHub, the HTML representation is unable to render, please try loading this page with nbviewer.org.</b></div><div class=\"sk-container\" hidden><div class=\"sk-item\"><div class=\"sk-estimator sk-toggleable\"><input class=\"sk-toggleable__control sk-hidden--visually\" id=\"sk-estimator-id-5\" type=\"checkbox\" checked><label for=\"sk-estimator-id-5\" class=\"sk-toggleable__label sk-toggleable__label-arrow\">LinearRegression</label><div class=\"sk-toggleable__content\"><pre>LinearRegression()</pre></div></div></div></div></div>"
      ],
      "text/plain": [
       "LinearRegression()"
      ]
     },
     "execution_count": 16,
     "metadata": {},
     "output_type": "execute_result"
    }
   ],
   "source": [
    "# Linear Regression\n",
    "l_reg_pca = linear_model.LinearRegression()\n",
    "l_reg_pca.fit(X_train_pca, y_train)"
   ]
  },
  {
   "cell_type": "code",
   "execution_count": 17,
   "id": "30b89856",
   "metadata": {},
   "outputs": [
    {
     "data": {
      "text/html": [
       "<style>#sk-container-id-6 {color: black;}#sk-container-id-6 pre{padding: 0;}#sk-container-id-6 div.sk-toggleable {background-color: white;}#sk-container-id-6 label.sk-toggleable__label {cursor: pointer;display: block;width: 100%;margin-bottom: 0;padding: 0.3em;box-sizing: border-box;text-align: center;}#sk-container-id-6 label.sk-toggleable__label-arrow:before {content: \"▸\";float: left;margin-right: 0.25em;color: #696969;}#sk-container-id-6 label.sk-toggleable__label-arrow:hover:before {color: black;}#sk-container-id-6 div.sk-estimator:hover label.sk-toggleable__label-arrow:before {color: black;}#sk-container-id-6 div.sk-toggleable__content {max-height: 0;max-width: 0;overflow: hidden;text-align: left;background-color: #f0f8ff;}#sk-container-id-6 div.sk-toggleable__content pre {margin: 0.2em;color: black;border-radius: 0.25em;background-color: #f0f8ff;}#sk-container-id-6 input.sk-toggleable__control:checked~div.sk-toggleable__content {max-height: 200px;max-width: 100%;overflow: auto;}#sk-container-id-6 input.sk-toggleable__control:checked~label.sk-toggleable__label-arrow:before {content: \"▾\";}#sk-container-id-6 div.sk-estimator input.sk-toggleable__control:checked~label.sk-toggleable__label {background-color: #d4ebff;}#sk-container-id-6 div.sk-label input.sk-toggleable__control:checked~label.sk-toggleable__label {background-color: #d4ebff;}#sk-container-id-6 input.sk-hidden--visually {border: 0;clip: rect(1px 1px 1px 1px);clip: rect(1px, 1px, 1px, 1px);height: 1px;margin: -1px;overflow: hidden;padding: 0;position: absolute;width: 1px;}#sk-container-id-6 div.sk-estimator {font-family: monospace;background-color: #f0f8ff;border: 1px dotted black;border-radius: 0.25em;box-sizing: border-box;margin-bottom: 0.5em;}#sk-container-id-6 div.sk-estimator:hover {background-color: #d4ebff;}#sk-container-id-6 div.sk-parallel-item::after {content: \"\";width: 100%;border-bottom: 1px solid gray;flex-grow: 1;}#sk-container-id-6 div.sk-label:hover label.sk-toggleable__label {background-color: #d4ebff;}#sk-container-id-6 div.sk-serial::before {content: \"\";position: absolute;border-left: 1px solid gray;box-sizing: border-box;top: 0;bottom: 0;left: 50%;z-index: 0;}#sk-container-id-6 div.sk-serial {display: flex;flex-direction: column;align-items: center;background-color: white;padding-right: 0.2em;padding-left: 0.2em;position: relative;}#sk-container-id-6 div.sk-item {position: relative;z-index: 1;}#sk-container-id-6 div.sk-parallel {display: flex;align-items: stretch;justify-content: center;background-color: white;position: relative;}#sk-container-id-6 div.sk-item::before, #sk-container-id-6 div.sk-parallel-item::before {content: \"\";position: absolute;border-left: 1px solid gray;box-sizing: border-box;top: 0;bottom: 0;left: 50%;z-index: -1;}#sk-container-id-6 div.sk-parallel-item {display: flex;flex-direction: column;z-index: 1;position: relative;background-color: white;}#sk-container-id-6 div.sk-parallel-item:first-child::after {align-self: flex-end;width: 50%;}#sk-container-id-6 div.sk-parallel-item:last-child::after {align-self: flex-start;width: 50%;}#sk-container-id-6 div.sk-parallel-item:only-child::after {width: 0;}#sk-container-id-6 div.sk-dashed-wrapped {border: 1px dashed gray;margin: 0 0.4em 0.5em 0.4em;box-sizing: border-box;padding-bottom: 0.4em;background-color: white;}#sk-container-id-6 div.sk-label label {font-family: monospace;font-weight: bold;display: inline-block;line-height: 1.2em;}#sk-container-id-6 div.sk-label-container {text-align: center;}#sk-container-id-6 div.sk-container {/* jupyter's `normalize.less` sets `[hidden] { display: none; }` but bootstrap.min.css set `[hidden] { display: none !important; }` so we also need the `!important` here to be able to override the default hidden behavior on the sphinx rendered scikit-learn.org. See: https://github.com/scikit-learn/scikit-learn/issues/21755 */display: inline-block !important;position: relative;}#sk-container-id-6 div.sk-text-repr-fallback {display: none;}</style><div id=\"sk-container-id-6\" class=\"sk-top-container\"><div class=\"sk-text-repr-fallback\"><pre>BayesianRidge()</pre><b>In a Jupyter environment, please rerun this cell to show the HTML representation or trust the notebook. <br />On GitHub, the HTML representation is unable to render, please try loading this page with nbviewer.org.</b></div><div class=\"sk-container\" hidden><div class=\"sk-item\"><div class=\"sk-estimator sk-toggleable\"><input class=\"sk-toggleable__control sk-hidden--visually\" id=\"sk-estimator-id-6\" type=\"checkbox\" checked><label for=\"sk-estimator-id-6\" class=\"sk-toggleable__label sk-toggleable__label-arrow\">BayesianRidge</label><div class=\"sk-toggleable__content\"><pre>BayesianRidge()</pre></div></div></div></div></div>"
      ],
      "text/plain": [
       "BayesianRidge()"
      ]
     },
     "execution_count": 17,
     "metadata": {},
     "output_type": "execute_result"
    }
   ],
   "source": [
    "# Bayesian Ridge\n",
    "b_ridge_pca = linear_model.BayesianRidge()\n",
    "b_ridge_pca.fit(X_train_pca , y_train)"
   ]
  },
  {
   "cell_type": "code",
   "execution_count": 18,
   "id": "4ee9f8df",
   "metadata": {},
   "outputs": [
    {
     "name": "stderr",
     "output_type": "stream",
     "text": [
      "/Users/rakeshmehta/anaconda3/lib/python3.11/site-packages/sklearn/linear_model/_coordinate_descent.py:628: ConvergenceWarning: Objective did not converge. You might want to increase the number of iterations, check the scale of the features or consider increasing regularisation. Duality gap: 8.084e+06, tolerance: 1.630e+03\n",
      "  model = cd_fast.enet_coordinate_descent(\n"
     ]
    },
    {
     "data": {
      "text/html": [
       "<style>#sk-container-id-7 {color: black;}#sk-container-id-7 pre{padding: 0;}#sk-container-id-7 div.sk-toggleable {background-color: white;}#sk-container-id-7 label.sk-toggleable__label {cursor: pointer;display: block;width: 100%;margin-bottom: 0;padding: 0.3em;box-sizing: border-box;text-align: center;}#sk-container-id-7 label.sk-toggleable__label-arrow:before {content: \"▸\";float: left;margin-right: 0.25em;color: #696969;}#sk-container-id-7 label.sk-toggleable__label-arrow:hover:before {color: black;}#sk-container-id-7 div.sk-estimator:hover label.sk-toggleable__label-arrow:before {color: black;}#sk-container-id-7 div.sk-toggleable__content {max-height: 0;max-width: 0;overflow: hidden;text-align: left;background-color: #f0f8ff;}#sk-container-id-7 div.sk-toggleable__content pre {margin: 0.2em;color: black;border-radius: 0.25em;background-color: #f0f8ff;}#sk-container-id-7 input.sk-toggleable__control:checked~div.sk-toggleable__content {max-height: 200px;max-width: 100%;overflow: auto;}#sk-container-id-7 input.sk-toggleable__control:checked~label.sk-toggleable__label-arrow:before {content: \"▾\";}#sk-container-id-7 div.sk-estimator input.sk-toggleable__control:checked~label.sk-toggleable__label {background-color: #d4ebff;}#sk-container-id-7 div.sk-label input.sk-toggleable__control:checked~label.sk-toggleable__label {background-color: #d4ebff;}#sk-container-id-7 input.sk-hidden--visually {border: 0;clip: rect(1px 1px 1px 1px);clip: rect(1px, 1px, 1px, 1px);height: 1px;margin: -1px;overflow: hidden;padding: 0;position: absolute;width: 1px;}#sk-container-id-7 div.sk-estimator {font-family: monospace;background-color: #f0f8ff;border: 1px dotted black;border-radius: 0.25em;box-sizing: border-box;margin-bottom: 0.5em;}#sk-container-id-7 div.sk-estimator:hover {background-color: #d4ebff;}#sk-container-id-7 div.sk-parallel-item::after {content: \"\";width: 100%;border-bottom: 1px solid gray;flex-grow: 1;}#sk-container-id-7 div.sk-label:hover label.sk-toggleable__label {background-color: #d4ebff;}#sk-container-id-7 div.sk-serial::before {content: \"\";position: absolute;border-left: 1px solid gray;box-sizing: border-box;top: 0;bottom: 0;left: 50%;z-index: 0;}#sk-container-id-7 div.sk-serial {display: flex;flex-direction: column;align-items: center;background-color: white;padding-right: 0.2em;padding-left: 0.2em;position: relative;}#sk-container-id-7 div.sk-item {position: relative;z-index: 1;}#sk-container-id-7 div.sk-parallel {display: flex;align-items: stretch;justify-content: center;background-color: white;position: relative;}#sk-container-id-7 div.sk-item::before, #sk-container-id-7 div.sk-parallel-item::before {content: \"\";position: absolute;border-left: 1px solid gray;box-sizing: border-box;top: 0;bottom: 0;left: 50%;z-index: -1;}#sk-container-id-7 div.sk-parallel-item {display: flex;flex-direction: column;z-index: 1;position: relative;background-color: white;}#sk-container-id-7 div.sk-parallel-item:first-child::after {align-self: flex-end;width: 50%;}#sk-container-id-7 div.sk-parallel-item:last-child::after {align-self: flex-start;width: 50%;}#sk-container-id-7 div.sk-parallel-item:only-child::after {width: 0;}#sk-container-id-7 div.sk-dashed-wrapped {border: 1px dashed gray;margin: 0 0.4em 0.5em 0.4em;box-sizing: border-box;padding-bottom: 0.4em;background-color: white;}#sk-container-id-7 div.sk-label label {font-family: monospace;font-weight: bold;display: inline-block;line-height: 1.2em;}#sk-container-id-7 div.sk-label-container {text-align: center;}#sk-container-id-7 div.sk-container {/* jupyter's `normalize.less` sets `[hidden] { display: none; }` but bootstrap.min.css set `[hidden] { display: none !important; }` so we also need the `!important` here to be able to override the default hidden behavior on the sphinx rendered scikit-learn.org. See: https://github.com/scikit-learn/scikit-learn/issues/21755 */display: inline-block !important;position: relative;}#sk-container-id-7 div.sk-text-repr-fallback {display: none;}</style><div id=\"sk-container-id-7\" class=\"sk-top-container\"><div class=\"sk-text-repr-fallback\"><pre>Lasso(alpha=0.1)</pre><b>In a Jupyter environment, please rerun this cell to show the HTML representation or trust the notebook. <br />On GitHub, the HTML representation is unable to render, please try loading this page with nbviewer.org.</b></div><div class=\"sk-container\" hidden><div class=\"sk-item\"><div class=\"sk-estimator sk-toggleable\"><input class=\"sk-toggleable__control sk-hidden--visually\" id=\"sk-estimator-id-7\" type=\"checkbox\" checked><label for=\"sk-estimator-id-7\" class=\"sk-toggleable__label sk-toggleable__label-arrow\">Lasso</label><div class=\"sk-toggleable__content\"><pre>Lasso(alpha=0.1)</pre></div></div></div></div></div>"
      ],
      "text/plain": [
       "Lasso(alpha=0.1)"
      ]
     },
     "execution_count": 18,
     "metadata": {},
     "output_type": "execute_result"
    }
   ],
   "source": [
    "# Lasso\n",
    "lasso_pca = Lasso(alpha=0.1)  # You can adjust the regularization parameter 'alpha' as needed\n",
    "lasso_pca.fit(X_train_pca, y_train)"
   ]
  },
  {
   "cell_type": "code",
   "execution_count": 19,
   "id": "fa86fad8",
   "metadata": {},
   "outputs": [
    {
     "name": "stderr",
     "output_type": "stream",
     "text": [
      "/Users/rakeshmehta/anaconda3/lib/python3.11/site-packages/sklearn/linear_model/_coordinate_descent.py:628: ConvergenceWarning: Objective did not converge. You might want to increase the number of iterations, check the scale of the features or consider increasing regularisation. Duality gap: 8.084e+06, tolerance: 1.630e+03\n",
      "  model = cd_fast.enet_coordinate_descent(\n"
     ]
    },
    {
     "data": {
      "text/html": [
       "<style>#sk-container-id-8 {color: black;}#sk-container-id-8 pre{padding: 0;}#sk-container-id-8 div.sk-toggleable {background-color: white;}#sk-container-id-8 label.sk-toggleable__label {cursor: pointer;display: block;width: 100%;margin-bottom: 0;padding: 0.3em;box-sizing: border-box;text-align: center;}#sk-container-id-8 label.sk-toggleable__label-arrow:before {content: \"▸\";float: left;margin-right: 0.25em;color: #696969;}#sk-container-id-8 label.sk-toggleable__label-arrow:hover:before {color: black;}#sk-container-id-8 div.sk-estimator:hover label.sk-toggleable__label-arrow:before {color: black;}#sk-container-id-8 div.sk-toggleable__content {max-height: 0;max-width: 0;overflow: hidden;text-align: left;background-color: #f0f8ff;}#sk-container-id-8 div.sk-toggleable__content pre {margin: 0.2em;color: black;border-radius: 0.25em;background-color: #f0f8ff;}#sk-container-id-8 input.sk-toggleable__control:checked~div.sk-toggleable__content {max-height: 200px;max-width: 100%;overflow: auto;}#sk-container-id-8 input.sk-toggleable__control:checked~label.sk-toggleable__label-arrow:before {content: \"▾\";}#sk-container-id-8 div.sk-estimator input.sk-toggleable__control:checked~label.sk-toggleable__label {background-color: #d4ebff;}#sk-container-id-8 div.sk-label input.sk-toggleable__control:checked~label.sk-toggleable__label {background-color: #d4ebff;}#sk-container-id-8 input.sk-hidden--visually {border: 0;clip: rect(1px 1px 1px 1px);clip: rect(1px, 1px, 1px, 1px);height: 1px;margin: -1px;overflow: hidden;padding: 0;position: absolute;width: 1px;}#sk-container-id-8 div.sk-estimator {font-family: monospace;background-color: #f0f8ff;border: 1px dotted black;border-radius: 0.25em;box-sizing: border-box;margin-bottom: 0.5em;}#sk-container-id-8 div.sk-estimator:hover {background-color: #d4ebff;}#sk-container-id-8 div.sk-parallel-item::after {content: \"\";width: 100%;border-bottom: 1px solid gray;flex-grow: 1;}#sk-container-id-8 div.sk-label:hover label.sk-toggleable__label {background-color: #d4ebff;}#sk-container-id-8 div.sk-serial::before {content: \"\";position: absolute;border-left: 1px solid gray;box-sizing: border-box;top: 0;bottom: 0;left: 50%;z-index: 0;}#sk-container-id-8 div.sk-serial {display: flex;flex-direction: column;align-items: center;background-color: white;padding-right: 0.2em;padding-left: 0.2em;position: relative;}#sk-container-id-8 div.sk-item {position: relative;z-index: 1;}#sk-container-id-8 div.sk-parallel {display: flex;align-items: stretch;justify-content: center;background-color: white;position: relative;}#sk-container-id-8 div.sk-item::before, #sk-container-id-8 div.sk-parallel-item::before {content: \"\";position: absolute;border-left: 1px solid gray;box-sizing: border-box;top: 0;bottom: 0;left: 50%;z-index: -1;}#sk-container-id-8 div.sk-parallel-item {display: flex;flex-direction: column;z-index: 1;position: relative;background-color: white;}#sk-container-id-8 div.sk-parallel-item:first-child::after {align-self: flex-end;width: 50%;}#sk-container-id-8 div.sk-parallel-item:last-child::after {align-self: flex-start;width: 50%;}#sk-container-id-8 div.sk-parallel-item:only-child::after {width: 0;}#sk-container-id-8 div.sk-dashed-wrapped {border: 1px dashed gray;margin: 0 0.4em 0.5em 0.4em;box-sizing: border-box;padding-bottom: 0.4em;background-color: white;}#sk-container-id-8 div.sk-label label {font-family: monospace;font-weight: bold;display: inline-block;line-height: 1.2em;}#sk-container-id-8 div.sk-label-container {text-align: center;}#sk-container-id-8 div.sk-container {/* jupyter's `normalize.less` sets `[hidden] { display: none; }` but bootstrap.min.css set `[hidden] { display: none !important; }` so we also need the `!important` here to be able to override the default hidden behavior on the sphinx rendered scikit-learn.org. See: https://github.com/scikit-learn/scikit-learn/issues/21755 */display: inline-block !important;position: relative;}#sk-container-id-8 div.sk-text-repr-fallback {display: none;}</style><div id=\"sk-container-id-8\" class=\"sk-top-container\"><div class=\"sk-text-repr-fallback\"><pre>ElasticNet(alpha=0.1)</pre><b>In a Jupyter environment, please rerun this cell to show the HTML representation or trust the notebook. <br />On GitHub, the HTML representation is unable to render, please try loading this page with nbviewer.org.</b></div><div class=\"sk-container\" hidden><div class=\"sk-item\"><div class=\"sk-estimator sk-toggleable\"><input class=\"sk-toggleable__control sk-hidden--visually\" id=\"sk-estimator-id-8\" type=\"checkbox\" checked><label for=\"sk-estimator-id-8\" class=\"sk-toggleable__label sk-toggleable__label-arrow\">ElasticNet</label><div class=\"sk-toggleable__content\"><pre>ElasticNet(alpha=0.1)</pre></div></div></div></div></div>"
      ],
      "text/plain": [
       "ElasticNet(alpha=0.1)"
      ]
     },
     "execution_count": 19,
     "metadata": {},
     "output_type": "execute_result"
    }
   ],
   "source": [
    "# ElasticNet\n",
    "elastic_net_pca = linear_model.ElasticNet(alpha=0.1)\n",
    "elastic_net_pca.fit(X_train_pca, y_train)"
   ]
  },
  {
   "cell_type": "code",
   "execution_count": 20,
   "id": "e022cafd",
   "metadata": {},
   "outputs": [
    {
     "name": "stdout",
     "output_type": "stream",
     "text": [
      "--------------------------------------------\n",
      "             LINEAR REGRESSION\n",
      "--------------------------------------------\n",
      "Mean Squared Error: 104.98112715210857\n",
      "r^2:  -0.08277063863319811\n",
      "[ -7.2969667   -7.28249593  -7.31605287 ... -25.43687504 -25.5380515\n",
      " -25.12796033]\n",
      "[-19.50425754 -19.50425754 -19.50425754 ... -19.50425754 -19.50425754\n",
      " -19.50425754]\n",
      "--------------------------------------------\n",
      "               BAYESIAN RIDGE\n",
      "--------------------------------------------\n",
      "Mean Squared Error: 370.04138434071217\n",
      "r^2:  -2.8165902473381665\n",
      "[ -7.2969667   -7.28249593  -7.31605287 ... -25.43687504 -25.5380515\n",
      " -25.12796033]\n",
      "[-21.87719405 -21.87719405 -21.87719405 ... -21.87719405 -21.87719405\n",
      " -21.87719405]\n",
      "--------------------------------------------\n",
      "                   LASSO\n",
      "--------------------------------------------\n",
      "Mean Squared Error: 104.98112715210864\n",
      "r^2:  -0.08277063863319878\n",
      "[ -7.2969667   -7.28249593  -7.31605287 ... -25.43687504 -25.5380515\n",
      " -25.12796033]\n",
      "[-19.50425754 -19.50425754 -19.50425754 ... -19.50425754 -19.50425754\n",
      " -19.50425754]\n",
      "--------------------------------------------\n",
      "               ELASTIC NET\n",
      "--------------------------------------------\n",
      "Mean Squared Error: 104.98112715210864\n",
      "r^2:  -0.08277063863319878\n",
      "[ -7.2969667   -7.28249593  -7.31605287 ... -25.43687504 -25.5380515\n",
      " -25.12796033]\n",
      "[-19.50425754 -19.50425754 -19.50425754 ... -19.50425754 -19.50425754\n",
      " -19.50425754]\n"
     ]
    }
   ],
   "source": [
    "print(\"--------------------------------------------\")\n",
    "print(\"             LINEAR REGRESSION\")\n",
    "print(\"--------------------------------------------\")\n",
    "\n",
    "# Predict probabilities on the test set\n",
    "l_reg_predictions = l_reg_pca.predict(X_test_pca)\n",
    "\n",
    "# Evaluate the model using mean squared error (MSE)\n",
    "l_reg_mse = mean_squared_error(y_test, l_reg_predictions)\n",
    "print(\"Mean Squared Error:\", l_reg_mse)\n",
    "\n",
    "# Evaluate the model using r^2 value\n",
    "print(\"r^2: \", l_reg_pca.score(X_test_pca, y_test))\n",
    "\n",
    "# print out predictions and actual values to compare visually\n",
    "print(y_test)\n",
    "print(l_reg_predictions)\n",
    "\n",
    "print(\"--------------------------------------------\")\n",
    "print(\"               BAYESIAN RIDGE\")\n",
    "print(\"--------------------------------------------\")\n",
    "\n",
    "# Predict probabilities on the test set\n",
    "b_ridge_predictions = b_ridge_pca.predict(X_test_pca)\n",
    "\n",
    "# Evaluate the model using mean squared error (MSE)\n",
    "b_ridge_mse = mean_squared_error(y_test, b_ridge_predictions)\n",
    "print(\"Mean Squared Error:\", b_ridge_mse)\n",
    "\n",
    "# Evaluate the model using r^2 value\n",
    "print(\"r^2: \", b_ridge_pca.score(X_test_pca, y_test))\n",
    "\n",
    "# print out predictions and actual values to compare visually\n",
    "print(y_test)\n",
    "print(b_ridge_predictions)\n",
    "\n",
    "print(\"--------------------------------------------\")\n",
    "print(\"                   LASSO\")\n",
    "print(\"--------------------------------------------\")\n",
    "\n",
    "# Predict probabilities on the test set\n",
    "lasso_predictions = lasso_pca.predict(X_test_pca)\n",
    "\n",
    "# Evaluate the model using mean squared error (MSE)\n",
    "lasso_mse = mean_squared_error(y_test, lasso_predictions)\n",
    "print(\"Mean Squared Error:\", lasso_mse)\n",
    "\n",
    "# Evaluate the model using r^2 value\n",
    "print(\"r^2: \", lasso_pca.score(X_test_pca, y_test))\n",
    "\n",
    "# print out predictions and actual values to compare visually\n",
    "print(y_test)\n",
    "print(lasso_predictions)\n",
    "\n",
    "print(\"--------------------------------------------\")\n",
    "print(\"               ELASTIC NET\")\n",
    "print(\"--------------------------------------------\")\n",
    "\n",
    "# Predict probabilities on the test set\n",
    "elastic_predictions = elastic_net_pca.predict(X_test_pca)\n",
    "\n",
    "# Evaluate the model using mean squared error (MSE)\n",
    "elastic_mse = mean_squared_error(y_test, elastic_predictions)\n",
    "print(\"Mean Squared Error:\", elastic_mse)\n",
    "\n",
    "# Evaluate the model using r^2 value\n",
    "print(\"r^2: \", elastic_net_pca.score(X_test_pca, y_test))\n",
    "\n",
    "# print out predictions and actual values to compare visually\n",
    "print(y_test)\n",
    "print(elastic_predictions)"
   ]
  },
  {
   "cell_type": "code",
   "execution_count": 45,
   "id": "04372bce",
   "metadata": {},
   "outputs": [
    {
     "name": "stderr",
     "output_type": "stream",
     "text": [
      "/Users/rakeshmehta/anaconda3/lib/python3.11/site-packages/sklearn/linear_model/_coordinate_descent.py:628: ConvergenceWarning: Objective did not converge. You might want to increase the number of iterations, check the scale of the features or consider increasing regularisation. Duality gap: 1.625e+04, tolerance: 1.630e+03\n",
      "  model = cd_fast.enet_coordinate_descent(\n",
      "/Users/rakeshmehta/anaconda3/lib/python3.11/site-packages/sklearn/linear_model/_coordinate_descent.py:628: ConvergenceWarning: Objective did not converge. You might want to increase the number of iterations, check the scale of the features or consider increasing regularisation. Duality gap: 1.210e+05, tolerance: 1.630e+03\n",
      "  model = cd_fast.enet_coordinate_descent(\n",
      "/Users/rakeshmehta/anaconda3/lib/python3.11/site-packages/sklearn/linear_model/_coordinate_descent.py:628: ConvergenceWarning: Objective did not converge. You might want to increase the number of iterations, check the scale of the features or consider increasing regularisation. Duality gap: 1.300e+04, tolerance: 1.302e+03\n",
      "  model = cd_fast.enet_coordinate_descent(\n",
      "/Users/rakeshmehta/anaconda3/lib/python3.11/site-packages/sklearn/linear_model/_coordinate_descent.py:628: ConvergenceWarning: Objective did not converge. You might want to increase the number of iterations, check the scale of the features or consider increasing regularisation. Duality gap: 1.300e+04, tolerance: 1.307e+03\n",
      "  model = cd_fast.enet_coordinate_descent(\n",
      "/Users/rakeshmehta/anaconda3/lib/python3.11/site-packages/sklearn/linear_model/_coordinate_descent.py:628: ConvergenceWarning: Objective did not converge. You might want to increase the number of iterations, check the scale of the features or consider increasing regularisation. Duality gap: 1.300e+04, tolerance: 1.307e+03\n",
      "  model = cd_fast.enet_coordinate_descent(\n",
      "/Users/rakeshmehta/anaconda3/lib/python3.11/site-packages/sklearn/linear_model/_coordinate_descent.py:628: ConvergenceWarning: Objective did not converge. You might want to increase the number of iterations, check the scale of the features or consider increasing regularisation. Duality gap: 1.300e+04, tolerance: 1.305e+03\n",
      "  model = cd_fast.enet_coordinate_descent(\n",
      "/Users/rakeshmehta/anaconda3/lib/python3.11/site-packages/sklearn/linear_model/_coordinate_descent.py:628: ConvergenceWarning: Objective did not converge. You might want to increase the number of iterations, check the scale of the features or consider increasing regularisation. Duality gap: 1.300e+04, tolerance: 1.299e+03\n",
      "  model = cd_fast.enet_coordinate_descent(\n",
      "/Users/rakeshmehta/anaconda3/lib/python3.11/site-packages/sklearn/linear_model/_coordinate_descent.py:628: ConvergenceWarning: Objective did not converge. You might want to increase the number of iterations, check the scale of the features or consider increasing regularisation. Duality gap: 9.678e+04, tolerance: 1.302e+03\n",
      "  model = cd_fast.enet_coordinate_descent(\n",
      "/Users/rakeshmehta/anaconda3/lib/python3.11/site-packages/sklearn/linear_model/_coordinate_descent.py:628: ConvergenceWarning: Objective did not converge. You might want to increase the number of iterations, check the scale of the features or consider increasing regularisation. Duality gap: 9.678e+04, tolerance: 1.307e+03\n",
      "  model = cd_fast.enet_coordinate_descent(\n",
      "/Users/rakeshmehta/anaconda3/lib/python3.11/site-packages/sklearn/linear_model/_coordinate_descent.py:628: ConvergenceWarning: Objective did not converge. You might want to increase the number of iterations, check the scale of the features or consider increasing regularisation. Duality gap: 9.678e+04, tolerance: 1.307e+03\n",
      "  model = cd_fast.enet_coordinate_descent(\n",
      "/Users/rakeshmehta/anaconda3/lib/python3.11/site-packages/sklearn/linear_model/_coordinate_descent.py:628: ConvergenceWarning: Objective did not converge. You might want to increase the number of iterations, check the scale of the features or consider increasing regularisation. Duality gap: 9.679e+04, tolerance: 1.305e+03\n",
      "  model = cd_fast.enet_coordinate_descent(\n",
      "/Users/rakeshmehta/anaconda3/lib/python3.11/site-packages/sklearn/linear_model/_coordinate_descent.py:628: ConvergenceWarning: Objective did not converge. You might want to increase the number of iterations, check the scale of the features or consider increasing regularisation. Duality gap: 9.678e+04, tolerance: 1.299e+03\n",
      "  model = cd_fast.enet_coordinate_descent(\n"
     ]
    },
    {
     "data": {
      "text/html": [
       "<style>#sk-container-id-18 {color: black;}#sk-container-id-18 pre{padding: 0;}#sk-container-id-18 div.sk-toggleable {background-color: white;}#sk-container-id-18 label.sk-toggleable__label {cursor: pointer;display: block;width: 100%;margin-bottom: 0;padding: 0.3em;box-sizing: border-box;text-align: center;}#sk-container-id-18 label.sk-toggleable__label-arrow:before {content: \"▸\";float: left;margin-right: 0.25em;color: #696969;}#sk-container-id-18 label.sk-toggleable__label-arrow:hover:before {color: black;}#sk-container-id-18 div.sk-estimator:hover label.sk-toggleable__label-arrow:before {color: black;}#sk-container-id-18 div.sk-toggleable__content {max-height: 0;max-width: 0;overflow: hidden;text-align: left;background-color: #f0f8ff;}#sk-container-id-18 div.sk-toggleable__content pre {margin: 0.2em;color: black;border-radius: 0.25em;background-color: #f0f8ff;}#sk-container-id-18 input.sk-toggleable__control:checked~div.sk-toggleable__content {max-height: 200px;max-width: 100%;overflow: auto;}#sk-container-id-18 input.sk-toggleable__control:checked~label.sk-toggleable__label-arrow:before {content: \"▾\";}#sk-container-id-18 div.sk-estimator input.sk-toggleable__control:checked~label.sk-toggleable__label {background-color: #d4ebff;}#sk-container-id-18 div.sk-label input.sk-toggleable__control:checked~label.sk-toggleable__label {background-color: #d4ebff;}#sk-container-id-18 input.sk-hidden--visually {border: 0;clip: rect(1px 1px 1px 1px);clip: rect(1px, 1px, 1px, 1px);height: 1px;margin: -1px;overflow: hidden;padding: 0;position: absolute;width: 1px;}#sk-container-id-18 div.sk-estimator {font-family: monospace;background-color: #f0f8ff;border: 1px dotted black;border-radius: 0.25em;box-sizing: border-box;margin-bottom: 0.5em;}#sk-container-id-18 div.sk-estimator:hover {background-color: #d4ebff;}#sk-container-id-18 div.sk-parallel-item::after {content: \"\";width: 100%;border-bottom: 1px solid gray;flex-grow: 1;}#sk-container-id-18 div.sk-label:hover label.sk-toggleable__label {background-color: #d4ebff;}#sk-container-id-18 div.sk-serial::before {content: \"\";position: absolute;border-left: 1px solid gray;box-sizing: border-box;top: 0;bottom: 0;left: 50%;z-index: 0;}#sk-container-id-18 div.sk-serial {display: flex;flex-direction: column;align-items: center;background-color: white;padding-right: 0.2em;padding-left: 0.2em;position: relative;}#sk-container-id-18 div.sk-item {position: relative;z-index: 1;}#sk-container-id-18 div.sk-parallel {display: flex;align-items: stretch;justify-content: center;background-color: white;position: relative;}#sk-container-id-18 div.sk-item::before, #sk-container-id-18 div.sk-parallel-item::before {content: \"\";position: absolute;border-left: 1px solid gray;box-sizing: border-box;top: 0;bottom: 0;left: 50%;z-index: -1;}#sk-container-id-18 div.sk-parallel-item {display: flex;flex-direction: column;z-index: 1;position: relative;background-color: white;}#sk-container-id-18 div.sk-parallel-item:first-child::after {align-self: flex-end;width: 50%;}#sk-container-id-18 div.sk-parallel-item:last-child::after {align-self: flex-start;width: 50%;}#sk-container-id-18 div.sk-parallel-item:only-child::after {width: 0;}#sk-container-id-18 div.sk-dashed-wrapped {border: 1px dashed gray;margin: 0 0.4em 0.5em 0.4em;box-sizing: border-box;padding-bottom: 0.4em;background-color: white;}#sk-container-id-18 div.sk-label label {font-family: monospace;font-weight: bold;display: inline-block;line-height: 1.2em;}#sk-container-id-18 div.sk-label-container {text-align: center;}#sk-container-id-18 div.sk-container {/* jupyter's `normalize.less` sets `[hidden] { display: none; }` but bootstrap.min.css set `[hidden] { display: none !important; }` so we also need the `!important` here to be able to override the default hidden behavior on the sphinx rendered scikit-learn.org. See: https://github.com/scikit-learn/scikit-learn/issues/21755 */display: inline-block !important;position: relative;}#sk-container-id-18 div.sk-text-repr-fallback {display: none;}</style><div id=\"sk-container-id-18\" class=\"sk-top-container\"><div class=\"sk-text-repr-fallback\"><pre>StackingRegressor(estimators=[(&#x27;lasso&#x27;, Lasso(alpha=0.1)),\n",
       "                              (&#x27;elasticnet&#x27;, ElasticNet())],\n",
       "                  final_estimator=GradientBoostingRegressor(max_features=1,\n",
       "                                                            min_samples_leaf=25,\n",
       "                                                            n_estimators=25,\n",
       "                                                            random_state=42,\n",
       "                                                            subsample=0.5))</pre><b>In a Jupyter environment, please rerun this cell to show the HTML representation or trust the notebook. <br />On GitHub, the HTML representation is unable to render, please try loading this page with nbviewer.org.</b></div><div class=\"sk-container\" hidden><div class=\"sk-item sk-dashed-wrapped\"><div class=\"sk-label-container\"><div class=\"sk-label sk-toggleable\"><input class=\"sk-toggleable__control sk-hidden--visually\" id=\"sk-estimator-id-21\" type=\"checkbox\" ><label for=\"sk-estimator-id-21\" class=\"sk-toggleable__label sk-toggleable__label-arrow\">StackingRegressor</label><div class=\"sk-toggleable__content\"><pre>StackingRegressor(estimators=[(&#x27;lasso&#x27;, Lasso(alpha=0.1)),\n",
       "                              (&#x27;elasticnet&#x27;, ElasticNet())],\n",
       "                  final_estimator=GradientBoostingRegressor(max_features=1,\n",
       "                                                            min_samples_leaf=25,\n",
       "                                                            n_estimators=25,\n",
       "                                                            random_state=42,\n",
       "                                                            subsample=0.5))</pre></div></div></div><div class=\"sk-serial\"><div class=\"sk-item\"><div class=\"sk-parallel\"><div class=\"sk-parallel-item\"><div class=\"sk-item\"><div class=\"sk-label-container\"><div class=\"sk-label sk-toggleable\"><label>lasso</label></div></div><div class=\"sk-serial\"><div class=\"sk-item\"><div class=\"sk-estimator sk-toggleable\"><input class=\"sk-toggleable__control sk-hidden--visually\" id=\"sk-estimator-id-22\" type=\"checkbox\" ><label for=\"sk-estimator-id-22\" class=\"sk-toggleable__label sk-toggleable__label-arrow\">Lasso</label><div class=\"sk-toggleable__content\"><pre>Lasso(alpha=0.1)</pre></div></div></div></div></div></div><div class=\"sk-parallel-item\"><div class=\"sk-item\"><div class=\"sk-label-container\"><div class=\"sk-label sk-toggleable\"><label>elasticnet</label></div></div><div class=\"sk-serial\"><div class=\"sk-item\"><div class=\"sk-estimator sk-toggleable\"><input class=\"sk-toggleable__control sk-hidden--visually\" id=\"sk-estimator-id-23\" type=\"checkbox\" ><label for=\"sk-estimator-id-23\" class=\"sk-toggleable__label sk-toggleable__label-arrow\">ElasticNet</label><div class=\"sk-toggleable__content\"><pre>ElasticNet()</pre></div></div></div></div></div></div></div></div><div class=\"sk-item\"><div class=\"sk-parallel\"><div class=\"sk-parallel-item\"><div class=\"sk-item\"><div class=\"sk-label-container\"><div class=\"sk-label sk-toggleable\"><label>final_estimator</label></div></div><div class=\"sk-serial\"><div class=\"sk-item\"><div class=\"sk-estimator sk-toggleable\"><input class=\"sk-toggleable__control sk-hidden--visually\" id=\"sk-estimator-id-24\" type=\"checkbox\" ><label for=\"sk-estimator-id-24\" class=\"sk-toggleable__label sk-toggleable__label-arrow\">GradientBoostingRegressor</label><div class=\"sk-toggleable__content\"><pre>GradientBoostingRegressor(max_features=1, min_samples_leaf=25, n_estimators=25,\n",
       "                          random_state=42, subsample=0.5)</pre></div></div></div></div></div></div></div></div></div></div></div></div>"
      ],
      "text/plain": [
       "StackingRegressor(estimators=[('lasso', Lasso(alpha=0.1)),\n",
       "                              ('elasticnet', ElasticNet())],\n",
       "                  final_estimator=GradientBoostingRegressor(max_features=1,\n",
       "                                                            min_samples_leaf=25,\n",
       "                                                            n_estimators=25,\n",
       "                                                            random_state=42,\n",
       "                                                            subsample=0.5))"
      ]
     },
     "execution_count": 45,
     "metadata": {},
     "output_type": "execute_result"
    }
   ],
   "source": [
    "#create a dictionary of our models\n",
    "estimators=[('lasso', lasso_model), ('elasticnet', elastic_net)]\n",
    "\n",
    "# set up the ensemble, using a gradient boosting regressor in this case\n",
    "final_estimator = GradientBoostingRegressor(n_estimators=25, subsample=0.5, min_samples_leaf=25, \n",
    "                                            max_features=1, random_state=42)\n",
    "reg = StackingRegressor(estimators=estimators, final_estimator=final_estimator)\n",
    "reg.fit(X_train, y_train)"
   ]
  },
  {
   "cell_type": "code",
   "execution_count": 46,
   "id": "c871e8ac",
   "metadata": {},
   "outputs": [
    {
     "name": "stdout",
     "output_type": "stream",
     "text": [
      "--------------------------------------------\n",
      "              GRADIENT BOOSTING\n",
      "--------------------------------------------\n",
      "Mean Squared Error: 0.610068935705113\n",
      "r^2:  0.9937077763494899\n",
      "[ -7.2969667   -7.28249593  -7.31605287 ... -25.43687504 -25.5380515\n",
      " -25.12796033]\n",
      "[ -8.17947859  -8.17947859  -8.17947859 ... -25.04166825 -25.04166825\n",
      " -24.58810217]\n"
     ]
    }
   ],
   "source": [
    "print(\"--------------------------------------------\")\n",
    "print(\"              GRADIENT BOOSTING\")\n",
    "print(\"--------------------------------------------\")\n",
    "\n",
    "# Predict probabilities on the test set\n",
    "reg_predictions = reg.predict(X_test)\n",
    "\n",
    "# Evaluate the model using mean squared error (MSE)\n",
    "reg_mse = mean_squared_error(y_test, reg_predictions)\n",
    "print(\"Mean Squared Error:\", reg_mse)\n",
    "\n",
    "# Evaluate the model using r^2 value\n",
    "print(\"r^2: \", reg.score(X_test, y_test))\n",
    "\n",
    "# print out predictions and actual values to compare visually\n",
    "print(y_test)\n",
    "print(reg_predictions)"
   ]
  },
  {
   "cell_type": "code",
   "execution_count": 23,
   "id": "7a731b47",
   "metadata": {},
   "outputs": [
    {
     "name": "stderr",
     "output_type": "stream",
     "text": [
      "/Users/rakeshmehta/anaconda3/lib/python3.11/site-packages/sklearn/linear_model/_coordinate_descent.py:628: ConvergenceWarning: Objective did not converge. You might want to increase the number of iterations, check the scale of the features or consider increasing regularisation. Duality gap: 1.300e+04, tolerance: 1.302e+03\n",
      "  model = cd_fast.enet_coordinate_descent(\n",
      "/Users/rakeshmehta/anaconda3/lib/python3.11/site-packages/sklearn/linear_model/_coordinate_descent.py:628: ConvergenceWarning: Objective did not converge. You might want to increase the number of iterations, check the scale of the features or consider increasing regularisation. Duality gap: 9.678e+04, tolerance: 1.302e+03\n",
      "  model = cd_fast.enet_coordinate_descent(\n",
      "/Users/rakeshmehta/anaconda3/lib/python3.11/site-packages/sklearn/linear_model/_coordinate_descent.py:628: ConvergenceWarning: Objective did not converge. You might want to increase the number of iterations, check the scale of the features or consider increasing regularisation. Duality gap: 1.040e+04, tolerance: 1.043e+03\n",
      "  model = cd_fast.enet_coordinate_descent(\n",
      "/Users/rakeshmehta/anaconda3/lib/python3.11/site-packages/sklearn/linear_model/_coordinate_descent.py:628: ConvergenceWarning: Objective did not converge. You might want to increase the number of iterations, check the scale of the features or consider increasing regularisation. Duality gap: 1.040e+04, tolerance: 1.043e+03\n",
      "  model = cd_fast.enet_coordinate_descent(\n",
      "/Users/rakeshmehta/anaconda3/lib/python3.11/site-packages/sklearn/linear_model/_coordinate_descent.py:628: ConvergenceWarning: Objective did not converge. You might want to increase the number of iterations, check the scale of the features or consider increasing regularisation. Duality gap: 1.040e+04, tolerance: 1.044e+03\n",
      "  model = cd_fast.enet_coordinate_descent(\n",
      "/Users/rakeshmehta/anaconda3/lib/python3.11/site-packages/sklearn/linear_model/_coordinate_descent.py:628: ConvergenceWarning: Objective did not converge. You might want to increase the number of iterations, check the scale of the features or consider increasing regularisation. Duality gap: 1.040e+04, tolerance: 1.041e+03\n",
      "  model = cd_fast.enet_coordinate_descent(\n",
      "/Users/rakeshmehta/anaconda3/lib/python3.11/site-packages/sklearn/linear_model/_coordinate_descent.py:628: ConvergenceWarning: Objective did not converge. You might want to increase the number of iterations, check the scale of the features or consider increasing regularisation. Duality gap: 1.040e+04, tolerance: 1.039e+03\n",
      "  model = cd_fast.enet_coordinate_descent(\n",
      "/Users/rakeshmehta/anaconda3/lib/python3.11/site-packages/sklearn/linear_model/_coordinate_descent.py:628: ConvergenceWarning: Objective did not converge. You might want to increase the number of iterations, check the scale of the features or consider increasing regularisation. Duality gap: 7.742e+04, tolerance: 1.043e+03\n",
      "  model = cd_fast.enet_coordinate_descent(\n",
      "/Users/rakeshmehta/anaconda3/lib/python3.11/site-packages/sklearn/linear_model/_coordinate_descent.py:628: ConvergenceWarning: Objective did not converge. You might want to increase the number of iterations, check the scale of the features or consider increasing regularisation. Duality gap: 7.743e+04, tolerance: 1.043e+03\n",
      "  model = cd_fast.enet_coordinate_descent(\n",
      "/Users/rakeshmehta/anaconda3/lib/python3.11/site-packages/sklearn/linear_model/_coordinate_descent.py:628: ConvergenceWarning: Objective did not converge. You might want to increase the number of iterations, check the scale of the features or consider increasing regularisation. Duality gap: 7.743e+04, tolerance: 1.044e+03\n",
      "  model = cd_fast.enet_coordinate_descent(\n",
      "/Users/rakeshmehta/anaconda3/lib/python3.11/site-packages/sklearn/linear_model/_coordinate_descent.py:628: ConvergenceWarning: Objective did not converge. You might want to increase the number of iterations, check the scale of the features or consider increasing regularisation. Duality gap: 7.743e+04, tolerance: 1.041e+03\n",
      "  model = cd_fast.enet_coordinate_descent(\n",
      "/Users/rakeshmehta/anaconda3/lib/python3.11/site-packages/sklearn/linear_model/_coordinate_descent.py:628: ConvergenceWarning: Objective did not converge. You might want to increase the number of iterations, check the scale of the features or consider increasing regularisation. Duality gap: 7.743e+04, tolerance: 1.039e+03\n",
      "  model = cd_fast.enet_coordinate_descent(\n",
      "/Users/rakeshmehta/anaconda3/lib/python3.11/site-packages/sklearn/linear_model/_coordinate_descent.py:628: ConvergenceWarning: Objective did not converge. You might want to increase the number of iterations, check the scale of the features or consider increasing regularisation. Duality gap: 1.300e+04, tolerance: 1.307e+03\n",
      "  model = cd_fast.enet_coordinate_descent(\n",
      "/Users/rakeshmehta/anaconda3/lib/python3.11/site-packages/sklearn/linear_model/_coordinate_descent.py:628: ConvergenceWarning: Objective did not converge. You might want to increase the number of iterations, check the scale of the features or consider increasing regularisation. Duality gap: 9.678e+04, tolerance: 1.307e+03\n",
      "  model = cd_fast.enet_coordinate_descent(\n",
      "/Users/rakeshmehta/anaconda3/lib/python3.11/site-packages/sklearn/linear_model/_coordinate_descent.py:628: ConvergenceWarning: Objective did not converge. You might want to increase the number of iterations, check the scale of the features or consider increasing regularisation. Duality gap: 1.040e+04, tolerance: 1.046e+03\n",
      "  model = cd_fast.enet_coordinate_descent(\n",
      "/Users/rakeshmehta/anaconda3/lib/python3.11/site-packages/sklearn/linear_model/_coordinate_descent.py:628: ConvergenceWarning: Objective did not converge. You might want to increase the number of iterations, check the scale of the features or consider increasing regularisation. Duality gap: 1.040e+04, tolerance: 1.045e+03\n",
      "  model = cd_fast.enet_coordinate_descent(\n",
      "/Users/rakeshmehta/anaconda3/lib/python3.11/site-packages/sklearn/linear_model/_coordinate_descent.py:628: ConvergenceWarning: Objective did not converge. You might want to increase the number of iterations, check the scale of the features or consider increasing regularisation. Duality gap: 1.040e+04, tolerance: 1.049e+03\n",
      "  model = cd_fast.enet_coordinate_descent(\n",
      "/Users/rakeshmehta/anaconda3/lib/python3.11/site-packages/sklearn/linear_model/_coordinate_descent.py:628: ConvergenceWarning: Objective did not converge. You might want to increase the number of iterations, check the scale of the features or consider increasing regularisation. Duality gap: 1.040e+04, tolerance: 1.046e+03\n",
      "  model = cd_fast.enet_coordinate_descent(\n",
      "/Users/rakeshmehta/anaconda3/lib/python3.11/site-packages/sklearn/linear_model/_coordinate_descent.py:628: ConvergenceWarning: Objective did not converge. You might want to increase the number of iterations, check the scale of the features or consider increasing regularisation. Duality gap: 1.040e+04, tolerance: 1.044e+03\n",
      "  model = cd_fast.enet_coordinate_descent(\n",
      "/Users/rakeshmehta/anaconda3/lib/python3.11/site-packages/sklearn/linear_model/_coordinate_descent.py:628: ConvergenceWarning: Objective did not converge. You might want to increase the number of iterations, check the scale of the features or consider increasing regularisation. Duality gap: 7.742e+04, tolerance: 1.046e+03\n",
      "  model = cd_fast.enet_coordinate_descent(\n",
      "/Users/rakeshmehta/anaconda3/lib/python3.11/site-packages/sklearn/linear_model/_coordinate_descent.py:628: ConvergenceWarning: Objective did not converge. You might want to increase the number of iterations, check the scale of the features or consider increasing regularisation. Duality gap: 7.743e+04, tolerance: 1.045e+03\n",
      "  model = cd_fast.enet_coordinate_descent(\n",
      "/Users/rakeshmehta/anaconda3/lib/python3.11/site-packages/sklearn/linear_model/_coordinate_descent.py:628: ConvergenceWarning: Objective did not converge. You might want to increase the number of iterations, check the scale of the features or consider increasing regularisation. Duality gap: 7.743e+04, tolerance: 1.049e+03\n",
      "  model = cd_fast.enet_coordinate_descent(\n",
      "/Users/rakeshmehta/anaconda3/lib/python3.11/site-packages/sklearn/linear_model/_coordinate_descent.py:628: ConvergenceWarning: Objective did not converge. You might want to increase the number of iterations, check the scale of the features or consider increasing regularisation. Duality gap: 7.743e+04, tolerance: 1.046e+03\n",
      "  model = cd_fast.enet_coordinate_descent(\n"
     ]
    },
    {
     "name": "stderr",
     "output_type": "stream",
     "text": [
      "/Users/rakeshmehta/anaconda3/lib/python3.11/site-packages/sklearn/linear_model/_coordinate_descent.py:628: ConvergenceWarning: Objective did not converge. You might want to increase the number of iterations, check the scale of the features or consider increasing regularisation. Duality gap: 7.743e+04, tolerance: 1.044e+03\n",
      "  model = cd_fast.enet_coordinate_descent(\n",
      "/Users/rakeshmehta/anaconda3/lib/python3.11/site-packages/sklearn/linear_model/_coordinate_descent.py:628: ConvergenceWarning: Objective did not converge. You might want to increase the number of iterations, check the scale of the features or consider increasing regularisation. Duality gap: 1.300e+04, tolerance: 1.307e+03\n",
      "  model = cd_fast.enet_coordinate_descent(\n",
      "/Users/rakeshmehta/anaconda3/lib/python3.11/site-packages/sklearn/linear_model/_coordinate_descent.py:628: ConvergenceWarning: Objective did not converge. You might want to increase the number of iterations, check the scale of the features or consider increasing regularisation. Duality gap: 9.678e+04, tolerance: 1.307e+03\n",
      "  model = cd_fast.enet_coordinate_descent(\n",
      "/Users/rakeshmehta/anaconda3/lib/python3.11/site-packages/sklearn/linear_model/_coordinate_descent.py:628: ConvergenceWarning: Objective did not converge. You might want to increase the number of iterations, check the scale of the features or consider increasing regularisation. Duality gap: 1.040e+04, tolerance: 1.045e+03\n",
      "  model = cd_fast.enet_coordinate_descent(\n",
      "/Users/rakeshmehta/anaconda3/lib/python3.11/site-packages/sklearn/linear_model/_coordinate_descent.py:628: ConvergenceWarning: Objective did not converge. You might want to increase the number of iterations, check the scale of the features or consider increasing regularisation. Duality gap: 1.040e+04, tolerance: 1.046e+03\n",
      "  model = cd_fast.enet_coordinate_descent(\n",
      "/Users/rakeshmehta/anaconda3/lib/python3.11/site-packages/sklearn/linear_model/_coordinate_descent.py:628: ConvergenceWarning: Objective did not converge. You might want to increase the number of iterations, check the scale of the features or consider increasing regularisation. Duality gap: 1.040e+04, tolerance: 1.047e+03\n",
      "  model = cd_fast.enet_coordinate_descent(\n",
      "/Users/rakeshmehta/anaconda3/lib/python3.11/site-packages/sklearn/linear_model/_coordinate_descent.py:628: ConvergenceWarning: Objective did not converge. You might want to increase the number of iterations, check the scale of the features or consider increasing regularisation. Duality gap: 1.040e+04, tolerance: 1.045e+03\n",
      "  model = cd_fast.enet_coordinate_descent(\n",
      "/Users/rakeshmehta/anaconda3/lib/python3.11/site-packages/sklearn/linear_model/_coordinate_descent.py:628: ConvergenceWarning: Objective did not converge. You might want to increase the number of iterations, check the scale of the features or consider increasing regularisation. Duality gap: 1.040e+04, tolerance: 1.043e+03\n",
      "  model = cd_fast.enet_coordinate_descent(\n",
      "/Users/rakeshmehta/anaconda3/lib/python3.11/site-packages/sklearn/linear_model/_coordinate_descent.py:628: ConvergenceWarning: Objective did not converge. You might want to increase the number of iterations, check the scale of the features or consider increasing regularisation. Duality gap: 7.742e+04, tolerance: 1.045e+03\n",
      "  model = cd_fast.enet_coordinate_descent(\n",
      "/Users/rakeshmehta/anaconda3/lib/python3.11/site-packages/sklearn/linear_model/_coordinate_descent.py:628: ConvergenceWarning: Objective did not converge. You might want to increase the number of iterations, check the scale of the features or consider increasing regularisation. Duality gap: 7.743e+04, tolerance: 1.046e+03\n",
      "  model = cd_fast.enet_coordinate_descent(\n",
      "/Users/rakeshmehta/anaconda3/lib/python3.11/site-packages/sklearn/linear_model/_coordinate_descent.py:628: ConvergenceWarning: Objective did not converge. You might want to increase the number of iterations, check the scale of the features or consider increasing regularisation. Duality gap: 7.743e+04, tolerance: 1.047e+03\n",
      "  model = cd_fast.enet_coordinate_descent(\n",
      "/Users/rakeshmehta/anaconda3/lib/python3.11/site-packages/sklearn/linear_model/_coordinate_descent.py:628: ConvergenceWarning: Objective did not converge. You might want to increase the number of iterations, check the scale of the features or consider increasing regularisation. Duality gap: 7.743e+04, tolerance: 1.045e+03\n",
      "  model = cd_fast.enet_coordinate_descent(\n",
      "/Users/rakeshmehta/anaconda3/lib/python3.11/site-packages/sklearn/linear_model/_coordinate_descent.py:628: ConvergenceWarning: Objective did not converge. You might want to increase the number of iterations, check the scale of the features or consider increasing regularisation. Duality gap: 7.743e+04, tolerance: 1.043e+03\n",
      "  model = cd_fast.enet_coordinate_descent(\n",
      "/Users/rakeshmehta/anaconda3/lib/python3.11/site-packages/sklearn/linear_model/_coordinate_descent.py:628: ConvergenceWarning: Objective did not converge. You might want to increase the number of iterations, check the scale of the features or consider increasing regularisation. Duality gap: 1.300e+04, tolerance: 1.305e+03\n",
      "  model = cd_fast.enet_coordinate_descent(\n",
      "/Users/rakeshmehta/anaconda3/lib/python3.11/site-packages/sklearn/linear_model/_coordinate_descent.py:628: ConvergenceWarning: Objective did not converge. You might want to increase the number of iterations, check the scale of the features or consider increasing regularisation. Duality gap: 9.679e+04, tolerance: 1.305e+03\n",
      "  model = cd_fast.enet_coordinate_descent(\n",
      "/Users/rakeshmehta/anaconda3/lib/python3.11/site-packages/sklearn/linear_model/_coordinate_descent.py:628: ConvergenceWarning: Objective did not converge. You might want to increase the number of iterations, check the scale of the features or consider increasing regularisation. Duality gap: 1.040e+04, tolerance: 1.043e+03\n",
      "  model = cd_fast.enet_coordinate_descent(\n",
      "/Users/rakeshmehta/anaconda3/lib/python3.11/site-packages/sklearn/linear_model/_coordinate_descent.py:628: ConvergenceWarning: Objective did not converge. You might want to increase the number of iterations, check the scale of the features or consider increasing regularisation. Duality gap: 1.040e+04, tolerance: 1.044e+03\n",
      "  model = cd_fast.enet_coordinate_descent(\n",
      "/Users/rakeshmehta/anaconda3/lib/python3.11/site-packages/sklearn/linear_model/_coordinate_descent.py:628: ConvergenceWarning: Objective did not converge. You might want to increase the number of iterations, check the scale of the features or consider increasing regularisation. Duality gap: 1.040e+04, tolerance: 1.046e+03\n",
      "  model = cd_fast.enet_coordinate_descent(\n",
      "/Users/rakeshmehta/anaconda3/lib/python3.11/site-packages/sklearn/linear_model/_coordinate_descent.py:628: ConvergenceWarning: Objective did not converge. You might want to increase the number of iterations, check the scale of the features or consider increasing regularisation. Duality gap: 1.040e+04, tolerance: 1.044e+03\n",
      "  model = cd_fast.enet_coordinate_descent(\n",
      "/Users/rakeshmehta/anaconda3/lib/python3.11/site-packages/sklearn/linear_model/_coordinate_descent.py:628: ConvergenceWarning: Objective did not converge. You might want to increase the number of iterations, check the scale of the features or consider increasing regularisation. Duality gap: 1.040e+04, tolerance: 1.041e+03\n",
      "  model = cd_fast.enet_coordinate_descent(\n",
      "/Users/rakeshmehta/anaconda3/lib/python3.11/site-packages/sklearn/linear_model/_coordinate_descent.py:628: ConvergenceWarning: Objective did not converge. You might want to increase the number of iterations, check the scale of the features or consider increasing regularisation. Duality gap: 7.743e+04, tolerance: 1.043e+03\n",
      "  model = cd_fast.enet_coordinate_descent(\n",
      "/Users/rakeshmehta/anaconda3/lib/python3.11/site-packages/sklearn/linear_model/_coordinate_descent.py:628: ConvergenceWarning: Objective did not converge. You might want to increase the number of iterations, check the scale of the features or consider increasing regularisation. Duality gap: 7.743e+04, tolerance: 1.044e+03\n",
      "  model = cd_fast.enet_coordinate_descent(\n",
      "/Users/rakeshmehta/anaconda3/lib/python3.11/site-packages/sklearn/linear_model/_coordinate_descent.py:628: ConvergenceWarning: Objective did not converge. You might want to increase the number of iterations, check the scale of the features or consider increasing regularisation. Duality gap: 7.743e+04, tolerance: 1.046e+03\n",
      "  model = cd_fast.enet_coordinate_descent(\n"
     ]
    },
    {
     "name": "stderr",
     "output_type": "stream",
     "text": [
      "/Users/rakeshmehta/anaconda3/lib/python3.11/site-packages/sklearn/linear_model/_coordinate_descent.py:628: ConvergenceWarning: Objective did not converge. You might want to increase the number of iterations, check the scale of the features or consider increasing regularisation. Duality gap: 7.743e+04, tolerance: 1.044e+03\n",
      "  model = cd_fast.enet_coordinate_descent(\n",
      "/Users/rakeshmehta/anaconda3/lib/python3.11/site-packages/sklearn/linear_model/_coordinate_descent.py:628: ConvergenceWarning: Objective did not converge. You might want to increase the number of iterations, check the scale of the features or consider increasing regularisation. Duality gap: 7.743e+04, tolerance: 1.041e+03\n",
      "  model = cd_fast.enet_coordinate_descent(\n",
      "/Users/rakeshmehta/anaconda3/lib/python3.11/site-packages/sklearn/linear_model/_coordinate_descent.py:628: ConvergenceWarning: Objective did not converge. You might want to increase the number of iterations, check the scale of the features or consider increasing regularisation. Duality gap: 1.300e+04, tolerance: 1.299e+03\n",
      "  model = cd_fast.enet_coordinate_descent(\n",
      "/Users/rakeshmehta/anaconda3/lib/python3.11/site-packages/sklearn/linear_model/_coordinate_descent.py:628: ConvergenceWarning: Objective did not converge. You might want to increase the number of iterations, check the scale of the features or consider increasing regularisation. Duality gap: 9.678e+04, tolerance: 1.299e+03\n",
      "  model = cd_fast.enet_coordinate_descent(\n",
      "/Users/rakeshmehta/anaconda3/lib/python3.11/site-packages/sklearn/linear_model/_coordinate_descent.py:628: ConvergenceWarning: Objective did not converge. You might want to increase the number of iterations, check the scale of the features or consider increasing regularisation. Duality gap: 1.040e+04, tolerance: 1.038e+03\n",
      "  model = cd_fast.enet_coordinate_descent(\n",
      "/Users/rakeshmehta/anaconda3/lib/python3.11/site-packages/sklearn/linear_model/_coordinate_descent.py:628: ConvergenceWarning: Objective did not converge. You might want to increase the number of iterations, check the scale of the features or consider increasing regularisation. Duality gap: 1.040e+04, tolerance: 1.039e+03\n",
      "  model = cd_fast.enet_coordinate_descent(\n",
      "/Users/rakeshmehta/anaconda3/lib/python3.11/site-packages/sklearn/linear_model/_coordinate_descent.py:628: ConvergenceWarning: Objective did not converge. You might want to increase the number of iterations, check the scale of the features or consider increasing regularisation. Duality gap: 1.040e+04, tolerance: 1.041e+03\n",
      "  model = cd_fast.enet_coordinate_descent(\n",
      "/Users/rakeshmehta/anaconda3/lib/python3.11/site-packages/sklearn/linear_model/_coordinate_descent.py:628: ConvergenceWarning: Objective did not converge. You might want to increase the number of iterations, check the scale of the features or consider increasing regularisation. Duality gap: 1.040e+04, tolerance: 1.042e+03\n",
      "  model = cd_fast.enet_coordinate_descent(\n",
      "/Users/rakeshmehta/anaconda3/lib/python3.11/site-packages/sklearn/linear_model/_coordinate_descent.py:628: ConvergenceWarning: Objective did not converge. You might want to increase the number of iterations, check the scale of the features or consider increasing regularisation. Duality gap: 1.040e+04, tolerance: 1.037e+03\n",
      "  model = cd_fast.enet_coordinate_descent(\n",
      "/Users/rakeshmehta/anaconda3/lib/python3.11/site-packages/sklearn/linear_model/_coordinate_descent.py:628: ConvergenceWarning: Objective did not converge. You might want to increase the number of iterations, check the scale of the features or consider increasing regularisation. Duality gap: 7.743e+04, tolerance: 1.038e+03\n",
      "  model = cd_fast.enet_coordinate_descent(\n",
      "/Users/rakeshmehta/anaconda3/lib/python3.11/site-packages/sklearn/linear_model/_coordinate_descent.py:628: ConvergenceWarning: Objective did not converge. You might want to increase the number of iterations, check the scale of the features or consider increasing regularisation. Duality gap: 7.743e+04, tolerance: 1.039e+03\n",
      "  model = cd_fast.enet_coordinate_descent(\n",
      "/Users/rakeshmehta/anaconda3/lib/python3.11/site-packages/sklearn/linear_model/_coordinate_descent.py:628: ConvergenceWarning: Objective did not converge. You might want to increase the number of iterations, check the scale of the features or consider increasing regularisation. Duality gap: 7.743e+04, tolerance: 1.041e+03\n",
      "  model = cd_fast.enet_coordinate_descent(\n",
      "/Users/rakeshmehta/anaconda3/lib/python3.11/site-packages/sklearn/linear_model/_coordinate_descent.py:628: ConvergenceWarning: Objective did not converge. You might want to increase the number of iterations, check the scale of the features or consider increasing regularisation. Duality gap: 7.743e+04, tolerance: 1.042e+03\n",
      "  model = cd_fast.enet_coordinate_descent(\n",
      "/Users/rakeshmehta/anaconda3/lib/python3.11/site-packages/sklearn/linear_model/_coordinate_descent.py:628: ConvergenceWarning: Objective did not converge. You might want to increase the number of iterations, check the scale of the features or consider increasing regularisation. Duality gap: 7.743e+04, tolerance: 1.037e+03\n",
      "  model = cd_fast.enet_coordinate_descent(\n"
     ]
    },
    {
     "name": "stdout",
     "output_type": "stream",
     "text": [
      "[0.99451022 0.99459981 0.99454358 0.99452101 0.99454414]\n"
     ]
    }
   ],
   "source": [
    "# Run Cross-Fold Validation\n",
    "\n",
    "cv_scores = cross_val_score(reg, X_train, y_train, cv=5)\n",
    "print(cv_scores)"
   ]
  },
  {
   "cell_type": "code",
   "execution_count": 47,
   "id": "64e9f7cc",
   "metadata": {},
   "outputs": [
    {
     "data": {
      "text/plain": [
       "['ensemble.joblib']"
      ]
     },
     "execution_count": 47,
     "metadata": {},
     "output_type": "execute_result"
    }
   ],
   "source": [
    "# save the ensembled model in joblib\n",
    "joblib.dump(reg, 'ensemble.joblib')"
   ]
  },
  {
   "cell_type": "code",
   "execution_count": null,
   "id": "19bd95e2",
   "metadata": {},
   "outputs": [],
   "source": []
  }
 ],
 "metadata": {
  "kernelspec": {
   "display_name": "Python 3 (ipykernel)",
   "language": "python",
   "name": "python3"
  },
  "language_info": {
   "codemirror_mode": {
    "name": "ipython",
    "version": 3
   },
   "file_extension": ".py",
   "mimetype": "text/x-python",
   "name": "python",
   "nbconvert_exporter": "python",
   "pygments_lexer": "ipython3",
   "version": "3.11.5"
  }
 },
 "nbformat": 4,
 "nbformat_minor": 5
}
